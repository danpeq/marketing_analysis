{
 "cells": [
  {
   "cell_type": "markdown",
   "metadata": {},
   "source": [
    "# Análisis de Y.Afisha"
   ]
  },
  {
   "cell_type": "markdown",
   "metadata": {},
   "source": [
    "En este proyecto optimizaremos las  los gastos de marketing. Importaremos las librerias necesarias y todos los datasets que registros del servidor con datos sobre las visitas a Y.Afisha desde enero de 2017 hasta diciembre de 2018, esto nos ayudará a la visualizacion de los tipos de datos en cada dataset."
   ]
  },
  {
   "cell_type": "code",
   "execution_count": 115,
   "metadata": {},
   "outputs": [],
   "source": [
    "import pandas as pd\n",
    "from matplotlib import pyplot as plt\n",
    "import seaborn as sns\n",
    "from dateutil.relativedelta import relativedelta"
   ]
  },
  {
   "cell_type": "code",
   "execution_count": 116,
   "metadata": {},
   "outputs": [],
   "source": [
    "visit_data = pd.read_csv('/datasets/visits_log_us.csv')\n",
    "orders_data = pd.read_csv('/datasets/orders_log_us.csv')\n",
    "costs_data = pd.read_csv('/datasets/costs_us.csv')"
   ]
  },
  {
   "cell_type": "markdown",
   "metadata": {},
   "source": [
    "<div class=\"alert alert-block alert-success\">\n",
    "<b>Comentario del revisor (1ra Iteracion)</b> <a class=“tocSkip”></a>\n",
    "\n",
    "Buen trabajo con la importación de librerías y carga de datos\n",
    "</div>"
   ]
  },
  {
   "cell_type": "code",
   "execution_count": 117,
   "metadata": {},
   "outputs": [
    {
     "name": "stdout",
     "output_type": "stream",
     "text": [
      "<class 'pandas.core.frame.DataFrame'>\n",
      "RangeIndex: 359400 entries, 0 to 359399\n",
      "Data columns (total 5 columns):\n",
      " #   Column     Non-Null Count   Dtype \n",
      "---  ------     --------------   ----- \n",
      " 0   Device     359400 non-null  object\n",
      " 1   End Ts     359400 non-null  object\n",
      " 2   Source Id  359400 non-null  int64 \n",
      " 3   Start Ts   359400 non-null  object\n",
      " 4   Uid        359400 non-null  uint64\n",
      "dtypes: int64(1), object(3), uint64(1)\n",
      "memory usage: 13.7+ MB\n",
      "None\n"
     ]
    }
   ],
   "source": [
    "print(visit_data.info())"
   ]
  },
  {
   "cell_type": "code",
   "execution_count": 118,
   "metadata": {},
   "outputs": [
    {
     "name": "stdout",
     "output_type": "stream",
     "text": [
      "<class 'pandas.core.frame.DataFrame'>\n",
      "RangeIndex: 50415 entries, 0 to 50414\n",
      "Data columns (total 3 columns):\n",
      " #   Column   Non-Null Count  Dtype  \n",
      "---  ------   --------------  -----  \n",
      " 0   Buy Ts   50415 non-null  object \n",
      " 1   Revenue  50415 non-null  float64\n",
      " 2   Uid      50415 non-null  uint64 \n",
      "dtypes: float64(1), object(1), uint64(1)\n",
      "memory usage: 1.2+ MB\n",
      "None\n"
     ]
    }
   ],
   "source": [
    "print(orders_data.info())"
   ]
  },
  {
   "cell_type": "code",
   "execution_count": 119,
   "metadata": {},
   "outputs": [
    {
     "name": "stdout",
     "output_type": "stream",
     "text": [
      "<class 'pandas.core.frame.DataFrame'>\n",
      "RangeIndex: 2542 entries, 0 to 2541\n",
      "Data columns (total 3 columns):\n",
      " #   Column     Non-Null Count  Dtype  \n",
      "---  ------     --------------  -----  \n",
      " 0   source_id  2542 non-null   int64  \n",
      " 1   dt         2542 non-null   object \n",
      " 2   costs      2542 non-null   float64\n",
      "dtypes: float64(1), int64(1), object(1)\n",
      "memory usage: 59.7+ KB\n",
      "None\n"
     ]
    }
   ],
   "source": [
    "print(costs_data.info())"
   ]
  },
  {
   "cell_type": "markdown",
   "metadata": {},
   "source": [
    "### Optimizando los datos para el análisis"
   ]
  },
  {
   "cell_type": "markdown",
   "metadata": {},
   "source": [
    "Trabajaremos con grandes volúmenes de datos en el proyecto, para tener cuidado con el manejo de los cálculos y no provoquen errores en el sistema de la plataforma en línea optimizaremos los datos para un mejor análisis."
   ]
  },
  {
   "cell_type": "code",
   "execution_count": 120,
   "metadata": {},
   "outputs": [
    {
     "data": {
      "text/plain": [
       "desktop    262567\n",
       "touch       96833\n",
       "Name: Device, dtype: int64"
      ]
     },
     "execution_count": 120,
     "metadata": {},
     "output_type": "execute_result"
    }
   ],
   "source": [
    "# Cambiando el tipo de datos 'object' a 'category', analizamos las columnas para ganar espacio\n",
    "visit_data['Device'].value_counts()"
   ]
  },
  {
   "cell_type": "code",
   "execution_count": 121,
   "metadata": {},
   "outputs": [
    {
     "data": {
      "text/html": [
       "<div>\n",
       "<style scoped>\n",
       "    .dataframe tbody tr th:only-of-type {\n",
       "        vertical-align: middle;\n",
       "    }\n",
       "\n",
       "    .dataframe tbody tr th {\n",
       "        vertical-align: top;\n",
       "    }\n",
       "\n",
       "    .dataframe thead th {\n",
       "        text-align: right;\n",
       "    }\n",
       "</style>\n",
       "<table border=\"1\" class=\"dataframe\">\n",
       "  <thead>\n",
       "    <tr style=\"text-align: right;\">\n",
       "      <th></th>\n",
       "      <th>Device</th>\n",
       "      <th>End Ts</th>\n",
       "      <th>Source Id</th>\n",
       "      <th>Start Ts</th>\n",
       "      <th>Uid</th>\n",
       "    </tr>\n",
       "  </thead>\n",
       "  <tbody>\n",
       "    <tr>\n",
       "      <th>0</th>\n",
       "      <td>touch</td>\n",
       "      <td>2017-12-20 17:38:00</td>\n",
       "      <td>4</td>\n",
       "      <td>2017-12-20 17:20:00</td>\n",
       "      <td>16879256277535980062</td>\n",
       "    </tr>\n",
       "    <tr>\n",
       "      <th>1</th>\n",
       "      <td>desktop</td>\n",
       "      <td>2018-02-19 17:21:00</td>\n",
       "      <td>2</td>\n",
       "      <td>2018-02-19 16:53:00</td>\n",
       "      <td>104060357244891740</td>\n",
       "    </tr>\n",
       "    <tr>\n",
       "      <th>2</th>\n",
       "      <td>touch</td>\n",
       "      <td>2017-07-01 01:54:00</td>\n",
       "      <td>5</td>\n",
       "      <td>2017-07-01 01:54:00</td>\n",
       "      <td>7459035603376831527</td>\n",
       "    </tr>\n",
       "    <tr>\n",
       "      <th>3</th>\n",
       "      <td>desktop</td>\n",
       "      <td>2018-05-20 11:23:00</td>\n",
       "      <td>9</td>\n",
       "      <td>2018-05-20 10:59:00</td>\n",
       "      <td>16174680259334210214</td>\n",
       "    </tr>\n",
       "    <tr>\n",
       "      <th>4</th>\n",
       "      <td>desktop</td>\n",
       "      <td>2017-12-27 14:06:00</td>\n",
       "      <td>3</td>\n",
       "      <td>2017-12-27 14:06:00</td>\n",
       "      <td>9969694820036681168</td>\n",
       "    </tr>\n",
       "  </tbody>\n",
       "</table>\n",
       "</div>"
      ],
      "text/plain": [
       "    Device               End Ts  Source Id             Start Ts  \\\n",
       "0    touch  2017-12-20 17:38:00          4  2017-12-20 17:20:00   \n",
       "1  desktop  2018-02-19 17:21:00          2  2018-02-19 16:53:00   \n",
       "2    touch  2017-07-01 01:54:00          5  2017-07-01 01:54:00   \n",
       "3  desktop  2018-05-20 11:23:00          9  2018-05-20 10:59:00   \n",
       "4  desktop  2017-12-27 14:06:00          3  2017-12-27 14:06:00   \n",
       "\n",
       "                    Uid  \n",
       "0  16879256277535980062  \n",
       "1    104060357244891740  \n",
       "2   7459035603376831527  \n",
       "3  16174680259334210214  \n",
       "4   9969694820036681168  "
      ]
     },
     "execution_count": 121,
     "metadata": {},
     "output_type": "execute_result"
    }
   ],
   "source": [
    "visit_data['Device'] = visit_data['Device'].astype('category')\n",
    "visit_data.head()"
   ]
  },
  {
   "cell_type": "code",
   "execution_count": 122,
   "metadata": {},
   "outputs": [
    {
     "name": "stdout",
     "output_type": "stream",
     "text": [
      "<class 'pandas.core.frame.DataFrame'>\n",
      "RangeIndex: 359400 entries, 0 to 359399\n",
      "Data columns (total 5 columns):\n",
      " #   Column     Non-Null Count   Dtype   \n",
      "---  ------     --------------   -----   \n",
      " 0   Device     359400 non-null  category\n",
      " 1   End Ts     359400 non-null  object  \n",
      " 2   Source Id  359400 non-null  int64   \n",
      " 3   Start Ts   359400 non-null  object  \n",
      " 4   Uid        359400 non-null  uint64  \n",
      "dtypes: category(1), int64(1), object(2), uint64(1)\n",
      "memory usage: 57.9 MB\n"
     ]
    }
   ],
   "source": [
    "visit_data.info(memory_usage='deep')"
   ]
  },
  {
   "cell_type": "code",
   "execution_count": 123,
   "metadata": {},
   "outputs": [],
   "source": [
    "# Conversión de columnas de fecha y hora a tipo datetime\n",
    "visit_data['Start Ts'] = pd.to_datetime(visit_data['Start Ts'], format=\"%Y-%m-%d %H:%M:%S\")\n",
    "visit_data['End Ts'] = pd.to_datetime(visit_data['End Ts'], format=\"%Y-%m-%d %H:%M:%S\")\n",
    "orders_data['Buy Ts'] = pd.to_datetime(orders_data['Buy Ts'], format=\"%Y-%m-%d %H:%M:%S\")\n",
    "costs_data['dt'] = pd.to_datetime(costs_data['dt'], format=\"%Y-%m-%d %H:%M:%S\")"
   ]
  },
  {
   "cell_type": "code",
   "execution_count": 124,
   "metadata": {},
   "outputs": [
    {
     "name": "stdout",
     "output_type": "stream",
     "text": [
      "<class 'pandas.core.frame.DataFrame'>\n",
      "RangeIndex: 359400 entries, 0 to 359399\n",
      "Data columns (total 5 columns):\n",
      " #   Column     Non-Null Count   Dtype         \n",
      "---  ------     --------------   -----         \n",
      " 0   Device     359400 non-null  category      \n",
      " 1   End Ts     359400 non-null  datetime64[ns]\n",
      " 2   Source Id  359400 non-null  int64         \n",
      " 3   Start Ts   359400 non-null  datetime64[ns]\n",
      " 4   Uid        359400 non-null  uint64        \n",
      "dtypes: category(1), datetime64[ns](2), int64(1), uint64(1)\n",
      "memory usage: 11.3 MB\n"
     ]
    }
   ],
   "source": [
    "visit_data.info(memory_usage='deep')"
   ]
  },
  {
   "cell_type": "code",
   "execution_count": 125,
   "metadata": {},
   "outputs": [
    {
     "name": "stdout",
     "output_type": "stream",
     "text": [
      "<class 'pandas.core.frame.DataFrame'>\n",
      "RangeIndex: 50415 entries, 0 to 50414\n",
      "Data columns (total 3 columns):\n",
      " #   Column   Non-Null Count  Dtype         \n",
      "---  ------   --------------  -----         \n",
      " 0   Buy Ts   50415 non-null  datetime64[ns]\n",
      " 1   Revenue  50415 non-null  float64       \n",
      " 2   Uid      50415 non-null  uint64        \n",
      "dtypes: datetime64[ns](1), float64(1), uint64(1)\n",
      "memory usage: 1.2 MB\n"
     ]
    }
   ],
   "source": [
    "orders_data.info(memory_usage='deep')"
   ]
  },
  {
   "cell_type": "code",
   "execution_count": 126,
   "metadata": {},
   "outputs": [
    {
     "name": "stdout",
     "output_type": "stream",
     "text": [
      "<class 'pandas.core.frame.DataFrame'>\n",
      "RangeIndex: 2542 entries, 0 to 2541\n",
      "Data columns (total 3 columns):\n",
      " #   Column     Non-Null Count  Dtype         \n",
      "---  ------     --------------  -----         \n",
      " 0   source_id  2542 non-null   int64         \n",
      " 1   dt         2542 non-null   datetime64[ns]\n",
      " 2   costs      2542 non-null   float64       \n",
      "dtypes: datetime64[ns](1), float64(1), int64(1)\n",
      "memory usage: 59.7 KB\n"
     ]
    }
   ],
   "source": [
    "costs_data.info(memory_usage='deep')"
   ]
  },
  {
   "cell_type": "markdown",
   "metadata": {},
   "source": [
    "### Informes y cálculo de métricas"
   ]
  },
  {
   "cell_type": "markdown",
   "metadata": {},
   "source": [
    "Identificaremos el público objetivo de cómo los clientes usan el servicio; cuándo empiezan a comprar;\n",
    "cuánto dinero aporta cada cliente a la compañía; cuándo los ingresos cubren el costo de adquisición de los clientes. Esto también nos ayudará acómo encontrar anomalías en los datos."
   ]
  },
  {
   "cell_type": "code",
   "execution_count": 127,
   "metadata": {
    "scrolled": true
   },
   "outputs": [
    {
     "data": {
      "text/html": [
       "<div>\n",
       "<style scoped>\n",
       "    .dataframe tbody tr th:only-of-type {\n",
       "        vertical-align: middle;\n",
       "    }\n",
       "\n",
       "    .dataframe tbody tr th {\n",
       "        vertical-align: top;\n",
       "    }\n",
       "\n",
       "    .dataframe thead th {\n",
       "        text-align: right;\n",
       "    }\n",
       "</style>\n",
       "<table border=\"1\" class=\"dataframe\">\n",
       "  <thead>\n",
       "    <tr style=\"text-align: right;\">\n",
       "      <th></th>\n",
       "      <th>Device</th>\n",
       "      <th>End Ts</th>\n",
       "      <th>Source Id</th>\n",
       "      <th>Start Ts</th>\n",
       "      <th>Uid</th>\n",
       "      <th>date</th>\n",
       "      <th>week</th>\n",
       "      <th>month</th>\n",
       "    </tr>\n",
       "  </thead>\n",
       "  <tbody>\n",
       "    <tr>\n",
       "      <th>0</th>\n",
       "      <td>touch</td>\n",
       "      <td>2017-12-20 17:38:00</td>\n",
       "      <td>4</td>\n",
       "      <td>2017-12-20 17:20:00</td>\n",
       "      <td>16879256277535980062</td>\n",
       "      <td>2017-12-20</td>\n",
       "      <td>51</td>\n",
       "      <td>12</td>\n",
       "    </tr>\n",
       "    <tr>\n",
       "      <th>1</th>\n",
       "      <td>desktop</td>\n",
       "      <td>2018-02-19 17:21:00</td>\n",
       "      <td>2</td>\n",
       "      <td>2018-02-19 16:53:00</td>\n",
       "      <td>104060357244891740</td>\n",
       "      <td>2018-02-19</td>\n",
       "      <td>8</td>\n",
       "      <td>2</td>\n",
       "    </tr>\n",
       "    <tr>\n",
       "      <th>2</th>\n",
       "      <td>touch</td>\n",
       "      <td>2017-07-01 01:54:00</td>\n",
       "      <td>5</td>\n",
       "      <td>2017-07-01 01:54:00</td>\n",
       "      <td>7459035603376831527</td>\n",
       "      <td>2017-07-01</td>\n",
       "      <td>26</td>\n",
       "      <td>7</td>\n",
       "    </tr>\n",
       "    <tr>\n",
       "      <th>3</th>\n",
       "      <td>desktop</td>\n",
       "      <td>2018-05-20 11:23:00</td>\n",
       "      <td>9</td>\n",
       "      <td>2018-05-20 10:59:00</td>\n",
       "      <td>16174680259334210214</td>\n",
       "      <td>2018-05-20</td>\n",
       "      <td>20</td>\n",
       "      <td>5</td>\n",
       "    </tr>\n",
       "    <tr>\n",
       "      <th>4</th>\n",
       "      <td>desktop</td>\n",
       "      <td>2017-12-27 14:06:00</td>\n",
       "      <td>3</td>\n",
       "      <td>2017-12-27 14:06:00</td>\n",
       "      <td>9969694820036681168</td>\n",
       "      <td>2017-12-27</td>\n",
       "      <td>52</td>\n",
       "      <td>12</td>\n",
       "    </tr>\n",
       "  </tbody>\n",
       "</table>\n",
       "</div>"
      ],
      "text/plain": [
       "    Device              End Ts  Source Id            Start Ts  \\\n",
       "0    touch 2017-12-20 17:38:00          4 2017-12-20 17:20:00   \n",
       "1  desktop 2018-02-19 17:21:00          2 2018-02-19 16:53:00   \n",
       "2    touch 2017-07-01 01:54:00          5 2017-07-01 01:54:00   \n",
       "3  desktop 2018-05-20 11:23:00          9 2018-05-20 10:59:00   \n",
       "4  desktop 2017-12-27 14:06:00          3 2017-12-27 14:06:00   \n",
       "\n",
       "                    Uid        date  week  month  \n",
       "0  16879256277535980062  2017-12-20    51     12  \n",
       "1    104060357244891740  2018-02-19     8      2  \n",
       "2   7459035603376831527  2017-07-01    26      7  \n",
       "3  16174680259334210214  2018-05-20    20      5  \n",
       "4   9969694820036681168  2017-12-27    52     12  "
      ]
     },
     "execution_count": 127,
     "metadata": {},
     "output_type": "execute_result"
    }
   ],
   "source": [
    "# 1. Visitas:\n",
    "\n",
    "# Agregamos columnas adicionales para 'day', 'week' y 'month'\n",
    "visit_data['date'] = visit_data['Start Ts'].dt.date\n",
    "visit_data['week'] = visit_data['Start Ts'].dt.week\n",
    "visit_data['month'] = visit_data['Start Ts'].dt.month\n",
    "\n",
    "visit_data.head()"
   ]
  },
  {
   "cell_type": "code",
   "execution_count": 128,
   "metadata": {},
   "outputs": [
    {
     "name": "stdout",
     "output_type": "stream",
     "text": [
      "date\n",
      "2017-06-01    605\n",
      "2017-06-02    608\n",
      "2017-06-03    445\n",
      "2017-06-04    476\n",
      "2017-06-05    820\n",
      "Name: Uid, dtype: int64\n",
      "week\n",
      "1    6918\n",
      "2    6703\n",
      "3    6972\n",
      "4    7060\n",
      "5    8111\n",
      "Name: Uid, dtype: int64\n",
      "month\n",
      "1    28716\n",
      "2    28749\n",
      "3    27473\n",
      "4    21008\n",
      "5    20701\n",
      "Name: Uid, dtype: int64\n"
     ]
    }
   ],
   "source": [
    "# Análisis de cuantas personas lo usan cada día, semana y mes?\n",
    "daily_users = visit_data.groupby('date')['Uid'].nunique()\n",
    "weekly_users = visit_data.groupby('week')['Uid'].nunique()\n",
    "monthly_users = visit_data.groupby('month')['Uid'].nunique()\n",
    "print(daily_users.head())\n",
    "print(weekly_users.head())\n",
    "print(monthly_users.head())"
   ]
  },
  {
   "cell_type": "markdown",
   "metadata": {},
   "source": [
    "<div class=\"alert alert-block alert-success\">\n",
    "<b>Comentario del revisor (2da Iteracion)</b> <a class=“tocSkip”></a>\n",
    "\n",
    "Buen trabajo con el ajuste!\n",
    "</div>"
   ]
  },
  {
   "cell_type": "code",
   "execution_count": 129,
   "metadata": {},
   "outputs": [
    {
     "name": "stdout",
     "output_type": "stream",
     "text": [
      "Promedio de usuarios únicos diarios: 907.99\n",
      "Promedio de usuarios únicos semanales: 5825.29\n",
      "Promedio de usuarios únicos mensuales: 23228.42\n"
     ]
    }
   ],
   "source": [
    "# Cálculo de los primedios de cada resultado para cadá métrica por día, semana y mes\n",
    "avg_daily_users = daily_users.mean()\n",
    "avg_weekly_users = weekly_users.mean()\n",
    "avg_monthly_users = monthly_users.mean()\n",
    "print(f'Promedio de usuarios únicos diarios: {avg_daily_users:.2f}')\n",
    "print(f'Promedio de usuarios únicos semanales: {avg_weekly_users:.2f}')\n",
    "print(f'Promedio de usuarios únicos mensuales: {avg_monthly_users:.2f}')"
   ]
  },
  {
   "cell_type": "code",
   "execution_count": 130,
   "metadata": {},
   "outputs": [
    {
     "name": "stdout",
     "output_type": "stream",
     "text": [
      "date\n",
      "2017-06-01    664\n",
      "2017-06-02    658\n",
      "2017-06-03    477\n",
      "2017-06-04    510\n",
      "2017-06-05    893\n",
      "Name: Uid, dtype: int64\n"
     ]
    }
   ],
   "source": [
    "# Cuantas sesiones hay por día?\n",
    "\n",
    "daily_sesions = visit_data.groupby('date')['Uid'].count()\n",
    "\n",
    "print(daily_sesions.head())"
   ]
  },
  {
   "cell_type": "code",
   "execution_count": 131,
   "metadata": {
    "scrolled": true
   },
   "outputs": [
    {
     "name": "stdout",
     "output_type": "stream",
     "text": [
      "                    Uid            Start Ts              End Ts  \\\n",
      "0  16879256277535980062 2017-12-20 17:20:00 2017-12-20 17:38:00   \n",
      "1    104060357244891740 2018-02-19 16:53:00 2018-02-19 17:21:00   \n",
      "2   7459035603376831527 2017-07-01 01:54:00 2017-07-01 01:54:00   \n",
      "3  16174680259334210214 2018-05-20 10:59:00 2018-05-20 11:23:00   \n",
      "4   9969694820036681168 2017-12-27 14:06:00 2017-12-27 14:06:00   \n",
      "\n",
      "   session_duration  \n",
      "0              1080  \n",
      "1              1680  \n",
      "2                 0  \n",
      "3              1440  \n",
      "4                 0  \n"
     ]
    }
   ],
   "source": [
    "# Cuál es la duración de cada sesión (en segundos)?\n",
    "visit_data['session_duration'] = (visit_data['End Ts'] - visit_data['Start Ts']).dt.seconds\n",
    "\n",
    "print(visit_data[['Uid', 'Start Ts', 'End Ts', 'session_duration']].head())"
   ]
  },
  {
   "cell_type": "code",
   "execution_count": 132,
   "metadata": {},
   "outputs": [
    {
     "name": "stdout",
     "output_type": "stream",
     "text": [
      "643.506488592098\n"
     ]
    }
   ],
   "source": [
    "print(visit_data['session_duration'].mean())"
   ]
  },
  {
   "cell_type": "code",
   "execution_count": 133,
   "metadata": {},
   "outputs": [
    {
     "data": {
      "text/plain": [
       "<AxesSubplot:>"
      ]
     },
     "execution_count": 133,
     "metadata": {},
     "output_type": "execute_result"
    },
    {
     "data": {
      "image/png": "[encoded data removed]",
      "text/plain": [
       "<Figure size 640x480 with 1 Axes>"
      ]
     },
     "metadata": {},
     "output_type": "display_data"
    }
   ],
   "source": [
    "visit_data['session_duration'].hist(bins=50)"
   ]
  },
  {
   "cell_type": "code",
   "execution_count": 134,
   "metadata": {},
   "outputs": [
    {
     "data": {
      "text/html": [
       "<div>\n",
       "<style scoped>\n",
       "    .dataframe tbody tr th:only-of-type {\n",
       "        vertical-align: middle;\n",
       "    }\n",
       "\n",
       "    .dataframe tbody tr th {\n",
       "        vertical-align: top;\n",
       "    }\n",
       "\n",
       "    .dataframe thead th {\n",
       "        text-align: right;\n",
       "    }\n",
       "</style>\n",
       "<table border=\"1\" class=\"dataframe\">\n",
       "  <thead>\n",
       "    <tr style=\"text-align: right;\">\n",
       "      <th></th>\n",
       "      <th>Uid</th>\n",
       "      <th>average_days_between_visits</th>\n",
       "    </tr>\n",
       "  </thead>\n",
       "  <tbody>\n",
       "    <tr>\n",
       "      <th>0</th>\n",
       "      <td>313578113262317</td>\n",
       "      <td>86.500000</td>\n",
       "    </tr>\n",
       "    <tr>\n",
       "      <th>1</th>\n",
       "      <td>325320750514679</td>\n",
       "      <td>148.000000</td>\n",
       "    </tr>\n",
       "    <tr>\n",
       "      <th>2</th>\n",
       "      <td>526778907996220</td>\n",
       "      <td>55.666667</td>\n",
       "    </tr>\n",
       "    <tr>\n",
       "      <th>3</th>\n",
       "      <td>577434573913691</td>\n",
       "      <td>6.000000</td>\n",
       "    </tr>\n",
       "    <tr>\n",
       "      <th>4</th>\n",
       "      <td>1260655184775459</td>\n",
       "      <td>43.000000</td>\n",
       "    </tr>\n",
       "    <tr>\n",
       "      <th>...</th>\n",
       "      <td>...</td>\n",
       "      <td>...</td>\n",
       "    </tr>\n",
       "    <tr>\n",
       "      <th>52123</th>\n",
       "      <td>18445884613277162497</td>\n",
       "      <td>25.000000</td>\n",
       "    </tr>\n",
       "    <tr>\n",
       "      <th>52124</th>\n",
       "      <td>18446104389491815722</td>\n",
       "      <td>0.000000</td>\n",
       "    </tr>\n",
       "    <tr>\n",
       "      <th>52125</th>\n",
       "      <td>18446156210226471712</td>\n",
       "      <td>17.833333</td>\n",
       "    </tr>\n",
       "    <tr>\n",
       "      <th>52126</th>\n",
       "      <td>18446167067214817906</td>\n",
       "      <td>0.000000</td>\n",
       "    </tr>\n",
       "    <tr>\n",
       "      <th>52127</th>\n",
       "      <td>18446621818809592527</td>\n",
       "      <td>144.000000</td>\n",
       "    </tr>\n",
       "  </tbody>\n",
       "</table>\n",
       "<p>52128 rows × 2 columns</p>\n",
       "</div>"
      ],
      "text/plain": [
       "                        Uid  average_days_between_visits\n",
       "0           313578113262317                    86.500000\n",
       "1           325320750514679                   148.000000\n",
       "2           526778907996220                    55.666667\n",
       "3           577434573913691                     6.000000\n",
       "4          1260655184775459                    43.000000\n",
       "...                     ...                          ...\n",
       "52123  18445884613277162497                    25.000000\n",
       "52124  18446104389491815722                     0.000000\n",
       "52125  18446156210226471712                    17.833333\n",
       "52126  18446167067214817906                     0.000000\n",
       "52127  18446621818809592527                   144.000000\n",
       "\n",
       "[52128 rows x 2 columns]"
      ]
     },
     "execution_count": 134,
     "metadata": {},
     "output_type": "execute_result"
    }
   ],
   "source": [
    "visit_data[\"date\"] = pd.to_datetime(visit_data.date)\n",
    "\n",
    "# Frecuencia de retorno de usuarios y usuarias\n",
    "visit_data = visit_data.sort_values(by=['Uid', 'Start Ts'])\n",
    "visit_data[\"days_since_last_visit\"] = visit_data.groupby('Uid')['Start Ts'].diff().dt.days\n",
    "\n",
    "(visit_data.dropna(subset=[\"days_since_last_visit\"])\n",
    "     .groupby('Uid')[\"days_since_last_visit\"].mean()\n",
    "     .rename(\"average_days_between_visits\")\n",
    "     .reset_index()\n",
    ")"
   ]
  },
  {
   "cell_type": "code",
   "execution_count": 135,
   "metadata": {},
   "outputs": [
    {
     "name": "stdout",
     "output_type": "stream",
     "text": [
      "Uid\n",
      "313578113262317          86.500000\n",
      "325320750514679         148.000000\n",
      "526778907996220          55.666667\n",
      "577434573913691           6.000000\n",
      "1260655184775459         43.000000\n",
      "                           ...    \n",
      "18445884613277162497     25.000000\n",
      "18446104389491815722      0.000000\n",
      "18446156210226471712     17.833333\n",
      "18446167067214817906      0.000000\n",
      "18446621818809592527    144.000000\n",
      "Name: days_since_last_visit, Length: 52128, dtype: float64\n"
     ]
    }
   ],
   "source": [
    "# Frecuencia de retorno de usuarios y usuarias\n",
    "visit_data = visit_data.sort_values(by=['Uid', 'Start Ts'])\n",
    "visit_data['previous_visit'] = visit_data.groupby('Uid')['Start Ts'].shift(1)\n",
    "visit_data['days_since_last_visit'] = (visit_data['Start Ts'] - visit_data['previous_visit']).dt.days\n",
    "\n",
    "return_frequency = visit_data.groupby('Uid')['days_since_last_visit'].mean().dropna()\n",
    "print(return_frequency)"
   ]
  },
  {
   "cell_type": "code",
   "execution_count": 136,
   "metadata": {},
   "outputs": [
    {
     "data": {
      "image/png": "[encoded data removed]",
      "text/plain": [
       "<Figure size 1200x600 with 1 Axes>"
      ]
     },
     "metadata": {},
     "output_type": "display_data"
    }
   ],
   "source": [
    "plt.figure(figsize=(12, 6))\n",
    "sns.histplot(return_frequency, bins=30, kde=True)\n",
    "plt.title('Distribución de la Frecuencia de Retorno de Usuarios')\n",
    "plt.xlabel('Días Desde la Última Visita')\n",
    "plt.ylabel('Frecuencia')\n",
    "plt.show()"
   ]
  },
  {
   "cell_type": "markdown",
   "metadata": {},
   "source": [
    "<div class=\"alert alert-block alert-success\">\n",
    "<b>Comentario del revisor (2da Iteracion)</b> <a class=“tocSkip”></a>\n",
    "\n",
    "Buen trabajo con el ajuste!\n",
    "</div>"
   ]
  },
  {
   "cell_type": "code",
   "execution_count": 137,
   "metadata": {},
   "outputs": [],
   "source": [
    "# 2. Ventas\n",
    "\n",
    "#Convertimos las columnas de fechas al tipo 'datetime64[M]'\n",
    "visit_data['Start Ts'] = visit_data['Start Ts'].astype('datetime64[M]')\n",
    "orders_data['Buy Ts'] = orders_data['Buy Ts'].astype('datetime64[M]')"
   ]
  },
  {
   "cell_type": "code",
   "execution_count": 138,
   "metadata": {},
   "outputs": [],
   "source": [
    "# Creación de embudo, unimos visit_data con orders_data\n",
    "merged_data = pd.merge(visit_data, orders_data, how='left', on='Uid', suffixes=('_visit', '_order'))"
   ]
  },
  {
   "cell_type": "code",
   "execution_count": 139,
   "metadata": {
    "scrolled": false
   },
   "outputs": [
    {
     "name": "stdout",
     "output_type": "stream",
     "text": [
      "               Uid first_visit\n",
      "0   11863502262781  2018-03-01\n",
      "1   49537067089222  2018-02-01\n",
      "2  297729379853735  2017-06-01\n",
      "3  313578113262317  2017-09-01\n",
      "4  325320750514679  2017-09-01\n",
      "               Uid first_purchase\n",
      "0   11863502262781            NaT\n",
      "1   49537067089222            NaT\n",
      "2  297729379853735            NaT\n",
      "3  313578113262317     2018-01-01\n",
      "4  325320750514679            NaT\n"
     ]
    }
   ],
   "source": [
    "# Encontramos la 1ra visita y compra para cada usuario\n",
    "first_visits = merged_data.groupby('Uid')['Start Ts'].min().reset_index().rename(columns={'Start Ts': 'first_visit'})\n",
    "first_purchases = merged_data.groupby('Uid')['Buy Ts'].min().reset_index().rename(columns={'Buy Ts': 'first_purchase'})\n",
    "print(first_visits.head())\n",
    "print(first_purchases.head())"
   ]
  },
  {
   "cell_type": "code",
   "execution_count": 140,
   "metadata": {},
   "outputs": [
    {
     "name": "stdout",
     "output_type": "stream",
     "text": [
      "                 Uid first_visit first_purchase\n",
      "3    313578113262317  2017-09-01     2018-01-01\n",
      "22  1575281904278712  2017-06-01     2017-06-01\n",
      "35  2429014661409475  2017-10-01     2017-10-01\n",
      "36  2464366381792757  2018-01-01     2018-01-01\n",
      "38  2551852515556206  2017-11-01     2017-11-01\n"
     ]
    }
   ],
   "source": [
    "# Uno las 1ras visitas y compras en un solo DataFrame\n",
    "conversion_data = pd.merge(first_visits, first_purchases, how='inner', on='Uid').dropna(subset=[\"first_purchase\"])\n",
    "print(conversion_data.head())"
   ]
  },
  {
   "cell_type": "code",
   "execution_count": 141,
   "metadata": {},
   "outputs": [],
   "source": [
    "# Cálculo del tiempo y conversión en meses, creamos la columna 'conversion_time_months'\n",
    "conversion_data['conversion_time_months'] = conversion_data.apply(\n",
    "lambda row: relativedelta(row['first_purchase'], row['first_visit']).months + 12 * (relativedelta(row['first_purchase'], row['first_visit']).years), axis=1\n",
    ")"
   ]
  },
  {
   "cell_type": "code",
   "execution_count": 142,
   "metadata": {},
   "outputs": [],
   "source": [
    "# Creamos cohorts en base al mes de la 1ra visita.\n",
    "conversion_data['cohort'] = conversion_data['first_visit'].astype('datetime64[M]')\n",
    "\n",
    "# Creación de un pivot_table para mostrar la proporción de usuarios que compran en periodos distintos a partir del registro\n",
    "conversion_pivot = conversion_data.pivot_table(index='cohort', \n",
    "                                               columns='conversion_time_months', \n",
    "                                               values='Uid', \n",
    "                                               aggfunc='nunique', \n",
    "                                               fill_value=0)"
   ]
  },
  {
   "cell_type": "code",
   "execution_count": 143,
   "metadata": {},
   "outputs": [
    {
     "data": {
      "text/html": [
       "<div>\n",
       "<style scoped>\n",
       "    .dataframe tbody tr th:only-of-type {\n",
       "        vertical-align: middle;\n",
       "    }\n",
       "\n",
       "    .dataframe tbody tr th {\n",
       "        vertical-align: top;\n",
       "    }\n",
       "\n",
       "    .dataframe thead th {\n",
       "        text-align: right;\n",
       "    }\n",
       "</style>\n",
       "<table border=\"1\" class=\"dataframe\">\n",
       "  <thead>\n",
       "    <tr style=\"text-align: right;\">\n",
       "      <th>conversion_time_months</th>\n",
       "      <th>0</th>\n",
       "      <th>1</th>\n",
       "      <th>2</th>\n",
       "      <th>3</th>\n",
       "      <th>4</th>\n",
       "      <th>5</th>\n",
       "      <th>6</th>\n",
       "      <th>7</th>\n",
       "      <th>8</th>\n",
       "      <th>9</th>\n",
       "      <th>10</th>\n",
       "      <th>11</th>\n",
       "    </tr>\n",
       "    <tr>\n",
       "      <th>cohort</th>\n",
       "      <th></th>\n",
       "      <th></th>\n",
       "      <th></th>\n",
       "      <th></th>\n",
       "      <th></th>\n",
       "      <th></th>\n",
       "      <th></th>\n",
       "      <th></th>\n",
       "      <th></th>\n",
       "      <th></th>\n",
       "      <th></th>\n",
       "      <th></th>\n",
       "    </tr>\n",
       "  </thead>\n",
       "  <tbody>\n",
       "    <tr>\n",
       "      <th>2017-06-01</th>\n",
       "      <td>2023</td>\n",
       "      <td>170</td>\n",
       "      <td>67</td>\n",
       "      <td>107</td>\n",
       "      <td>119</td>\n",
       "      <td>92</td>\n",
       "      <td>78</td>\n",
       "      <td>59</td>\n",
       "      <td>64</td>\n",
       "      <td>64</td>\n",
       "      <td>26</td>\n",
       "      <td>54</td>\n",
       "    </tr>\n",
       "    <tr>\n",
       "      <th>2017-07-01</th>\n",
       "      <td>1753</td>\n",
       "      <td>95</td>\n",
       "      <td>99</td>\n",
       "      <td>100</td>\n",
       "      <td>89</td>\n",
       "      <td>77</td>\n",
       "      <td>67</td>\n",
       "      <td>62</td>\n",
       "      <td>50</td>\n",
       "      <td>33</td>\n",
       "      <td>33</td>\n",
       "      <td>0</td>\n",
       "    </tr>\n",
       "    <tr>\n",
       "      <th>2017-08-01</th>\n",
       "      <td>1208</td>\n",
       "      <td>118</td>\n",
       "      <td>92</td>\n",
       "      <td>73</td>\n",
       "      <td>65</td>\n",
       "      <td>38</td>\n",
       "      <td>39</td>\n",
       "      <td>38</td>\n",
       "      <td>25</td>\n",
       "      <td>25</td>\n",
       "      <td>0</td>\n",
       "      <td>0</td>\n",
       "    </tr>\n",
       "    <tr>\n",
       "      <th>2017-09-01</th>\n",
       "      <td>2257</td>\n",
       "      <td>268</td>\n",
       "      <td>143</td>\n",
       "      <td>102</td>\n",
       "      <td>59</td>\n",
       "      <td>76</td>\n",
       "      <td>71</td>\n",
       "      <td>40</td>\n",
       "      <td>42</td>\n",
       "      <td>0</td>\n",
       "      <td>0</td>\n",
       "      <td>0</td>\n",
       "    </tr>\n",
       "    <tr>\n",
       "      <th>2017-10-01</th>\n",
       "      <td>3761</td>\n",
       "      <td>327</td>\n",
       "      <td>178</td>\n",
       "      <td>114</td>\n",
       "      <td>97</td>\n",
       "      <td>92</td>\n",
       "      <td>49</td>\n",
       "      <td>60</td>\n",
       "      <td>0</td>\n",
       "      <td>0</td>\n",
       "      <td>0</td>\n",
       "      <td>0</td>\n",
       "    </tr>\n",
       "    <tr>\n",
       "      <th>2017-11-01</th>\n",
       "      <td>3357</td>\n",
       "      <td>392</td>\n",
       "      <td>155</td>\n",
       "      <td>102</td>\n",
       "      <td>127</td>\n",
       "      <td>64</td>\n",
       "      <td>65</td>\n",
       "      <td>0</td>\n",
       "      <td>0</td>\n",
       "      <td>0</td>\n",
       "      <td>0</td>\n",
       "      <td>0</td>\n",
       "    </tr>\n",
       "    <tr>\n",
       "      <th>2017-12-01</th>\n",
       "      <td>3491</td>\n",
       "      <td>237</td>\n",
       "      <td>115</td>\n",
       "      <td>112</td>\n",
       "      <td>45</td>\n",
       "      <td>74</td>\n",
       "      <td>0</td>\n",
       "      <td>0</td>\n",
       "      <td>0</td>\n",
       "      <td>0</td>\n",
       "      <td>0</td>\n",
       "      <td>0</td>\n",
       "    </tr>\n",
       "    <tr>\n",
       "      <th>2018-01-01</th>\n",
       "      <td>2644</td>\n",
       "      <td>244</td>\n",
       "      <td>114</td>\n",
       "      <td>50</td>\n",
       "      <td>67</td>\n",
       "      <td>0</td>\n",
       "      <td>0</td>\n",
       "      <td>0</td>\n",
       "      <td>0</td>\n",
       "      <td>0</td>\n",
       "      <td>0</td>\n",
       "      <td>0</td>\n",
       "    </tr>\n",
       "    <tr>\n",
       "      <th>2018-02-01</th>\n",
       "      <td>2852</td>\n",
       "      <td>202</td>\n",
       "      <td>62</td>\n",
       "      <td>70</td>\n",
       "      <td>0</td>\n",
       "      <td>0</td>\n",
       "      <td>0</td>\n",
       "      <td>0</td>\n",
       "      <td>0</td>\n",
       "      <td>0</td>\n",
       "      <td>0</td>\n",
       "      <td>0</td>\n",
       "    </tr>\n",
       "    <tr>\n",
       "      <th>2018-03-01</th>\n",
       "      <td>2663</td>\n",
       "      <td>119</td>\n",
       "      <td>56</td>\n",
       "      <td>0</td>\n",
       "      <td>0</td>\n",
       "      <td>0</td>\n",
       "      <td>0</td>\n",
       "      <td>0</td>\n",
       "      <td>0</td>\n",
       "      <td>0</td>\n",
       "      <td>0</td>\n",
       "      <td>0</td>\n",
       "    </tr>\n",
       "    <tr>\n",
       "      <th>2018-04-01</th>\n",
       "      <td>1763</td>\n",
       "      <td>127</td>\n",
       "      <td>0</td>\n",
       "      <td>0</td>\n",
       "      <td>0</td>\n",
       "      <td>0</td>\n",
       "      <td>0</td>\n",
       "      <td>0</td>\n",
       "      <td>0</td>\n",
       "      <td>0</td>\n",
       "      <td>0</td>\n",
       "      <td>0</td>\n",
       "    </tr>\n",
       "    <tr>\n",
       "      <th>2018-05-01</th>\n",
       "      <td>2315</td>\n",
       "      <td>1</td>\n",
       "      <td>0</td>\n",
       "      <td>0</td>\n",
       "      <td>0</td>\n",
       "      <td>0</td>\n",
       "      <td>0</td>\n",
       "      <td>0</td>\n",
       "      <td>0</td>\n",
       "      <td>0</td>\n",
       "      <td>0</td>\n",
       "      <td>0</td>\n",
       "    </tr>\n",
       "  </tbody>\n",
       "</table>\n",
       "</div>"
      ],
      "text/plain": [
       "conversion_time_months    0    1    2    3    4   5   6   7   8   9   10  11\n",
       "cohort                                                                      \n",
       "2017-06-01              2023  170   67  107  119  92  78  59  64  64  26  54\n",
       "2017-07-01              1753   95   99  100   89  77  67  62  50  33  33   0\n",
       "2017-08-01              1208  118   92   73   65  38  39  38  25  25   0   0\n",
       "2017-09-01              2257  268  143  102   59  76  71  40  42   0   0   0\n",
       "2017-10-01              3761  327  178  114   97  92  49  60   0   0   0   0\n",
       "2017-11-01              3357  392  155  102  127  64  65   0   0   0   0   0\n",
       "2017-12-01              3491  237  115  112   45  74   0   0   0   0   0   0\n",
       "2018-01-01              2644  244  114   50   67   0   0   0   0   0   0   0\n",
       "2018-02-01              2852  202   62   70    0   0   0   0   0   0   0   0\n",
       "2018-03-01              2663  119   56    0    0   0   0   0   0   0   0   0\n",
       "2018-04-01              1763  127    0    0    0   0   0   0   0   0   0   0\n",
       "2018-05-01              2315    1    0    0    0   0   0   0   0   0   0   0"
      ]
     },
     "execution_count": 143,
     "metadata": {},
     "output_type": "execute_result"
    }
   ],
   "source": [
    "# Guardamos el resultado en una variable\n",
    "conversion_counts = conversion_data.groupby(['cohort', 'conversion_time_months']).size().unstack(fill_value=0)\n",
    "conversion_counts"
   ]
  },
  {
   "cell_type": "code",
   "execution_count": 144,
   "metadata": {},
   "outputs": [
    {
     "data": {
      "image/png": "[encoded data removed]",
      "text/plain": [
       "<Figure size 1200x800 with 2 Axes>"
      ]
     },
     "metadata": {},
     "output_type": "display_data"
    }
   ],
   "source": [
    "# Creamos el heatmap mostrando las cantidades proporcionalmente en cada punto\n",
    "plt.figure(figsize=(12, 8))\n",
    "sns.heatmap(conversion_counts, annot=True, fmt=\"d\", linewidths=.5)\n",
    "plt.title('Heatmap de Conversiones por Cohorte y Tiempo de Conversión en Meses')\n",
    "plt.xlabel('Meses desde la Primera Visita')\n",
    "plt.ylabel('Cohorte de la Primera Visita')\n",
    "plt.show()"
   ]
  },
  {
   "cell_type": "markdown",
   "metadata": {},
   "source": [
    "<div class=\"alert alert-block alert-success\">\n",
    "<b>Comentario del revisor (2da Iteracion)</b> <a class=“tocSkip”></a>\n",
    "\n",
    "Buen trabajo con el ajuste!\n",
    "</div>"
   ]
  },
  {
   "cell_type": "code",
   "execution_count": 145,
   "metadata": {},
   "outputs": [
    {
     "name": "stdout",
     "output_type": "stream",
     "text": [
      "            Conversion 0d  Conversion 1d  Conversion 2d  Conversion 3d  \\\n",
      "cohort                                                                   \n",
      "2017-06-01           2023            170             67            107   \n",
      "2017-07-01           1753             95             99            100   \n",
      "2017-08-01           1208            118             92             73   \n",
      "2017-09-01           2257            268            143            102   \n",
      "2017-10-01           3761            327            178            114   \n",
      "\n",
      "            Conversion 4d  Conversion 5d  Conversion 6d  Conversion 7d  \\\n",
      "cohort                                                                   \n",
      "2017-06-01            119             92             78             59   \n",
      "2017-07-01             89             77             67             62   \n",
      "2017-08-01             65             38             39             38   \n",
      "2017-09-01             59             76             71             40   \n",
      "2017-10-01             97             92             49             60   \n",
      "\n",
      "            Conversion 8d  Conversion 9d  Conversion 10d  Conversion 11d  \n",
      "cohort                                                                    \n",
      "2017-06-01             64             64              26              54  \n",
      "2017-07-01             50             33              33               0  \n",
      "2017-08-01             25             25               0               0  \n",
      "2017-09-01             42              0               0               0  \n",
      "2017-10-01              0              0               0               0  \n"
     ]
    }
   ],
   "source": [
    "# Renombrando las columnas del pivot_table\n",
    "conversion_pivot.columns = [f'Conversion {int(day)}d' for day in conversion_pivot.columns]\n",
    "print(conversion_pivot.head())"
   ]
  },
  {
   "cell_type": "code",
   "execution_count": 146,
   "metadata": {},
   "outputs": [
    {
     "name": "stdout",
     "output_type": "stream",
     "text": [
      "            Conversion 0d  Conversion 1d  Conversion 2d  Conversion 3d  \\\n",
      "cohort                                                                   \n",
      "2017-06-01       0.692097       0.058159       0.022922       0.036606   \n",
      "2017-07-01       0.713181       0.038649       0.040277       0.040683   \n",
      "2017-08-01       0.701917       0.068565       0.053457       0.042417   \n",
      "2017-09-01       0.738064       0.087639       0.046763       0.033355   \n",
      "2017-10-01       0.803976       0.069902       0.038050       0.024369   \n",
      "\n",
      "            Conversion 4d  Conversion 5d  Conversion 6d  Conversion 7d  \\\n",
      "cohort                                                                   \n",
      "2017-06-01       0.040712       0.031475       0.026685       0.020185   \n",
      "2017-07-01       0.036208       0.031326       0.027258       0.025224   \n",
      "2017-08-01       0.037769       0.022080       0.022661       0.022080   \n",
      "2017-09-01       0.019294       0.024853       0.023218       0.013080   \n",
      "2017-10-01       0.020735       0.019667       0.010475       0.012826   \n",
      "\n",
      "            Conversion 8d  Conversion 9d  Conversion 10d  Conversion 11d  \n",
      "cohort                                                                    \n",
      "2017-06-01       0.021895       0.021895        0.008895        0.018474  \n",
      "2017-07-01       0.020342       0.013426        0.013426        0.000000  \n",
      "2017-08-01       0.014526       0.014526        0.000000        0.000000  \n",
      "2017-09-01       0.013734       0.000000        0.000000        0.000000  \n",
      "2017-10-01       0.000000       0.000000        0.000000        0.000000  \n"
     ]
    }
   ],
   "source": [
    "# Cálculo de la proporción de usuarios\n",
    "conversion_proportions = conversion_pivot.div(conversion_pivot.sum(axis=1), axis=0)\n",
    "print(conversion_proportions.head())"
   ]
  },
  {
   "cell_type": "markdown",
   "metadata": {},
   "source": [
    "¿Cuántos pedidos hacen durante un período de tiempo dado?"
   ]
  },
  {
   "cell_type": "code",
   "execution_count": 147,
   "metadata": {
    "scrolled": true
   },
   "outputs": [
    {
     "name": "stdout",
     "output_type": "stream",
     "text": [
      "                         total_revenue  num_orders\n",
      "first_visit order_month                           \n",
      "2017-06-01  2017-06-01         9557.49        2023\n",
      "            2017-07-01         2664.58         231\n",
      "            2017-08-01         1464.69         129\n",
      "            2017-09-01         3882.09         188\n",
      "            2017-10-01         3940.59         257\n",
      "...                                ...         ...\n",
      "2018-03-01  2018-05-01          774.77          90\n",
      "2018-04-01  2018-04-01         8043.82        1763\n",
      "            2018-05-01         1838.73         174\n",
      "2018-05-01  2018-05-01        10368.11        2315\n",
      "            2018-06-01            3.42           1\n",
      "\n",
      "[79 rows x 2 columns]\n"
     ]
    }
   ],
   "source": [
    "# Número de pedidos por cohorte, creamos la columna 'order_month'\n",
    "orders_data['order_month'] = orders_data['Buy Ts'].astype('datetime64[M]')\n",
    "orders_data = orders_data.merge(first_visits, on='Uid')\n",
    "\n",
    "orders_by_cohort = orders_data.groupby(['first_visit', 'order_month']).agg({'Revenue': 'sum', 'Uid': 'nunique'}).rename(columns={'Revenue': 'total_revenue', 'Uid': 'num_orders'})\n",
    "print(orders_by_cohort)"
   ]
  },
  {
   "cell_type": "markdown",
   "metadata": {},
   "source": [
    "¿Cuál es el tamaño promedio de compra?"
   ]
  },
  {
   "cell_type": "code",
   "execution_count": 148,
   "metadata": {},
   "outputs": [
    {
     "name": "stdout",
     "output_type": "stream",
     "text": [
      "                         total_revenue  num_orders  mean_purchase_size\n",
      "first_visit order_month                                               \n",
      "2017-06-01  2017-06-01         9557.49        2023            4.724414\n",
      "            2017-07-01         2664.58         231           11.534978\n",
      "            2017-08-01         1464.69         129           11.354186\n",
      "            2017-09-01         3882.09         188           20.649415\n",
      "            2017-10-01         3940.59         257           15.333035\n",
      "...                                ...         ...                 ...\n",
      "2018-03-01  2018-05-01          774.77          90            8.608556\n",
      "2018-04-01  2018-04-01         8043.82        1763            4.562575\n",
      "            2018-05-01         1838.73         174           10.567414\n",
      "2018-05-01  2018-05-01        10368.11        2315            4.478665\n",
      "            2018-06-01            3.42           1            3.420000\n",
      "\n",
      "[79 rows x 3 columns]\n"
     ]
    }
   ],
   "source": [
    "# Calculamos el tamaño promedio de compra por cohorte y mes\n",
    "mean_purchase_size = orders_by_cohort['total_revenue'] / orders_by_cohort['num_orders']\n",
    "orders_by_cohort['mean_purchase_size'] = mean_purchase_size\n",
    "print(orders_by_cohort)"
   ]
  },
  {
   "cell_type": "code",
   "execution_count": 149,
   "metadata": {},
   "outputs": [
    {
     "name": "stdout",
     "output_type": "stream",
     "text": [
      "order_month  2017-06-01  2017-07-01  2017-08-01  2017-09-01  2017-10-01  \\\n",
      "first_visit                                                               \n",
      "2017-06-01     4.724414   11.534978   11.354186   20.649415   15.333035   \n",
      "2017-07-01     0.000000    5.633137    7.846519    7.442282    6.382857   \n",
      "2017-08-01     0.000000    0.000000    5.161267    6.393077    7.256159   \n",
      "2017-09-01     0.000000    0.000000    0.000000    5.475055   10.138301   \n",
      "2017-10-01     0.000000    0.000000    0.000000    0.000000    4.882297   \n",
      "\n",
      "order_month  2017-11-01  2017-12-01  2018-01-01  2018-02-01  2018-03-01  \\\n",
      "first_visit                                                               \n",
      "2017-06-01    13.913695   18.465344   14.650387   13.476221   22.318205   \n",
      "2017-07-01     5.535882    6.000602    4.819672    6.017969    6.300174   \n",
      "2017-08-01     8.087265    7.864466    7.011842    6.403289   14.491047   \n",
      "2017-09-01     8.757801   58.645674   11.607928   13.643214    6.906000   \n",
      "2017-10-01     8.003845    4.544589    5.370812    5.270051    5.775085   \n",
      "\n",
      "order_month  2018-04-01  2018-05-01  2018-06-01  \n",
      "first_visit                                      \n",
      "2017-06-01    19.333421   11.543772         0.0  \n",
      "2017-07-01     8.208750    6.228800         0.0  \n",
      "2017-08-01    15.672453    6.477931         0.0  \n",
      "2017-09-01     7.121449    4.500753         0.0  \n",
      "2017-10-01     4.990603    5.332520         0.0  \n"
     ]
    }
   ],
   "source": [
    "# Creamos un pivot_table para mostrar el tamaño promedio de compra por cada mes y cohorte\n",
    "mean_purchases_pivot = orders_by_cohort.pivot_table(\n",
    "                index= 'first_visit',\n",
    "                columns= 'order_month',\n",
    "                values= 'mean_purchase_size',\n",
    "                aggfunc= 'mean',\n",
    "                fill_value=0\n",
    ")\n",
    "\n",
    "print(mean_purchases_pivot.head())"
   ]
  },
  {
   "cell_type": "markdown",
   "metadata": {},
   "source": [
    "Cálculo del LTV  "
   ]
  },
  {
   "cell_type": "code",
   "execution_count": 150,
   "metadata": {
    "scrolled": false
   },
   "outputs": [
    {
     "name": "stdout",
     "output_type": "stream",
     "text": [
      "count                   50415\n",
      "unique                     13\n",
      "top       2017-12-01 00:00:00\n",
      "freq                     6218\n",
      "first     2017-06-01 00:00:00\n",
      "last      2018-06-01 00:00:00\n",
      "Name: Buy Ts, dtype: object\n"
     ]
    }
   ],
   "source": [
    "#Examinamos la distribución de las fechas de pedido\n",
    "print(orders_data['Buy Ts'].describe())"
   ]
  },
  {
   "cell_type": "code",
   "execution_count": 151,
   "metadata": {},
   "outputs": [
    {
     "name": "stdout",
     "output_type": "stream",
     "text": [
      "                Uid first_purchase first_purchase_month\n",
      "0   313578113262317     2018-01-01           2018-01-01\n",
      "1  1575281904278712     2017-06-01           2017-06-01\n",
      "2  2429014661409475     2017-10-01           2017-10-01\n",
      "3  2464366381792757     2018-01-01           2018-01-01\n",
      "4  2551852515556206     2017-11-01           2017-11-01\n"
     ]
    }
   ],
   "source": [
    "# Buscamos la primera compra de cada usuario\n",
    "first_purchases_user = orders_data.groupby('Uid')['Buy Ts'].min().reset_index().rename(columns={'Buy Ts': 'first_purchase'})\n",
    "\n",
    "# Agregamos la columna con el mes de la primera compra\n",
    "first_purchases_user['first_purchase_month'] = first_purchases_user['first_purchase'].astype('datetime64[M]')\n",
    "print(first_purchases_user.head())"
   ]
  },
  {
   "cell_type": "code",
   "execution_count": 152,
   "metadata": {},
   "outputs": [],
   "source": [
    "# Cálculo del número de nuevos usuarios para cada mes\n",
    "new_users = first_purchases_user.groupby('first_purchase_month').agg({'Uid': 'nunique'}).rename(columns={'Uid': 'n_buyers'})"
   ]
  },
  {
   "cell_type": "code",
   "execution_count": 153,
   "metadata": {},
   "outputs": [
    {
     "name": "stdout",
     "output_type": "stream",
     "text": [
      "<bound method NDFrame.head of           Buy Ts  Revenue                   Uid order_month first_visit  \\\n",
      "0     2017-06-01    17.00  10329302124590727494  2017-06-01  2017-06-01   \n",
      "1     2017-06-01     0.55  11627257723692907447  2017-06-01  2017-06-01   \n",
      "2     2017-06-01     0.37  17903680561304213844  2017-06-01  2017-06-01   \n",
      "3     2017-06-01     0.55  16109239769442553005  2017-06-01  2017-06-01   \n",
      "4     2017-06-01     0.37  14200605875248379450  2017-06-01  2017-06-01   \n",
      "...          ...      ...                   ...         ...         ...   \n",
      "50410 2018-05-01     4.64  12296626599487328624  2018-05-01  2018-05-01   \n",
      "50411 2018-05-01     5.80  11369640365507475976  2018-05-01  2018-05-01   \n",
      "50412 2018-05-01     0.30   1786462140797698849  2018-05-01  2018-05-01   \n",
      "50413 2018-05-01     3.67   3993697860786194247  2018-05-01  2017-10-01   \n",
      "50414 2018-06-01     3.42     83872787173869366  2018-06-01  2018-05-01   \n",
      "\n",
      "      first_purchase_month  \n",
      "0               2017-06-01  \n",
      "1               2017-06-01  \n",
      "2               2017-06-01  \n",
      "3               2017-06-01  \n",
      "4               2017-06-01  \n",
      "...                    ...  \n",
      "50410           2018-05-01  \n",
      "50411           2018-05-01  \n",
      "50412           2018-05-01  \n",
      "50413           2018-05-01  \n",
      "50414           2018-06-01  \n",
      "\n",
      "[50415 rows x 6 columns]>\n"
     ]
    }
   ],
   "source": [
    "#Añadimos el mes del primer pedido a la tabla de pedidos ('orders_data')\n",
    "orders_data = orders_data.merge(first_purchases_user[['Uid', 'first_purchase_month']], on='Uid')\n",
    "print(orders_data.head)"
   ]
  },
  {
   "cell_type": "code",
   "execution_count": 154,
   "metadata": {},
   "outputs": [],
   "source": [
    "# Creamos cohortes y agregamos los meses de la primera compra de de los usuarios a 'orders_data'\n",
    "orders_data['cohort'] = orders_data['first_purchase_month']\n",
    "\n",
    "# Añadimos el mes del pedido a la tabla orders_data\n",
    "orders_data['order_month'] = orders_data['Buy Ts'].astype('datetime64[M]')"
   ]
  },
  {
   "cell_type": "code",
   "execution_count": 155,
   "metadata": {},
   "outputs": [],
   "source": [
    "# Agrupamos la tabla y calculamos y calculamos el Beneficio Bruto (gross_profit)\n",
    "margin_rate = 0.5\n",
    "\n",
    "orders_data['gross_profit'] = orders_data['Revenue'] * margin_rate"
   ]
  },
  {
   "cell_type": "code",
   "execution_count": 156,
   "metadata": {},
   "outputs": [
    {
     "name": "stdout",
     "output_type": "stream",
     "text": [
      "      cohort order_month  gross_profit  month_lifetime\n",
      "0 2017-06-01  2017-06-01      4778.745               0\n",
      "1 2017-06-01  2017-07-01       490.910               1\n",
      "2 2017-06-01  2017-08-01       442.670               2\n",
      "3 2017-06-01  2017-09-01       965.650               3\n",
      "4 2017-06-01  2017-10-01      1034.290               4\n"
     ]
    }
   ],
   "source": [
    "# Agrupamos a tabla por cohortes y meses de pedido para obtener los ingresos\n",
    "cohort_data = orders_data.groupby(['cohort', 'order_month']).agg({'gross_profit': 'sum'}).reset_index()\n",
    "\n",
    "# Calculamos el número de meses desde la 1ra compra (Edad de cohorte)\n",
    "def calculate_month_lifetime(row):\n",
    "    return relativedelta(row['order_month'], row['cohort']).months + (relativedelta(row['order_month'], row['cohort']).years * 12)\n",
    "\n",
    "cohort_data['month_lifetime'] = cohort_data.apply(calculate_month_lifetime, axis=1)\n",
    "\n",
    "print(cohort_data.head())"
   ]
  },
  {
   "cell_type": "markdown",
   "metadata": {},
   "source": [
    "Cálculo de LTV"
   ]
  },
  {
   "cell_type": "code",
   "execution_count": 157,
   "metadata": {},
   "outputs": [],
   "source": [
    "# Union de cohort_data con new_users para análisis de nuevos compradores\n",
    "cohort_data = cohort_data.merge(new_users, left_on='cohort', right_index=True)"
   ]
  },
  {
   "cell_type": "code",
   "execution_count": 158,
   "metadata": {},
   "outputs": [
    {
     "name": "stdout",
     "output_type": "stream",
     "text": [
      "      cohort order_month  gross_profit  month_lifetime  n_buyers       LTV\n",
      "0 2017-06-01  2017-06-01      4778.745               0      2023  2.362207\n",
      "1 2017-06-01  2017-07-01       490.910               1      2023  0.242664\n",
      "2 2017-06-01  2017-08-01       442.670               2      2023  0.218819\n",
      "3 2017-06-01  2017-09-01       965.650               3      2023  0.477336\n",
      "4 2017-06-01  2017-10-01      1034.290               4      2023  0.511265\n"
     ]
    }
   ],
   "source": [
    "# Cálculo de LTV\n",
    "cohort_data['LTV'] = cohort_data['gross_profit'] / cohort_data['n_buyers']\n",
    "print(cohort_data.head())"
   ]
  },
  {
   "cell_type": "code",
   "execution_count": 159,
   "metadata": {
    "scrolled": true
   },
   "outputs": [
    {
     "data": {
      "text/html": [
       "<div>\n",
       "<style scoped>\n",
       "    .dataframe tbody tr th:only-of-type {\n",
       "        vertical-align: middle;\n",
       "    }\n",
       "\n",
       "    .dataframe tbody tr th {\n",
       "        vertical-align: top;\n",
       "    }\n",
       "\n",
       "    .dataframe thead th {\n",
       "        text-align: right;\n",
       "    }\n",
       "</style>\n",
       "<table border=\"1\" class=\"dataframe\">\n",
       "  <thead>\n",
       "    <tr style=\"text-align: right;\">\n",
       "      <th>month_lifetime</th>\n",
       "      <th>0</th>\n",
       "      <th>1</th>\n",
       "      <th>2</th>\n",
       "      <th>3</th>\n",
       "      <th>4</th>\n",
       "      <th>5</th>\n",
       "      <th>6</th>\n",
       "      <th>7</th>\n",
       "      <th>8</th>\n",
       "      <th>9</th>\n",
       "      <th>10</th>\n",
       "      <th>11</th>\n",
       "    </tr>\n",
       "    <tr>\n",
       "      <th>cohort</th>\n",
       "      <th></th>\n",
       "      <th></th>\n",
       "      <th></th>\n",
       "      <th></th>\n",
       "      <th></th>\n",
       "      <th></th>\n",
       "      <th></th>\n",
       "      <th></th>\n",
       "      <th></th>\n",
       "      <th></th>\n",
       "      <th></th>\n",
       "      <th></th>\n",
       "    </tr>\n",
       "  </thead>\n",
       "  <tbody>\n",
       "    <tr>\n",
       "      <th>2017-06-01</th>\n",
       "      <td>2.36</td>\n",
       "      <td>0.24</td>\n",
       "      <td>0.22</td>\n",
       "      <td>0.48</td>\n",
       "      <td>0.51</td>\n",
       "      <td>0.37</td>\n",
       "      <td>0.48</td>\n",
       "      <td>0.29</td>\n",
       "      <td>0.28</td>\n",
       "      <td>0.30</td>\n",
       "      <td>0.29</td>\n",
       "      <td>0.13</td>\n",
       "    </tr>\n",
       "    <tr>\n",
       "      <th>2017-07-01</th>\n",
       "      <td>3.01</td>\n",
       "      <td>0.17</td>\n",
       "      <td>0.31</td>\n",
       "      <td>0.18</td>\n",
       "      <td>0.09</td>\n",
       "      <td>0.08</td>\n",
       "      <td>0.06</td>\n",
       "      <td>0.07</td>\n",
       "      <td>0.08</td>\n",
       "      <td>0.07</td>\n",
       "      <td>0.08</td>\n",
       "      <td>0.00</td>\n",
       "    </tr>\n",
       "    <tr>\n",
       "      <th>2017-08-01</th>\n",
       "      <td>2.64</td>\n",
       "      <td>0.24</td>\n",
       "      <td>0.23</td>\n",
       "      <td>0.20</td>\n",
       "      <td>0.25</td>\n",
       "      <td>0.14</td>\n",
       "      <td>0.11</td>\n",
       "      <td>0.20</td>\n",
       "      <td>0.15</td>\n",
       "      <td>0.09</td>\n",
       "      <td>0.00</td>\n",
       "      <td>0.00</td>\n",
       "    </tr>\n",
       "    <tr>\n",
       "      <th>2017-09-01</th>\n",
       "      <td>2.82</td>\n",
       "      <td>0.56</td>\n",
       "      <td>0.26</td>\n",
       "      <td>1.99</td>\n",
       "      <td>0.20</td>\n",
       "      <td>0.32</td>\n",
       "      <td>0.35</td>\n",
       "      <td>0.12</td>\n",
       "      <td>0.09</td>\n",
       "      <td>0.00</td>\n",
       "      <td>0.00</td>\n",
       "      <td>0.00</td>\n",
       "    </tr>\n",
       "    <tr>\n",
       "      <th>2017-10-01</th>\n",
       "      <td>2.50</td>\n",
       "      <td>0.27</td>\n",
       "      <td>0.10</td>\n",
       "      <td>0.08</td>\n",
       "      <td>0.08</td>\n",
       "      <td>0.06</td>\n",
       "      <td>0.04</td>\n",
       "      <td>0.06</td>\n",
       "      <td>0.00</td>\n",
       "      <td>0.00</td>\n",
       "      <td>0.00</td>\n",
       "      <td>0.00</td>\n",
       "    </tr>\n",
       "    <tr>\n",
       "      <th>2017-11-01</th>\n",
       "      <td>2.58</td>\n",
       "      <td>0.20</td>\n",
       "      <td>0.10</td>\n",
       "      <td>0.16</td>\n",
       "      <td>0.07</td>\n",
       "      <td>0.03</td>\n",
       "      <td>0.06</td>\n",
       "      <td>0.00</td>\n",
       "      <td>0.00</td>\n",
       "      <td>0.00</td>\n",
       "      <td>0.00</td>\n",
       "      <td>0.00</td>\n",
       "    </tr>\n",
       "    <tr>\n",
       "      <th>2017-12-01</th>\n",
       "      <td>2.37</td>\n",
       "      <td>0.13</td>\n",
       "      <td>0.46</td>\n",
       "      <td>0.53</td>\n",
       "      <td>0.16</td>\n",
       "      <td>0.17</td>\n",
       "      <td>0.00</td>\n",
       "      <td>0.00</td>\n",
       "      <td>0.00</td>\n",
       "      <td>0.00</td>\n",
       "      <td>0.00</td>\n",
       "      <td>0.00</td>\n",
       "    </tr>\n",
       "    <tr>\n",
       "      <th>2018-01-01</th>\n",
       "      <td>2.07</td>\n",
       "      <td>0.15</td>\n",
       "      <td>0.15</td>\n",
       "      <td>0.07</td>\n",
       "      <td>0.03</td>\n",
       "      <td>0.00</td>\n",
       "      <td>0.00</td>\n",
       "      <td>0.00</td>\n",
       "      <td>0.00</td>\n",
       "      <td>0.00</td>\n",
       "      <td>0.00</td>\n",
       "      <td>0.00</td>\n",
       "    </tr>\n",
       "    <tr>\n",
       "      <th>2018-02-01</th>\n",
       "      <td>2.08</td>\n",
       "      <td>0.14</td>\n",
       "      <td>0.04</td>\n",
       "      <td>0.04</td>\n",
       "      <td>0.00</td>\n",
       "      <td>0.00</td>\n",
       "      <td>0.00</td>\n",
       "      <td>0.00</td>\n",
       "      <td>0.00</td>\n",
       "      <td>0.00</td>\n",
       "      <td>0.00</td>\n",
       "      <td>0.00</td>\n",
       "    </tr>\n",
       "    <tr>\n",
       "      <th>2018-03-01</th>\n",
       "      <td>2.42</td>\n",
       "      <td>0.15</td>\n",
       "      <td>0.16</td>\n",
       "      <td>0.00</td>\n",
       "      <td>0.00</td>\n",
       "      <td>0.00</td>\n",
       "      <td>0.00</td>\n",
       "      <td>0.00</td>\n",
       "      <td>0.00</td>\n",
       "      <td>0.00</td>\n",
       "      <td>0.00</td>\n",
       "      <td>0.00</td>\n",
       "    </tr>\n",
       "    <tr>\n",
       "      <th>2018-04-01</th>\n",
       "      <td>2.33</td>\n",
       "      <td>0.27</td>\n",
       "      <td>0.00</td>\n",
       "      <td>0.00</td>\n",
       "      <td>0.00</td>\n",
       "      <td>0.00</td>\n",
       "      <td>0.00</td>\n",
       "      <td>0.00</td>\n",
       "      <td>0.00</td>\n",
       "      <td>0.00</td>\n",
       "      <td>0.00</td>\n",
       "      <td>0.00</td>\n",
       "    </tr>\n",
       "    <tr>\n",
       "      <th>2018-05-01</th>\n",
       "      <td>2.33</td>\n",
       "      <td>0.00</td>\n",
       "      <td>0.00</td>\n",
       "      <td>0.00</td>\n",
       "      <td>0.00</td>\n",
       "      <td>0.00</td>\n",
       "      <td>0.00</td>\n",
       "      <td>0.00</td>\n",
       "      <td>0.00</td>\n",
       "      <td>0.00</td>\n",
       "      <td>0.00</td>\n",
       "      <td>0.00</td>\n",
       "    </tr>\n",
       "    <tr>\n",
       "      <th>2018-06-01</th>\n",
       "      <td>1.71</td>\n",
       "      <td>0.00</td>\n",
       "      <td>0.00</td>\n",
       "      <td>0.00</td>\n",
       "      <td>0.00</td>\n",
       "      <td>0.00</td>\n",
       "      <td>0.00</td>\n",
       "      <td>0.00</td>\n",
       "      <td>0.00</td>\n",
       "      <td>0.00</td>\n",
       "      <td>0.00</td>\n",
       "      <td>0.00</td>\n",
       "    </tr>\n",
       "  </tbody>\n",
       "</table>\n",
       "</div>"
      ],
      "text/plain": [
       "month_lifetime    0     1     2     3     4     5     6     7     8     9   \\\n",
       "cohort                                                                       \n",
       "2017-06-01      2.36  0.24  0.22  0.48  0.51  0.37  0.48  0.29  0.28  0.30   \n",
       "2017-07-01      3.01  0.17  0.31  0.18  0.09  0.08  0.06  0.07  0.08  0.07   \n",
       "2017-08-01      2.64  0.24  0.23  0.20  0.25  0.14  0.11  0.20  0.15  0.09   \n",
       "2017-09-01      2.82  0.56  0.26  1.99  0.20  0.32  0.35  0.12  0.09  0.00   \n",
       "2017-10-01      2.50  0.27  0.10  0.08  0.08  0.06  0.04  0.06  0.00  0.00   \n",
       "2017-11-01      2.58  0.20  0.10  0.16  0.07  0.03  0.06  0.00  0.00  0.00   \n",
       "2017-12-01      2.37  0.13  0.46  0.53  0.16  0.17  0.00  0.00  0.00  0.00   \n",
       "2018-01-01      2.07  0.15  0.15  0.07  0.03  0.00  0.00  0.00  0.00  0.00   \n",
       "2018-02-01      2.08  0.14  0.04  0.04  0.00  0.00  0.00  0.00  0.00  0.00   \n",
       "2018-03-01      2.42  0.15  0.16  0.00  0.00  0.00  0.00  0.00  0.00  0.00   \n",
       "2018-04-01      2.33  0.27  0.00  0.00  0.00  0.00  0.00  0.00  0.00  0.00   \n",
       "2018-05-01      2.33  0.00  0.00  0.00  0.00  0.00  0.00  0.00  0.00  0.00   \n",
       "2018-06-01      1.71  0.00  0.00  0.00  0.00  0.00  0.00  0.00  0.00  0.00   \n",
       "\n",
       "month_lifetime    10    11  \n",
       "cohort                      \n",
       "2017-06-01      0.29  0.13  \n",
       "2017-07-01      0.08  0.00  \n",
       "2017-08-01      0.00  0.00  \n",
       "2017-09-01      0.00  0.00  \n",
       "2017-10-01      0.00  0.00  \n",
       "2017-11-01      0.00  0.00  \n",
       "2017-12-01      0.00  0.00  \n",
       "2018-01-01      0.00  0.00  \n",
       "2018-02-01      0.00  0.00  \n",
       "2018-03-01      0.00  0.00  \n",
       "2018-04-01      0.00  0.00  \n",
       "2018-05-01      0.00  0.00  \n",
       "2018-06-01      0.00  0.00  "
      ]
     },
     "execution_count": 159,
     "metadata": {},
     "output_type": "execute_result"
    }
   ],
   "source": [
    "ltv_pivot = cohort_data.pivot_table(\n",
    "            index='cohort',\n",
    "            columns='month_lifetime',\n",
    "            values='LTV',\n",
    "            aggfunc='sum',\n",
    "            fill_value=0\n",
    ").round(2)\n",
    "\n",
    "ltv_pivot"
   ]
  },
  {
   "cell_type": "code",
   "execution_count": 160,
   "metadata": {},
   "outputs": [
    {
     "data": {
      "image/png": "[encoded data removed]",
      "text/plain": [
       "<Figure size 1200x800 with 2 Axes>"
      ]
     },
     "metadata": {},
     "output_type": "display_data"
    }
   ],
   "source": [
    "# Gráfico heatmap para el resultado de LTV\n",
    "plt.figure(figsize=(12, 8))\n",
    "sns.heatmap(ltv_pivot, annot=True, fmt=\".2f\", linewidths=.5)\n",
    "plt.title('Heatmap del LTV por Cohorte y Mes de Vida')\n",
    "plt.xlabel('Meses de Vida de la Cohorte')\n",
    "plt.ylabel('Cohorte de la Primera Compra')\n",
    "plt.show()"
   ]
  },
  {
   "cell_type": "markdown",
   "metadata": {},
   "source": [
    "<div class=\"alert alert-block alert-success\">\n",
    "<b>Comentario del revisor (3ra Iteracion)</b> <a class=“tocSkip”></a>\n",
    "\n",
    "Buen trabajo con el ajuste!\n",
    "</div>"
   ]
  },
  {
   "cell_type": "markdown",
   "metadata": {},
   "source": [
    "###  Marketing"
   ]
  },
  {
   "cell_type": "markdown",
   "metadata": {},
   "source": [
    "Analizaremos y calcularemos ¿Cuánto dinero se gastó? (Total/por fuente de adquisición/a lo largo del tiempo)\n",
    "¿Cuál fue el costo de adquisición de clientes de cada una de las fuentes?\n",
    "¿Cuán rentables eran las inversiones? (ROMI)"
   ]
  },
  {
   "cell_type": "code",
   "execution_count": 161,
   "metadata": {},
   "outputs": [
    {
     "name": "stdout",
     "output_type": "stream",
     "text": [
      "329131.62\n"
     ]
    }
   ],
   "source": [
    "# Total de dinero gastado\n",
    "total_cost = costs_data['costs'].sum()\n",
    "\n",
    "print(total_cost)"
   ]
  },
  {
   "cell_type": "code",
   "execution_count": 162,
   "metadata": {},
   "outputs": [
    {
     "name": "stdout",
     "output_type": "stream",
     "text": [
      "   source_id  total_cost\n",
      "0          1    20833.27\n",
      "1          2    42806.04\n",
      "2          3   141321.63\n",
      "3          4    61073.60\n",
      "4          5    51757.10\n",
      "5          9     5517.49\n",
      "6         10     5822.49\n"
     ]
    }
   ],
   "source": [
    "# Dinero gastado por fuente de adquisición\n",
    "cost_per_source = costs_data.groupby('source_id')['costs'].sum().reset_index().rename(columns={'costs': 'total_cost'})\n",
    "print(cost_per_source)"
   ]
  },
  {
   "cell_type": "code",
   "execution_count": 163,
   "metadata": {
    "scrolled": true
   },
   "outputs": [
    {
     "name": "stdout",
     "output_type": "stream",
     "text": [
      "      month  monthly_cost\n",
      "0   2017-06      18015.00\n",
      "1   2017-07      18240.59\n",
      "2   2017-08      14790.54\n",
      "3   2017-09      24368.91\n",
      "4   2017-10      36322.88\n",
      "5   2017-11      37907.88\n",
      "6   2017-12      38315.35\n",
      "7   2018-01      33518.52\n",
      "8   2018-02      32723.03\n",
      "9   2018-03      30415.27\n",
      "10  2018-04      22289.38\n",
      "11  2018-05      22224.27\n",
      "monthly_cost    329131.62\n",
      "dtype: float64\n"
     ]
    }
   ],
   "source": [
    "# Dinero gastado a lo largo del tiempo\n",
    "cost_over_time = costs_data.groupby(costs_data['dt'].dt.to_period('M'))['costs'].sum().reset_index().rename(columns={'dt': 'month', 'costs': 'monthly_cost'})\n",
    "print(cost_over_time)\n",
    "print(cost_over_time.sum())"
   ]
  },
  {
   "cell_type": "markdown",
   "metadata": {},
   "source": [
    "Costo total: Se tiene un costo total de $329131.62, esto nos da una visión general de la inversión de marketing en un año."
   ]
  },
  {
   "cell_type": "markdown",
   "metadata": {},
   "source": [
    "Costo de adquisición de clientes de cada una de las fuentes (CAC)"
   ]
  },
  {
   "cell_type": "code",
   "execution_count": 164,
   "metadata": {},
   "outputs": [
    {
     "name": "stdout",
     "output_type": "stream",
     "text": [
      "   source_id  total_cost  Source Id  n_new_users        CAC\n",
      "0          1    20833.27          1         7138   2.918642\n",
      "1          2    42806.04          2         7305   5.859828\n",
      "2          3   141321.63          3        13846  10.206676\n",
      "3          4    61073.60          4        14253   4.284965\n",
      "4          5    51757.10          5        10156   5.096209\n",
      "5          9     5517.49          9         2793   1.975471\n",
      "6         10     5822.49         10         1773   3.283976\n"
     ]
    }
   ],
   "source": [
    "# Agregamos source_id a los datos de orders_data\n",
    "orders_data = orders_data.merge(visit_data[['Uid', 'Source Id']], on='Uid')\n",
    "\n",
    "# Cálculo del núm de usuarios nuevos por fuente de adquisición\n",
    "new_users_per_source = orders_data.groupby('Source Id')['Uid'].nunique().reset_index().rename(columns={'Uid': 'n_new_users'})\n",
    "\n",
    "# Cálculo del costo total de marketing por fuente\n",
    "cost_per_source = costs_data.groupby('source_id')['costs'].sum().reset_index().rename(columns={'costs': 'total_cost'})\n",
    "\n",
    "# Cálculo del CAC: Creamos la columna 'CAC' = total_cost / n_new_users\n",
    "cac_per_source = cost_per_source.merge(new_users_per_source, left_on='source_id', right_on='Source Id')\n",
    "cac_per_source['CAC'] = cac_per_source['total_cost'] / cac_per_source['n_new_users']\n",
    "print(cac_per_source)"
   ]
  },
  {
   "cell_type": "markdown",
   "metadata": {},
   "source": [
    "1.El costo de adquisicón de los clientes por cada fuente de adquisión nos revela en que plataformas se ha invertido más y el costo promedio de convertir a un usuario en cliente.\n",
    "\n",
    "2.Como nos muestra el gráfico 'Adquisición de cliente por costo de adquisición'.\n",
    "\n",
    "3.La mayor inversión estuvo en el Source ID 3."
   ]
  },
  {
   "cell_type": "markdown",
   "metadata": {},
   "source": [
    "Cálculo del ROMI"
   ]
  },
  {
   "cell_type": "code",
   "execution_count": 165,
   "metadata": {
    "scrolled": false
   },
   "outputs": [
    {
     "data": {
      "text/html": [
       "<div>\n",
       "<style scoped>\n",
       "    .dataframe tbody tr th:only-of-type {\n",
       "        vertical-align: middle;\n",
       "    }\n",
       "\n",
       "    .dataframe tbody tr th {\n",
       "        vertical-align: top;\n",
       "    }\n",
       "\n",
       "    .dataframe thead th {\n",
       "        text-align: right;\n",
       "    }\n",
       "</style>\n",
       "<table border=\"1\" class=\"dataframe\">\n",
       "  <thead>\n",
       "    <tr style=\"text-align: right;\">\n",
       "      <th>cost_month</th>\n",
       "      <th>2017-06</th>\n",
       "      <th>2017-07</th>\n",
       "      <th>2017-08</th>\n",
       "      <th>2017-09</th>\n",
       "      <th>2017-10</th>\n",
       "      <th>2017-11</th>\n",
       "      <th>2017-12</th>\n",
       "      <th>2018-01</th>\n",
       "      <th>2018-02</th>\n",
       "      <th>2018-03</th>\n",
       "      <th>2018-04</th>\n",
       "      <th>2018-05</th>\n",
       "    </tr>\n",
       "    <tr>\n",
       "      <th>source_id</th>\n",
       "      <th></th>\n",
       "      <th></th>\n",
       "      <th></th>\n",
       "      <th></th>\n",
       "      <th></th>\n",
       "      <th></th>\n",
       "      <th></th>\n",
       "      <th></th>\n",
       "      <th></th>\n",
       "      <th></th>\n",
       "      <th></th>\n",
       "      <th></th>\n",
       "    </tr>\n",
       "  </thead>\n",
       "  <tbody>\n",
       "    <tr>\n",
       "      <th>1</th>\n",
       "      <td>22.89</td>\n",
       "      <td>52.06</td>\n",
       "      <td>45.32</td>\n",
       "      <td>92.98</td>\n",
       "      <td>40.39</td>\n",
       "      <td>41.17</td>\n",
       "      <td>59.92</td>\n",
       "      <td>31.68</td>\n",
       "      <td>44.30</td>\n",
       "      <td>85.43</td>\n",
       "      <td>110.12</td>\n",
       "      <td>51.35</td>\n",
       "    </tr>\n",
       "    <tr>\n",
       "      <th>2</th>\n",
       "      <td>10.22</td>\n",
       "      <td>13.57</td>\n",
       "      <td>15.14</td>\n",
       "      <td>40.14</td>\n",
       "      <td>29.13</td>\n",
       "      <td>13.01</td>\n",
       "      <td>70.12</td>\n",
       "      <td>26.15</td>\n",
       "      <td>29.91</td>\n",
       "      <td>40.03</td>\n",
       "      <td>30.37</td>\n",
       "      <td>26.47</td>\n",
       "    </tr>\n",
       "    <tr>\n",
       "      <th>3</th>\n",
       "      <td>0.48</td>\n",
       "      <td>0.76</td>\n",
       "      <td>0.81</td>\n",
       "      <td>1.60</td>\n",
       "      <td>0.91</td>\n",
       "      <td>0.78</td>\n",
       "      <td>1.91</td>\n",
       "      <td>0.71</td>\n",
       "      <td>0.94</td>\n",
       "      <td>0.93</td>\n",
       "      <td>1.01</td>\n",
       "      <td>1.45</td>\n",
       "    </tr>\n",
       "    <tr>\n",
       "      <th>4</th>\n",
       "      <td>1.94</td>\n",
       "      <td>2.96</td>\n",
       "      <td>2.65</td>\n",
       "      <td>6.03</td>\n",
       "      <td>4.88</td>\n",
       "      <td>4.68</td>\n",
       "      <td>5.37</td>\n",
       "      <td>3.23</td>\n",
       "      <td>4.29</td>\n",
       "      <td>3.88</td>\n",
       "      <td>3.27</td>\n",
       "      <td>2.99</td>\n",
       "    </tr>\n",
       "    <tr>\n",
       "      <th>5</th>\n",
       "      <td>4.47</td>\n",
       "      <td>7.36</td>\n",
       "      <td>9.30</td>\n",
       "      <td>15.73</td>\n",
       "      <td>10.49</td>\n",
       "      <td>6.02</td>\n",
       "      <td>27.91</td>\n",
       "      <td>8.10</td>\n",
       "      <td>12.25</td>\n",
       "      <td>11.02</td>\n",
       "      <td>8.64</td>\n",
       "      <td>7.57</td>\n",
       "    </tr>\n",
       "    <tr>\n",
       "      <th>9</th>\n",
       "      <td>2.67</td>\n",
       "      <td>2.94</td>\n",
       "      <td>4.30</td>\n",
       "      <td>3.79</td>\n",
       "      <td>3.67</td>\n",
       "      <td>3.75</td>\n",
       "      <td>3.47</td>\n",
       "      <td>1.89</td>\n",
       "      <td>2.53</td>\n",
       "      <td>3.48</td>\n",
       "      <td>3.81</td>\n",
       "      <td>3.51</td>\n",
       "    </tr>\n",
       "    <tr>\n",
       "      <th>10</th>\n",
       "      <td>1.48</td>\n",
       "      <td>0.77</td>\n",
       "      <td>1.34</td>\n",
       "      <td>0.72</td>\n",
       "      <td>1.08</td>\n",
       "      <td>1.02</td>\n",
       "      <td>0.70</td>\n",
       "      <td>0.44</td>\n",
       "      <td>1.77</td>\n",
       "      <td>2.16</td>\n",
       "      <td>1.18</td>\n",
       "      <td>3.14</td>\n",
       "    </tr>\n",
       "  </tbody>\n",
       "</table>\n",
       "</div>"
      ],
      "text/plain": [
       "cost_month  2017-06  2017-07  2017-08  2017-09  2017-10  2017-11  2017-12  \\\n",
       "source_id                                                                   \n",
       "1             22.89    52.06    45.32    92.98    40.39    41.17    59.92   \n",
       "2             10.22    13.57    15.14    40.14    29.13    13.01    70.12   \n",
       "3              0.48     0.76     0.81     1.60     0.91     0.78     1.91   \n",
       "4              1.94     2.96     2.65     6.03     4.88     4.68     5.37   \n",
       "5              4.47     7.36     9.30    15.73    10.49     6.02    27.91   \n",
       "9              2.67     2.94     4.30     3.79     3.67     3.75     3.47   \n",
       "10             1.48     0.77     1.34     0.72     1.08     1.02     0.70   \n",
       "\n",
       "cost_month  2018-01  2018-02  2018-03  2018-04  2018-05  \n",
       "source_id                                                \n",
       "1             31.68    44.30    85.43   110.12    51.35  \n",
       "2             26.15    29.91    40.03    30.37    26.47  \n",
       "3              0.71     0.94     0.93     1.01     1.45  \n",
       "4              3.23     4.29     3.88     3.27     2.99  \n",
       "5              8.10    12.25    11.02     8.64     7.57  \n",
       "9              1.89     2.53     3.48     3.81     3.51  \n",
       "10             0.44     1.77     2.16     1.18     3.14  "
      ]
     },
     "execution_count": 165,
     "metadata": {},
     "output_type": "execute_result"
    }
   ],
   "source": [
    "# Creamos la columna 'order_month' para extraer el mes de cada compra\n",
    "orders_data['order_month'] = orders_data['Buy Ts'].dt.to_period('M')\n",
    "\n",
    "# Cálculo del beneficio bruto por fuente de adquisión y mes\n",
    "gross_profit_per_source_month = orders_data.groupby(['Source Id', 'order_month'])['gross_profit'].sum().reset_index().rename(columns={'gross_profit': 'total_gross_profit'})\n",
    "\n",
    "#Creamos la columna 'dt' en cost_data (datetime)\n",
    "costs_data['dt'] = pd.to_datetime(costs_data['dt'])\n",
    "\n",
    "# Extraemos el mes de cada gasto creando la columna 'cost_month'\n",
    "costs_data['cost_month'] = costs_data['dt'].dt.to_period('M')\n",
    "\n",
    "# Calculo del costo por fuente de adquisición y mes\n",
    "cost_per_source_month = costs_data.groupby(['source_id', 'cost_month'])['costs'].sum().reset_index().rename(columns={'costs': 'total_cost'})\n",
    "\n",
    "#Unimos las tablas por source_id y mes con merge y creamos la columna 'ROMI'\n",
    "romi_per_source_month = cost_per_source_month.merge(gross_profit_per_source_month, left_on=['source_id', 'cost_month'], right_on=['Source Id', 'order_month'])\n",
    "romi_per_source_month['ROMI'] = romi_per_source_month['total_gross_profit'] / romi_per_source_month['total_cost']\n",
    "\n",
    "# Creamos el pivot_table para el ROMI\n",
    "romi_pivot = romi_per_source_month.pivot_table(\n",
    "    index='source_id',\n",
    "    columns='cost_month',\n",
    "    values='ROMI',\n",
    "    aggfunc='sum',\n",
    "    fill_value=0\n",
    ").round(2)\n",
    "romi_pivot"
   ]
  },
  {
   "cell_type": "code",
   "execution_count": 166,
   "metadata": {},
   "outputs": [
    {
     "data": {
      "image/png": "[encoded data removed]",
      "text/plain": [
       "<Figure size 1400x800 with 2 Axes>"
      ]
     },
     "metadata": {},
     "output_type": "display_data"
    }
   ],
   "source": [
    "# Creamos el heatmap para el ROMI\n",
    "plt.figure(figsize=(14, 8))\n",
    "sns.heatmap(romi_pivot, annot=True, fmt=\".2f\", linewidths=.5)\n",
    "plt.title('Heatmap del ROMI por Fuente de Adquisición y Mes')\n",
    "plt.xlabel('Mes')\n",
    "plt.ylabel('Fuente de Adquisición')\n",
    "plt.show()"
   ]
  },
  {
   "cell_type": "code",
   "execution_count": null,
   "metadata": {},
   "outputs": [],
   "source": []
  },
  {
   "cell_type": "markdown",
   "metadata": {},
   "source": [
    "Con respeto al retorno de inversión en marketing: \n",
    "\n",
    "1. Las fuentes con un ROMI más alto nos indican una alta rentabilidad de las inversiones en marketing, en nuestro caso del gráfico 'Retorno de Inversión de Marketing (ROMI) por adquisición' \n",
    "\n",
    "2. La fuente de adquisición 1 tiene los valores más altos de ROMI en los meses de junio a agosto del 2017, y nuevamente tenemos un ROMI alto en los meses de noviembre del 2017 y abril del 2018.\n",
    "\n",
    "3. La fuente de adquisición 2 también muestra resultados altos del ROMI, en septiembre y diciembre del 2017 y marzo del 2018."
   ]
  },
  {
   "cell_type": "markdown",
   "metadata": {},
   "source": [
    "<div class=\"alert alert-block alert-success\">\n",
    "<b>Comentario del revisor (3ra Iteracion)</b> <a class=“tocSkip”></a>\n",
    "\n",
    "Buen trabajo con el ajuste!\n",
    "</div>"
   ]
  },
  {
   "cell_type": "markdown",
   "metadata": {},
   "source": [
    "### Trazo gráficos para mostrar cómo difieren estas métricas para varios dispositivos y fuentes de anuncios y cómo cambian con el tiempo."
   ]
  },
  {
   "cell_type": "code",
   "execution_count": 167,
   "metadata": {},
   "outputs": [
    {
     "data": {
      "image/png": "[encoded data removed]",
      "text/plain": [
       "<Figure size 1000x600 with 1 Axes>"
      ]
     },
     "metadata": {},
     "output_type": "display_data"
    }
   ],
   "source": [
    "# Configuramos el estilo de gráficos seaborn\n",
    "sns.set(style=\"whitegrid\")\n",
    "\n",
    "#Gráfico del gasto total por fuente de adquisición\n",
    "plt.figure(figsize=(10, 6))\n",
    "sns.barplot(x='source_id', y='total_cost', data=cost_per_source)\n",
    "plt.title('Gasto total por fuente de adquisición')\n",
    "plt.xlabel('Source ID')\n",
    "plt.ylabel('Total Cost')\n",
    "plt.show()"
   ]
  },
  {
   "cell_type": "code",
   "execution_count": 168,
   "metadata": {},
   "outputs": [
    {
     "data": {
      "image/png": "[encoded data removed]",
      "text/plain": [
       "<Figure size 1000x600 with 1 Axes>"
      ]
     },
     "metadata": {},
     "output_type": "display_data"
    }
   ],
   "source": [
    "# Gráfico del CAC por fuente de adquisición\n",
    "plt.figure(figsize=(10, 6))\n",
    "sns.barplot(x='source_id', y='CAC', data=cac_per_source)\n",
    "plt.title('Adquisición de cliente por costo de adquisición')\n",
    "plt.xlabel('Source ID')\n",
    "plt.ylabel('CAC')\n",
    "plt.show()"
   ]
  },
  {
   "cell_type": "code",
   "execution_count": 169,
   "metadata": {},
   "outputs": [
    {
     "data": {
      "image/png": "[encoded data removed]",
      "text/plain": [
       "<Figure size 1000x600 with 1 Axes>"
      ]
     },
     "metadata": {},
     "output_type": "display_data"
    }
   ],
   "source": [
    "# Gráfico del ROMI por fuente de adquisición\n",
    "plt.figure(figsize=(10, 6))\n",
    "sns.barplot(x='source_id', y='ROMI', data=romi_per_source_month)\n",
    "plt.title('Retorno de Inversión de Marketing (ROMI) por adquisición')\n",
    "plt.xlabel('Source ID')\n",
    "plt.ylabel('ROMI')\n",
    "plt.show()"
   ]
  },
  {
   "cell_type": "markdown",
   "metadata": {},
   "source": [
    "### Conclusiones"
   ]
  },
  {
   "cell_type": "markdown",
   "metadata": {},
   "source": [
    "Después de analizar los datos de marketing y haber obtenido las métricas, se \n",
    "han obtenido las siguientes conlusiones y recomendaciones para los expertos de\n",
    "marketing:\n",
    "\n",
    "Costo total: Se tiene un costo total de $329131.62, esto nos da una visión general de la inversión de marketing en un año.\n",
    "\n",
    "CAC: El costo de adquisicón de los clientes por cada fuente de adquisión nos revela en que plataformas se ha invertido más y el costo promedio de convertir a un usuario en cliente. Como nos muestra el gráfico 'Adquisición de cliente por costo de adquisición' la mayor inversión estuvo en el Source ID 3.\n",
    "\n",
    "ROMI: Con respeto al retorno de inversión en marketing, las fuentes con un ROMI más alto nos indican una alta rentabilidad de las inversiones en marketing, en nuestro caso del gráfico 'Heatmap por ROMI y fuente de adquisición por mes' La fuente de adquisición 1 tiene los valores más altos de ROMI en los meses de junio a agosto del 2017, y nuevamente tenemos un ROMI alto en los meses de noviembre del 2017 y abril del 2018. La fuente de adquisición 2 también muestra resultados altos del ROMI, en septiembre y diciembre del 2017 y marzo del 2018.\n",
    "\n",
    "La primera recomendación sería enfocarse en las adquisiciones CAC más bajo y el ROMI más alto, esto demuestra que sería mas eficaz ya que ha proporcionado una mayor cantida de clientes a menor costo."
   ]
  },
  {
   "cell_type": "code",
   "execution_count": null,
   "metadata": {},
   "outputs": [],
   "source": []
  }
 ],
 "metadata": {
  "ExecuteTimeLog": [
   {
    "duration": 476,
    "start_time": "2024-07-17T16:15:18.702Z"
   },
   {
    "duration": 4,
    "start_time": "2024-07-17T16:22:57.976Z"
   },
   {
    "duration": 3962,
    "start_time": "2024-07-17T16:23:44.177Z"
   },
   {
    "duration": 4,
    "start_time": "2024-07-17T16:23:48.144Z"
   },
   {
    "duration": 360,
    "start_time": "2024-07-17T16:25:03.031Z"
   },
   {
    "duration": 22,
    "start_time": "2024-07-17T16:25:39.575Z"
   },
   {
    "duration": 35,
    "start_time": "2024-07-17T16:26:39.495Z"
   },
   {
    "duration": 93,
    "start_time": "2024-07-17T16:27:04.323Z"
   },
   {
    "duration": 999,
    "start_time": "2024-07-17T16:28:39.178Z"
   },
   {
    "duration": 0,
    "start_time": "2024-07-17T16:28:40.185Z"
   },
   {
    "duration": 1026,
    "start_time": "2024-07-17T16:28:49.586Z"
   },
   {
    "duration": 117,
    "start_time": "2024-07-17T16:28:51.611Z"
   },
   {
    "duration": 36,
    "start_time": "2024-07-17T16:28:55.735Z"
   },
   {
    "duration": 20,
    "start_time": "2024-07-17T16:28:58.828Z"
   },
   {
    "duration": 3,
    "start_time": "2024-07-17T16:41:11.453Z"
   },
   {
    "duration": 47,
    "start_time": "2024-07-17T16:44:06.274Z"
   },
   {
    "duration": 52,
    "start_time": "2024-07-17T16:45:06.150Z"
   },
   {
    "duration": 18,
    "start_time": "2024-07-17T16:45:27.025Z"
   },
   {
    "duration": 165,
    "start_time": "2024-07-17T16:48:39.589Z"
   },
   {
    "duration": 52,
    "start_time": "2024-07-17T16:55:34.569Z"
   },
   {
    "duration": 296,
    "start_time": "2024-07-17T16:56:12.331Z"
   },
   {
    "duration": 22,
    "start_time": "2024-07-17T16:57:59.237Z"
   },
   {
    "duration": 15,
    "start_time": "2024-07-17T16:58:12.783Z"
   },
   {
    "duration": 13,
    "start_time": "2024-07-17T16:58:30.532Z"
   },
   {
    "duration": 4163,
    "start_time": "2024-07-17T18:46:25.479Z"
   },
   {
    "duration": 699,
    "start_time": "2024-07-17T18:46:29.646Z"
   },
   {
    "duration": 61,
    "start_time": "2024-07-17T18:46:30.347Z"
   },
   {
    "duration": 25,
    "start_time": "2024-07-17T18:46:30.412Z"
   },
   {
    "duration": 14,
    "start_time": "2024-07-17T18:46:30.440Z"
   },
   {
    "duration": 41,
    "start_time": "2024-07-17T18:46:30.458Z"
   },
   {
    "duration": 59,
    "start_time": "2024-07-17T18:46:30.534Z"
   },
   {
    "duration": 150,
    "start_time": "2024-07-17T18:46:30.596Z"
   },
   {
    "duration": 217,
    "start_time": "2024-07-17T18:46:30.749Z"
   },
   {
    "duration": 15,
    "start_time": "2024-07-17T18:46:30.971Z"
   },
   {
    "duration": 13,
    "start_time": "2024-07-17T18:46:30.989Z"
   },
   {
    "duration": 11,
    "start_time": "2024-07-17T18:46:33.823Z"
   },
   {
    "duration": 12,
    "start_time": "2024-07-17T18:46:37.470Z"
   },
   {
    "duration": 3,
    "start_time": "2024-07-17T19:14:49.917Z"
   },
   {
    "duration": 203,
    "start_time": "2024-07-17T19:35:30.507Z"
   },
   {
    "duration": 228,
    "start_time": "2024-07-17T19:37:35.498Z"
   },
   {
    "duration": 323,
    "start_time": "2024-07-17T19:39:09.341Z"
   },
   {
    "duration": 290,
    "start_time": "2024-07-17T19:42:07.426Z"
   },
   {
    "duration": 290,
    "start_time": "2024-07-17T19:45:45.750Z"
   },
   {
    "duration": 36,
    "start_time": "2024-07-17T19:49:50.176Z"
   },
   {
    "duration": 48,
    "start_time": "2024-07-17T19:50:29.896Z"
   },
   {
    "duration": 36,
    "start_time": "2024-07-17T19:51:36.326Z"
   },
   {
    "duration": 441,
    "start_time": "2024-07-17T19:56:05.994Z"
   },
   {
    "duration": 251,
    "start_time": "2024-07-17T20:05:23.775Z"
   },
   {
    "duration": 285,
    "start_time": "2024-07-17T20:14:46.233Z"
   },
   {
    "duration": 99,
    "start_time": "2024-07-17T20:21:48.308Z"
   },
   {
    "duration": 74,
    "start_time": "2024-07-17T20:24:00.190Z"
   },
   {
    "duration": 82,
    "start_time": "2024-07-17T20:24:12.972Z"
   },
   {
    "duration": 4307,
    "start_time": "2024-07-18T17:09:22.602Z"
   },
   {
    "duration": 843,
    "start_time": "2024-07-18T17:09:26.913Z"
   },
   {
    "duration": 63,
    "start_time": "2024-07-18T17:09:27.758Z"
   },
   {
    "duration": 21,
    "start_time": "2024-07-18T17:09:27.825Z"
   },
   {
    "duration": 15,
    "start_time": "2024-07-18T17:09:27.848Z"
   },
   {
    "duration": 68,
    "start_time": "2024-07-18T17:09:27.867Z"
   },
   {
    "duration": 60,
    "start_time": "2024-07-18T17:09:27.938Z"
   },
   {
    "duration": 158,
    "start_time": "2024-07-18T17:09:28.001Z"
   },
   {
    "duration": 219,
    "start_time": "2024-07-18T17:09:28.162Z"
   },
   {
    "duration": 16,
    "start_time": "2024-07-18T17:09:28.385Z"
   },
   {
    "duration": 32,
    "start_time": "2024-07-18T17:09:28.404Z"
   },
   {
    "duration": 12,
    "start_time": "2024-07-18T17:09:28.439Z"
   },
   {
    "duration": 240,
    "start_time": "2024-07-18T17:09:28.454Z"
   },
   {
    "duration": 341,
    "start_time": "2024-07-18T17:09:28.697Z"
   },
   {
    "duration": 38,
    "start_time": "2024-07-18T17:09:29.041Z"
   },
   {
    "duration": 59,
    "start_time": "2024-07-18T17:09:29.082Z"
   },
   {
    "duration": 435,
    "start_time": "2024-07-18T17:09:29.144Z"
   },
   {
    "duration": 324,
    "start_time": "2024-07-18T17:09:29.582Z"
   },
   {
    "duration": 117,
    "start_time": "2024-07-18T17:09:30.042Z"
   },
   {
    "duration": 84,
    "start_time": "2024-07-18T17:09:32.632Z"
   },
   {
    "duration": 4510,
    "start_time": "2024-07-18T18:56:02.965Z"
   },
   {
    "duration": 808,
    "start_time": "2024-07-18T18:56:07.478Z"
   },
   {
    "duration": 64,
    "start_time": "2024-07-18T18:56:08.289Z"
   },
   {
    "duration": 17,
    "start_time": "2024-07-18T18:56:08.356Z"
   },
   {
    "duration": 32,
    "start_time": "2024-07-18T18:56:08.378Z"
   },
   {
    "duration": 42,
    "start_time": "2024-07-18T18:56:08.413Z"
   },
   {
    "duration": 96,
    "start_time": "2024-07-18T18:56:08.458Z"
   },
   {
    "duration": 165,
    "start_time": "2024-07-18T18:56:08.557Z"
   },
   {
    "duration": 235,
    "start_time": "2024-07-18T18:56:08.726Z"
   },
   {
    "duration": 17,
    "start_time": "2024-07-18T18:56:08.963Z"
   },
   {
    "duration": 27,
    "start_time": "2024-07-18T18:56:08.984Z"
   },
   {
    "duration": 14,
    "start_time": "2024-07-18T18:56:09.015Z"
   },
   {
    "duration": 255,
    "start_time": "2024-07-18T18:56:09.032Z"
   },
   {
    "duration": 320,
    "start_time": "2024-07-18T18:56:09.301Z"
   },
   {
    "duration": 39,
    "start_time": "2024-07-18T18:56:09.624Z"
   },
   {
    "duration": 58,
    "start_time": "2024-07-18T18:56:09.666Z"
   },
   {
    "duration": 497,
    "start_time": "2024-07-18T18:56:09.727Z"
   },
   {
    "duration": 383,
    "start_time": "2024-07-18T18:56:11.987Z"
   },
   {
    "duration": 45,
    "start_time": "2024-07-18T18:56:12.714Z"
   },
   {
    "duration": 273,
    "start_time": "2024-07-18T19:03:01.921Z"
   },
   {
    "duration": 114,
    "start_time": "2024-07-18T19:06:44.029Z"
   },
   {
    "duration": 90,
    "start_time": "2024-07-18T19:09:49.174Z"
   },
   {
    "duration": 11,
    "start_time": "2024-07-18T19:13:43.938Z"
   },
   {
    "duration": 29,
    "start_time": "2024-07-18T19:41:16.283Z"
   },
   {
    "duration": 421,
    "start_time": "2024-07-18T19:46:02.544Z"
   },
   {
    "duration": 92,
    "start_time": "2024-07-18T19:46:17.164Z"
   },
   {
    "duration": 19,
    "start_time": "2024-07-18T19:47:53.870Z"
   },
   {
    "duration": 13,
    "start_time": "2024-07-18T19:52:44.581Z"
   },
   {
    "duration": 7,
    "start_time": "2024-07-18T19:53:32.512Z"
   },
   {
    "duration": 6,
    "start_time": "2024-07-18T19:54:11.252Z"
   },
   {
    "duration": 39,
    "start_time": "2024-07-18T19:54:38.092Z"
   },
   {
    "duration": 38,
    "start_time": "2024-07-18T19:54:46.919Z"
   },
   {
    "duration": 34,
    "start_time": "2024-07-18T19:55:11.636Z"
   },
   {
    "duration": 37,
    "start_time": "2024-07-18T19:55:20.574Z"
   },
   {
    "duration": 11,
    "start_time": "2024-07-18T19:55:29.211Z"
   },
   {
    "duration": 28,
    "start_time": "2024-07-18T19:55:30.108Z"
   },
   {
    "duration": 108,
    "start_time": "2024-07-18T19:55:31.235Z"
   },
   {
    "duration": 16,
    "start_time": "2024-07-18T19:55:35.830Z"
   },
   {
    "duration": 46,
    "start_time": "2024-07-18T19:55:55.796Z"
   },
   {
    "duration": 84,
    "start_time": "2024-07-18T19:56:20.086Z"
   },
   {
    "duration": 13,
    "start_time": "2024-07-18T19:56:20.604Z"
   },
   {
    "duration": 17,
    "start_time": "2024-07-18T19:57:27.063Z"
   },
   {
    "duration": 4558,
    "start_time": "2024-07-18T21:19:07.777Z"
   },
   {
    "duration": 785,
    "start_time": "2024-07-18T21:19:12.338Z"
   },
   {
    "duration": 71,
    "start_time": "2024-07-18T21:19:13.126Z"
   },
   {
    "duration": 21,
    "start_time": "2024-07-18T21:19:13.201Z"
   },
   {
    "duration": 18,
    "start_time": "2024-07-18T21:19:13.224Z"
   },
   {
    "duration": 70,
    "start_time": "2024-07-18T21:19:13.245Z"
   },
   {
    "duration": 68,
    "start_time": "2024-07-18T21:19:13.318Z"
   },
   {
    "duration": 182,
    "start_time": "2024-07-18T21:19:13.390Z"
   },
   {
    "duration": 230,
    "start_time": "2024-07-18T21:19:13.576Z"
   },
   {
    "duration": 21,
    "start_time": "2024-07-18T21:19:13.813Z"
   },
   {
    "duration": 14,
    "start_time": "2024-07-18T21:19:13.837Z"
   },
   {
    "duration": 14,
    "start_time": "2024-07-18T21:19:13.854Z"
   },
   {
    "duration": 275,
    "start_time": "2024-07-18T21:19:13.871Z"
   },
   {
    "duration": 363,
    "start_time": "2024-07-18T21:19:14.152Z"
   },
   {
    "duration": 47,
    "start_time": "2024-07-18T21:19:14.536Z"
   },
   {
    "duration": 44,
    "start_time": "2024-07-18T21:19:14.586Z"
   },
   {
    "duration": 518,
    "start_time": "2024-07-18T21:19:14.635Z"
   },
   {
    "duration": 67,
    "start_time": "2024-07-18T21:19:15.156Z"
   },
   {
    "duration": 290,
    "start_time": "2024-07-18T21:19:15.241Z"
   },
   {
    "duration": 125,
    "start_time": "2024-07-18T21:19:15.534Z"
   },
   {
    "duration": 107,
    "start_time": "2024-07-18T21:19:15.662Z"
   },
   {
    "duration": 15,
    "start_time": "2024-07-18T21:19:15.773Z"
   },
   {
    "duration": 35,
    "start_time": "2024-07-18T21:19:15.813Z"
   },
   {
    "duration": 106,
    "start_time": "2024-07-18T21:19:15.852Z"
   },
   {
    "duration": 13,
    "start_time": "2024-07-18T21:19:15.964Z"
   },
   {
    "duration": 23,
    "start_time": "2024-07-18T21:19:19.058Z"
   },
   {
    "duration": 3,
    "start_time": "2024-07-18T21:36:59.799Z"
   },
   {
    "duration": 85,
    "start_time": "2024-07-18T21:40:10.334Z"
   },
   {
    "duration": 9,
    "start_time": "2024-07-18T21:44:46.666Z"
   },
   {
    "duration": 1187,
    "start_time": "2024-07-18T21:45:13.794Z"
   },
   {
    "duration": 80,
    "start_time": "2024-07-18T21:47:34.585Z"
   },
   {
    "duration": 175,
    "start_time": "2024-07-18T21:52:46.066Z"
   },
   {
    "duration": 22,
    "start_time": "2024-07-18T21:55:23.036Z"
   },
   {
    "duration": 36,
    "start_time": "2024-07-18T21:55:30.568Z"
   },
   {
    "duration": 31,
    "start_time": "2024-07-18T21:56:01.022Z"
   },
   {
    "duration": 35,
    "start_time": "2024-07-18T21:56:12.966Z"
   },
   {
    "duration": 30,
    "start_time": "2024-07-18T21:58:44.900Z"
   },
   {
    "duration": 97,
    "start_time": "2024-07-18T21:59:58.224Z"
   },
   {
    "duration": 4625,
    "start_time": "2024-07-18T22:57:35.414Z"
   },
   {
    "duration": 806,
    "start_time": "2024-07-18T22:57:40.043Z"
   },
   {
    "duration": 67,
    "start_time": "2024-07-18T22:57:40.852Z"
   },
   {
    "duration": 25,
    "start_time": "2024-07-18T22:57:40.925Z"
   },
   {
    "duration": 23,
    "start_time": "2024-07-18T22:57:40.954Z"
   },
   {
    "duration": 68,
    "start_time": "2024-07-18T22:57:40.981Z"
   },
   {
    "duration": 75,
    "start_time": "2024-07-18T22:57:41.052Z"
   },
   {
    "duration": 148,
    "start_time": "2024-07-18T22:57:41.130Z"
   },
   {
    "duration": 246,
    "start_time": "2024-07-18T22:57:41.281Z"
   },
   {
    "duration": 19,
    "start_time": "2024-07-18T22:57:41.541Z"
   },
   {
    "duration": 12,
    "start_time": "2024-07-18T22:57:41.563Z"
   },
   {
    "duration": 13,
    "start_time": "2024-07-18T22:57:41.579Z"
   },
   {
    "duration": 237,
    "start_time": "2024-07-18T22:57:41.613Z"
   },
   {
    "duration": 355,
    "start_time": "2024-07-18T22:57:41.854Z"
   },
   {
    "duration": 46,
    "start_time": "2024-07-18T22:57:42.220Z"
   },
   {
    "duration": 45,
    "start_time": "2024-07-18T22:57:42.272Z"
   },
   {
    "duration": 479,
    "start_time": "2024-07-18T22:57:42.321Z"
   },
   {
    "duration": 52,
    "start_time": "2024-07-18T22:57:42.803Z"
   },
   {
    "duration": 294,
    "start_time": "2024-07-18T22:57:42.858Z"
   },
   {
    "duration": 148,
    "start_time": "2024-07-18T22:57:43.155Z"
   },
   {
    "duration": 123,
    "start_time": "2024-07-18T22:57:43.307Z"
   },
   {
    "duration": 12,
    "start_time": "2024-07-18T22:57:43.436Z"
   },
   {
    "duration": 29,
    "start_time": "2024-07-18T22:57:43.451Z"
   },
   {
    "duration": 109,
    "start_time": "2024-07-18T22:57:43.483Z"
   },
   {
    "duration": 26,
    "start_time": "2024-07-18T22:57:43.596Z"
   },
   {
    "duration": 29,
    "start_time": "2024-07-18T22:57:43.625Z"
   },
   {
    "duration": 103,
    "start_time": "2024-07-18T22:57:43.658Z"
   },
   {
    "duration": 15,
    "start_time": "2024-07-18T22:57:43.769Z"
   },
   {
    "duration": 57,
    "start_time": "2024-07-18T22:57:43.788Z"
   },
   {
    "duration": 27,
    "start_time": "2024-07-18T22:57:43.848Z"
   },
   {
    "duration": 92,
    "start_time": "2024-07-18T22:57:50.380Z"
   },
   {
    "duration": 71,
    "start_time": "2024-07-18T23:14:49.510Z"
   },
   {
    "duration": 7,
    "start_time": "2024-07-18T23:19:25.164Z"
   },
   {
    "duration": 241,
    "start_time": "2024-07-18T23:19:40.981Z"
   },
   {
    "duration": 215,
    "start_time": "2024-07-18T23:19:57.236Z"
   },
   {
    "duration": 11,
    "start_time": "2024-07-18T23:21:04.048Z"
   },
   {
    "duration": 67344,
    "start_time": "2024-07-18T23:21:08.610Z"
   },
   {
    "duration": 5,
    "start_time": "2024-07-18T23:22:22.667Z"
   },
   {
    "duration": 12,
    "start_time": "2024-07-18T23:22:26.234Z"
   },
   {
    "duration": 9,
    "start_time": "2024-07-18T23:22:34.856Z"
   },
   {
    "duration": 9,
    "start_time": "2024-07-18T23:22:39.105Z"
   },
   {
    "duration": 5,
    "start_time": "2024-07-18T23:22:50.171Z"
   },
   {
    "duration": 7,
    "start_time": "2024-07-18T23:22:57.049Z"
   },
   {
    "duration": 5,
    "start_time": "2024-07-18T23:23:15.049Z"
   },
   {
    "duration": 67,
    "start_time": "2024-07-18T23:23:46.673Z"
   },
   {
    "duration": 1083,
    "start_time": "2024-07-18T23:24:33.112Z"
   },
   {
    "duration": 6,
    "start_time": "2024-07-18T23:25:08.800Z"
   },
   {
    "duration": 34,
    "start_time": "2024-07-18T23:25:15.432Z"
   },
   {
    "duration": 39,
    "start_time": "2024-07-18T23:25:39.120Z"
   },
   {
    "duration": 1161,
    "start_time": "2024-07-18T23:26:08.366Z"
   },
   {
    "duration": 156,
    "start_time": "2024-07-18T23:26:34.239Z"
   },
   {
    "duration": 36,
    "start_time": "2024-07-18T23:26:39.430Z"
   },
   {
    "duration": 32,
    "start_time": "2024-07-18T23:27:19.122Z"
   },
   {
    "duration": 34,
    "start_time": "2024-07-18T23:27:23.491Z"
   },
   {
    "duration": 37,
    "start_time": "2024-07-18T23:27:29.614Z"
   },
   {
    "duration": 235,
    "start_time": "2024-07-18T23:28:22.616Z"
   },
   {
    "duration": 215,
    "start_time": "2024-07-18T23:28:37.618Z"
   },
   {
    "duration": 11,
    "start_time": "2024-07-18T23:35:20.817Z"
   },
   {
    "duration": 53,
    "start_time": "2024-07-18T23:36:28.825Z"
   },
   {
    "duration": 138,
    "start_time": "2024-07-18T23:36:58.012Z"
   },
   {
    "duration": 179,
    "start_time": "2024-07-18T23:37:03.879Z"
   },
   {
    "duration": 6,
    "start_time": "2024-07-18T23:37:12.757Z"
   },
   {
    "duration": 130,
    "start_time": "2024-07-18T23:37:15.254Z"
   },
   {
    "duration": 176,
    "start_time": "2024-07-18T23:38:02.369Z"
   },
   {
    "duration": 577,
    "start_time": "2024-07-18T23:39:04.302Z"
   },
   {
    "duration": 30,
    "start_time": "2024-07-18T23:41:43.868Z"
   },
   {
    "duration": 7,
    "start_time": "2024-07-18T23:41:54.304Z"
   },
   {
    "duration": 31,
    "start_time": "2024-07-18T23:42:01.937Z"
   },
   {
    "duration": 34,
    "start_time": "2024-07-18T23:57:14.461Z"
   },
   {
    "duration": 14,
    "start_time": "2024-07-18T23:57:27.221Z"
   },
   {
    "duration": 14,
    "start_time": "2024-07-19T00:00:30.166Z"
   },
   {
    "duration": 23,
    "start_time": "2024-07-19T00:02:16.789Z"
   },
   {
    "duration": 23,
    "start_time": "2024-07-19T00:07:21.234Z"
   },
   {
    "duration": 24,
    "start_time": "2024-07-19T00:07:26.049Z"
   },
   {
    "duration": 29,
    "start_time": "2024-07-19T00:07:43.925Z"
   },
   {
    "duration": 11,
    "start_time": "2024-07-19T00:08:34.612Z"
   },
   {
    "duration": 34,
    "start_time": "2024-07-19T00:08:53.300Z"
   },
   {
    "duration": 5,
    "start_time": "2024-07-19T00:09:07.496Z"
   },
   {
    "duration": 821,
    "start_time": "2024-07-19T00:12:20.569Z"
   },
   {
    "duration": 898,
    "start_time": "2024-07-19T00:12:21.394Z"
   },
   {
    "duration": 76,
    "start_time": "2024-07-19T00:12:22.295Z"
   },
   {
    "duration": 19,
    "start_time": "2024-07-19T00:12:22.376Z"
   },
   {
    "duration": 15,
    "start_time": "2024-07-19T00:12:22.413Z"
   },
   {
    "duration": 49,
    "start_time": "2024-07-19T00:12:22.432Z"
   },
   {
    "duration": 93,
    "start_time": "2024-07-19T00:12:22.484Z"
   },
   {
    "duration": 183,
    "start_time": "2024-07-19T00:12:22.581Z"
   },
   {
    "duration": 240,
    "start_time": "2024-07-19T00:12:22.767Z"
   },
   {
    "duration": 18,
    "start_time": "2024-07-19T00:12:23.012Z"
   },
   {
    "duration": 22,
    "start_time": "2024-07-19T00:12:23.032Z"
   },
   {
    "duration": 13,
    "start_time": "2024-07-19T00:12:23.057Z"
   },
   {
    "duration": 272,
    "start_time": "2024-07-19T00:12:23.074Z"
   },
   {
    "duration": 339,
    "start_time": "2024-07-19T00:12:23.349Z"
   },
   {
    "duration": 53,
    "start_time": "2024-07-19T00:12:23.690Z"
   },
   {
    "duration": 33,
    "start_time": "2024-07-19T00:12:23.754Z"
   },
   {
    "duration": 56,
    "start_time": "2024-07-19T00:12:23.790Z"
   },
   {
    "duration": 67743,
    "start_time": "2024-07-19T00:12:23.849Z"
   },
   {
    "duration": 316,
    "start_time": "2024-07-19T00:13:31.595Z"
   },
   {
    "duration": 48,
    "start_time": "2024-07-19T00:13:31.914Z"
   },
   {
    "duration": 244,
    "start_time": "2024-07-19T00:13:31.964Z"
   },
   {
    "duration": 132,
    "start_time": "2024-07-19T00:13:32.211Z"
   },
   {
    "duration": 113,
    "start_time": "2024-07-19T00:13:32.346Z"
   },
   {
    "duration": 8,
    "start_time": "2024-07-19T00:13:32.462Z"
   },
   {
    "duration": 12,
    "start_time": "2024-07-19T00:13:32.473Z"
   },
   {
    "duration": 19,
    "start_time": "2024-07-19T00:13:32.512Z"
   },
   {
    "duration": 6,
    "start_time": "2024-07-19T00:13:32.533Z"
   },
   {
    "duration": 1546,
    "start_time": "2024-07-19T00:13:32.546Z"
   },
   {
    "duration": 0,
    "start_time": "2024-07-19T00:13:34.095Z"
   },
   {
    "duration": 0,
    "start_time": "2024-07-19T00:13:34.098Z"
   },
   {
    "duration": 0,
    "start_time": "2024-07-19T00:13:34.125Z"
   },
   {
    "duration": 0,
    "start_time": "2024-07-19T00:13:34.127Z"
   },
   {
    "duration": 0,
    "start_time": "2024-07-19T00:13:34.131Z"
   },
   {
    "duration": 0,
    "start_time": "2024-07-19T00:13:34.136Z"
   },
   {
    "duration": 0,
    "start_time": "2024-07-19T00:13:34.138Z"
   },
   {
    "duration": 0,
    "start_time": "2024-07-19T00:13:34.141Z"
   },
   {
    "duration": 0,
    "start_time": "2024-07-19T00:13:34.143Z"
   },
   {
    "duration": 0,
    "start_time": "2024-07-19T00:13:34.146Z"
   },
   {
    "duration": 592,
    "start_time": "2024-07-19T00:14:12.810Z"
   },
   {
    "duration": 8,
    "start_time": "2024-07-19T00:14:27.681Z"
   },
   {
    "duration": 88,
    "start_time": "2024-07-19T00:14:54.946Z"
   },
   {
    "duration": 13,
    "start_time": "2024-07-19T00:14:56.812Z"
   },
   {
    "duration": 9,
    "start_time": "2024-07-19T00:14:57.937Z"
   },
   {
    "duration": 54,
    "start_time": "2024-07-19T00:15:01.868Z"
   },
   {
    "duration": 7,
    "start_time": "2024-07-19T00:15:19.494Z"
   },
   {
    "duration": 16,
    "start_time": "2024-07-19T00:15:25.303Z"
   },
   {
    "duration": 484,
    "start_time": "2024-07-19T00:16:41.561Z"
   },
   {
    "duration": 85,
    "start_time": "2024-07-19T00:16:47.811Z"
   },
   {
    "duration": 7,
    "start_time": "2024-07-19T00:16:52.064Z"
   },
   {
    "duration": 13,
    "start_time": "2024-07-19T00:16:53.941Z"
   },
   {
    "duration": 59,
    "start_time": "2024-07-19T00:16:58.307Z"
   },
   {
    "duration": 18,
    "start_time": "2024-07-19T00:17:20.811Z"
   },
   {
    "duration": 15,
    "start_time": "2024-07-19T00:17:25.576Z"
   },
   {
    "duration": 13,
    "start_time": "2024-07-19T00:17:49.244Z"
   },
   {
    "duration": 9,
    "start_time": "2024-07-19T00:18:09.566Z"
   },
   {
    "duration": 7,
    "start_time": "2024-07-19T00:19:06.192Z"
   },
   {
    "duration": 371,
    "start_time": "2024-07-19T00:19:11.875Z"
   },
   {
    "duration": 32,
    "start_time": "2024-07-19T00:19:33.876Z"
   },
   {
    "duration": 26,
    "start_time": "2024-07-19T00:20:05.633Z"
   },
   {
    "duration": 32,
    "start_time": "2024-07-19T00:20:12.752Z"
   },
   {
    "duration": 30,
    "start_time": "2024-07-19T00:21:28.319Z"
   },
   {
    "duration": 24,
    "start_time": "2024-07-19T00:21:31.187Z"
   },
   {
    "duration": 6,
    "start_time": "2024-07-19T00:21:39.381Z"
   },
   {
    "duration": 627,
    "start_time": "2024-07-19T00:22:42.199Z"
   },
   {
    "duration": 128,
    "start_time": "2024-07-19T00:23:28.750Z"
   },
   {
    "duration": 273,
    "start_time": "2024-07-19T00:23:46.134Z"
   },
   {
    "duration": 42,
    "start_time": "2024-07-19T00:24:19.881Z"
   },
   {
    "duration": 117,
    "start_time": "2024-07-19T00:24:33.510Z"
   },
   {
    "duration": 33,
    "start_time": "2024-07-19T00:24:45.946Z"
   },
   {
    "duration": 7,
    "start_time": "2024-07-19T00:24:51.381Z"
   },
   {
    "duration": 25,
    "start_time": "2024-07-19T00:26:22.822Z"
   },
   {
    "duration": 24,
    "start_time": "2024-07-19T00:26:26.451Z"
   },
   {
    "duration": 20,
    "start_time": "2024-07-19T00:28:46.016Z"
   },
   {
    "duration": 8,
    "start_time": "2024-07-19T00:28:51.952Z"
   },
   {
    "duration": 51,
    "start_time": "2024-07-19T00:29:11.638Z"
   },
   {
    "duration": 49,
    "start_time": "2024-07-19T00:29:20.953Z"
   },
   {
    "duration": 44,
    "start_time": "2024-07-19T00:30:05.081Z"
   },
   {
    "duration": 24,
    "start_time": "2024-07-19T00:31:16.644Z"
   },
   {
    "duration": 1105,
    "start_time": "2024-07-19T00:31:44.022Z"
   },
   {
    "duration": 6,
    "start_time": "2024-07-19T00:32:17.770Z"
   },
   {
    "duration": 499,
    "start_time": "2024-07-19T00:32:23.708Z"
   },
   {
    "duration": 21,
    "start_time": "2024-07-19T00:32:41.771Z"
   },
   {
    "duration": 4412,
    "start_time": "2024-07-19T13:49:12.820Z"
   },
   {
    "duration": 780,
    "start_time": "2024-07-19T13:49:17.236Z"
   },
   {
    "duration": 62,
    "start_time": "2024-07-19T13:49:18.019Z"
   },
   {
    "duration": 35,
    "start_time": "2024-07-19T13:49:18.084Z"
   },
   {
    "duration": 16,
    "start_time": "2024-07-19T13:49:18.122Z"
   },
   {
    "duration": 73,
    "start_time": "2024-07-19T13:49:18.141Z"
   },
   {
    "duration": 65,
    "start_time": "2024-07-19T13:49:18.217Z"
   },
   {
    "duration": 155,
    "start_time": "2024-07-19T13:49:18.286Z"
   },
   {
    "duration": 224,
    "start_time": "2024-07-19T13:49:18.444Z"
   },
   {
    "duration": 14,
    "start_time": "2024-07-19T13:49:18.674Z"
   },
   {
    "duration": 29,
    "start_time": "2024-07-19T13:49:18.691Z"
   },
   {
    "duration": 13,
    "start_time": "2024-07-19T13:49:18.723Z"
   },
   {
    "duration": 246,
    "start_time": "2024-07-19T13:49:18.739Z"
   },
   {
    "duration": 338,
    "start_time": "2024-07-19T13:49:18.988Z"
   },
   {
    "duration": 41,
    "start_time": "2024-07-19T13:49:19.328Z"
   },
   {
    "duration": 56,
    "start_time": "2024-07-19T13:49:19.372Z"
   },
   {
    "duration": 33,
    "start_time": "2024-07-19T13:49:19.430Z"
   },
   {
    "duration": 65554,
    "start_time": "2024-07-19T13:49:19.466Z"
   },
   {
    "duration": 347,
    "start_time": "2024-07-19T13:50:25.024Z"
   },
   {
    "duration": 98,
    "start_time": "2024-07-19T13:50:25.374Z"
   },
   {
    "duration": 230,
    "start_time": "2024-07-19T13:50:25.476Z"
   },
   {
    "duration": 138,
    "start_time": "2024-07-19T13:50:25.709Z"
   },
   {
    "duration": 119,
    "start_time": "2024-07-19T13:50:25.850Z"
   },
   {
    "duration": 66,
    "start_time": "2024-07-19T13:50:25.972Z"
   },
   {
    "duration": 646,
    "start_time": "2024-07-19T13:50:26.041Z"
   },
   {
    "duration": 22,
    "start_time": "2024-07-19T13:50:26.690Z"
   },
   {
    "duration": 10,
    "start_time": "2024-07-19T13:50:26.716Z"
   },
   {
    "duration": 11,
    "start_time": "2024-07-19T13:50:26.736Z"
   },
   {
    "duration": 19,
    "start_time": "2024-07-19T13:50:26.751Z"
   },
   {
    "duration": 65,
    "start_time": "2024-07-19T13:50:26.774Z"
   },
   {
    "duration": 13,
    "start_time": "2024-07-19T13:50:26.842Z"
   },
   {
    "duration": 16,
    "start_time": "2024-07-19T13:50:26.859Z"
   },
   {
    "duration": 88,
    "start_time": "2024-07-19T13:50:26.911Z"
   },
   {
    "duration": 24,
    "start_time": "2024-07-19T13:50:27.003Z"
   },
   {
    "duration": 35,
    "start_time": "2024-07-19T13:50:27.032Z"
   },
   {
    "duration": 37,
    "start_time": "2024-07-19T14:10:27.122Z"
   },
   {
    "duration": 394,
    "start_time": "2024-07-19T14:11:15.619Z"
   },
   {
    "duration": 5,
    "start_time": "2024-07-19T14:11:32.752Z"
   },
   {
    "duration": 313,
    "start_time": "2024-07-19T14:23:30.958Z"
   },
   {
    "duration": 4463,
    "start_time": "2024-07-19T15:23:31.269Z"
   },
   {
    "duration": 856,
    "start_time": "2024-07-19T15:23:35.736Z"
   },
   {
    "duration": 67,
    "start_time": "2024-07-19T15:23:36.595Z"
   },
   {
    "duration": 49,
    "start_time": "2024-07-19T15:23:36.666Z"
   },
   {
    "duration": 16,
    "start_time": "2024-07-19T15:23:36.719Z"
   },
   {
    "duration": 64,
    "start_time": "2024-07-19T15:23:36.738Z"
   },
   {
    "duration": 64,
    "start_time": "2024-07-19T15:23:36.805Z"
   },
   {
    "duration": 172,
    "start_time": "2024-07-19T15:23:36.872Z"
   },
   {
    "duration": 237,
    "start_time": "2024-07-19T15:23:37.048Z"
   },
   {
    "duration": 27,
    "start_time": "2024-07-19T15:23:37.291Z"
   },
   {
    "duration": 14,
    "start_time": "2024-07-19T15:23:37.322Z"
   },
   {
    "duration": 15,
    "start_time": "2024-07-19T15:23:37.340Z"
   },
   {
    "duration": 264,
    "start_time": "2024-07-19T15:23:37.358Z"
   },
   {
    "duration": 332,
    "start_time": "2024-07-19T15:23:37.625Z"
   },
   {
    "duration": 48,
    "start_time": "2024-07-19T15:23:37.961Z"
   },
   {
    "duration": 35,
    "start_time": "2024-07-19T15:23:38.011Z"
   },
   {
    "duration": 5,
    "start_time": "2024-07-19T15:23:38.049Z"
   },
   {
    "duration": 353,
    "start_time": "2024-07-19T15:23:38.057Z"
   },
   {
    "duration": 66382,
    "start_time": "2024-07-19T15:23:38.414Z"
   },
   {
    "duration": 368,
    "start_time": "2024-07-19T15:24:44.799Z"
   },
   {
    "duration": 58,
    "start_time": "2024-07-19T15:24:45.170Z"
   },
   {
    "duration": 262,
    "start_time": "2024-07-19T15:24:45.231Z"
   },
   {
    "duration": 133,
    "start_time": "2024-07-19T15:24:45.496Z"
   },
   {
    "duration": 102,
    "start_time": "2024-07-19T15:24:45.632Z"
   },
   {
    "duration": 63,
    "start_time": "2024-07-19T15:24:45.738Z"
   },
   {
    "duration": 591,
    "start_time": "2024-07-19T15:24:45.804Z"
   },
   {
    "duration": 10,
    "start_time": "2024-07-19T15:24:46.403Z"
   },
   {
    "duration": 7,
    "start_time": "2024-07-19T15:24:46.421Z"
   },
   {
    "duration": 7,
    "start_time": "2024-07-19T15:24:46.432Z"
   },
   {
    "duration": 12,
    "start_time": "2024-07-19T15:24:46.442Z"
   },
   {
    "duration": 39,
    "start_time": "2024-07-19T15:24:46.501Z"
   },
   {
    "duration": 11,
    "start_time": "2024-07-19T15:24:46.546Z"
   },
   {
    "duration": 42,
    "start_time": "2024-07-19T15:24:46.561Z"
   },
   {
    "duration": 106,
    "start_time": "2024-07-19T15:24:46.608Z"
   },
   {
    "duration": 17,
    "start_time": "2024-07-19T15:24:46.718Z"
   },
   {
    "duration": 63,
    "start_time": "2024-07-19T15:24:46.739Z"
   },
   {
    "duration": 5,
    "start_time": "2024-07-19T15:46:50.366Z"
   },
   {
    "duration": 5,
    "start_time": "2024-07-19T15:47:03.410Z"
   },
   {
    "duration": 623,
    "start_time": "2024-07-19T15:47:03.419Z"
   },
   {
    "duration": 74,
    "start_time": "2024-07-19T15:47:04.045Z"
   },
   {
    "duration": 19,
    "start_time": "2024-07-19T15:47:04.124Z"
   },
   {
    "duration": 17,
    "start_time": "2024-07-19T15:47:04.147Z"
   },
   {
    "duration": 40,
    "start_time": "2024-07-19T15:47:04.203Z"
   },
   {
    "duration": 80,
    "start_time": "2024-07-19T15:47:04.247Z"
   },
   {
    "duration": 149,
    "start_time": "2024-07-19T15:47:04.330Z"
   },
   {
    "duration": 231,
    "start_time": "2024-07-19T15:47:04.485Z"
   },
   {
    "duration": 17,
    "start_time": "2024-07-19T15:47:04.719Z"
   },
   {
    "duration": 13,
    "start_time": "2024-07-19T15:47:04.740Z"
   },
   {
    "duration": 46,
    "start_time": "2024-07-19T15:47:04.756Z"
   },
   {
    "duration": 233,
    "start_time": "2024-07-19T15:47:04.805Z"
   },
   {
    "duration": 344,
    "start_time": "2024-07-19T15:47:05.041Z"
   },
   {
    "duration": 41,
    "start_time": "2024-07-19T15:47:05.388Z"
   },
   {
    "duration": 31,
    "start_time": "2024-07-19T15:47:05.432Z"
   },
   {
    "duration": 5,
    "start_time": "2024-07-19T15:47:05.467Z"
   },
   {
    "duration": 294,
    "start_time": "2024-07-19T15:47:05.503Z"
   },
   {
    "duration": 66108,
    "start_time": "2024-07-19T15:47:05.802Z"
   },
   {
    "duration": 359,
    "start_time": "2024-07-19T15:48:11.914Z"
   },
   {
    "duration": 59,
    "start_time": "2024-07-19T15:48:12.276Z"
   },
   {
    "duration": 247,
    "start_time": "2024-07-19T15:48:12.338Z"
   },
   {
    "duration": 144,
    "start_time": "2024-07-19T15:48:12.589Z"
   },
   {
    "duration": 112,
    "start_time": "2024-07-19T15:48:12.741Z"
   },
   {
    "duration": 5331,
    "start_time": "2024-07-19T15:57:58.228Z"
   },
   {
    "duration": 1308,
    "start_time": "2024-07-19T15:58:22.511Z"
   },
   {
    "duration": 33,
    "start_time": "2024-07-19T15:59:10.825Z"
   },
   {
    "duration": 21,
    "start_time": "2024-07-19T15:59:42.155Z"
   },
   {
    "duration": 4,
    "start_time": "2024-07-19T16:09:56.449Z"
   },
   {
    "duration": 677,
    "start_time": "2024-07-19T16:09:56.457Z"
   },
   {
    "duration": 72,
    "start_time": "2024-07-19T16:09:57.137Z"
   },
   {
    "duration": 18,
    "start_time": "2024-07-19T16:09:57.214Z"
   },
   {
    "duration": 16,
    "start_time": "2024-07-19T16:09:57.235Z"
   },
   {
    "duration": 74,
    "start_time": "2024-07-19T16:09:57.254Z"
   },
   {
    "duration": 78,
    "start_time": "2024-07-19T16:09:57.331Z"
   },
   {
    "duration": 153,
    "start_time": "2024-07-19T16:09:57.412Z"
   },
   {
    "duration": 230,
    "start_time": "2024-07-19T16:09:57.568Z"
   },
   {
    "duration": 16,
    "start_time": "2024-07-19T16:09:57.803Z"
   },
   {
    "duration": 15,
    "start_time": "2024-07-19T16:09:57.822Z"
   },
   {
    "duration": 22,
    "start_time": "2024-07-19T16:09:57.841Z"
   },
   {
    "duration": 236,
    "start_time": "2024-07-19T16:09:57.902Z"
   },
   {
    "duration": 350,
    "start_time": "2024-07-19T16:09:58.142Z"
   },
   {
    "duration": 37,
    "start_time": "2024-07-19T16:09:58.503Z"
   },
   {
    "duration": 59,
    "start_time": "2024-07-19T16:09:58.543Z"
   },
   {
    "duration": 6,
    "start_time": "2024-07-19T16:09:58.604Z"
   },
   {
    "duration": 309,
    "start_time": "2024-07-19T16:09:58.614Z"
   },
   {
    "duration": 67206,
    "start_time": "2024-07-19T16:09:58.926Z"
   },
   {
    "duration": 346,
    "start_time": "2024-07-19T16:11:06.135Z"
   },
   {
    "duration": 54,
    "start_time": "2024-07-19T16:11:06.484Z"
   },
   {
    "duration": 240,
    "start_time": "2024-07-19T16:11:06.542Z"
   },
   {
    "duration": 126,
    "start_time": "2024-07-19T16:11:06.786Z"
   },
   {
    "duration": 106,
    "start_time": "2024-07-19T16:11:06.915Z"
   },
   {
    "duration": 96,
    "start_time": "2024-07-19T16:11:12.406Z"
   },
   {
    "duration": 17,
    "start_time": "2024-07-19T16:11:12.505Z"
   },
   {
    "duration": 5370,
    "start_time": "2024-07-19T16:11:12.634Z"
   },
   {
    "duration": 32,
    "start_time": "2024-07-19T16:11:18.007Z"
   },
   {
    "duration": 21,
    "start_time": "2024-07-19T16:11:18.042Z"
   },
   {
    "duration": 43,
    "start_time": "2024-07-19T16:11:18.066Z"
   },
   {
    "duration": 13,
    "start_time": "2024-07-19T16:11:18.113Z"
   },
   {
    "duration": 9,
    "start_time": "2024-07-19T16:38:48.026Z"
   },
   {
    "duration": 32,
    "start_time": "2024-07-19T16:47:24.962Z"
   },
   {
    "duration": 15,
    "start_time": "2024-07-19T16:53:50.149Z"
   },
   {
    "duration": 29,
    "start_time": "2024-07-19T16:57:37.972Z"
   },
   {
    "duration": 13,
    "start_time": "2024-07-19T17:00:30.713Z"
   },
   {
    "duration": 446,
    "start_time": "2024-07-19T17:09:46.492Z"
   },
   {
    "duration": 96,
    "start_time": "2024-07-19T17:14:17.015Z"
   },
   {
    "duration": 3,
    "start_time": "2024-07-19T17:16:09.327Z"
   },
   {
    "duration": 6,
    "start_time": "2024-07-19T17:17:57.587Z"
   },
   {
    "duration": 5,
    "start_time": "2024-07-19T17:18:03.559Z"
   },
   {
    "duration": 46,
    "start_time": "2024-07-19T17:22:03.682Z"
   },
   {
    "duration": 8,
    "start_time": "2024-07-19T17:24:38.202Z"
   },
   {
    "duration": 10,
    "start_time": "2024-07-19T17:26:34.054Z"
   },
   {
    "duration": 28,
    "start_time": "2024-07-19T17:29:40.810Z"
   },
   {
    "duration": 48,
    "start_time": "2024-07-19T17:30:33.897Z"
   },
   {
    "duration": 51,
    "start_time": "2024-07-19T17:30:48.315Z"
   },
   {
    "duration": 40,
    "start_time": "2024-07-19T17:31:45.418Z"
   },
   {
    "duration": 56,
    "start_time": "2024-07-19T17:31:57.936Z"
   },
   {
    "duration": 5144,
    "start_time": "2024-07-19T19:27:32.180Z"
   },
   {
    "duration": 749,
    "start_time": "2024-07-19T19:27:37.332Z"
   },
   {
    "duration": 88,
    "start_time": "2024-07-19T19:27:38.085Z"
   },
   {
    "duration": 19,
    "start_time": "2024-07-19T19:27:38.177Z"
   },
   {
    "duration": 40,
    "start_time": "2024-07-19T19:27:38.202Z"
   },
   {
    "duration": 51,
    "start_time": "2024-07-19T19:27:38.244Z"
   },
   {
    "duration": 74,
    "start_time": "2024-07-19T19:27:38.298Z"
   },
   {
    "duration": 179,
    "start_time": "2024-07-19T19:27:38.376Z"
   },
   {
    "duration": 237,
    "start_time": "2024-07-19T19:27:38.560Z"
   },
   {
    "duration": 28,
    "start_time": "2024-07-19T19:27:38.804Z"
   },
   {
    "duration": 12,
    "start_time": "2024-07-19T19:27:38.835Z"
   },
   {
    "duration": 11,
    "start_time": "2024-07-19T19:27:38.853Z"
   },
   {
    "duration": 260,
    "start_time": "2024-07-19T19:27:38.867Z"
   },
   {
    "duration": 337,
    "start_time": "2024-07-19T19:27:39.129Z"
   },
   {
    "duration": 44,
    "start_time": "2024-07-19T19:27:39.470Z"
   },
   {
    "duration": 35,
    "start_time": "2024-07-19T19:27:39.533Z"
   },
   {
    "duration": 6,
    "start_time": "2024-07-19T19:27:39.571Z"
   },
   {
    "duration": 360,
    "start_time": "2024-07-19T19:27:39.580Z"
   },
   {
    "duration": 67010,
    "start_time": "2024-07-19T19:27:39.943Z"
   },
   {
    "duration": 397,
    "start_time": "2024-07-19T19:28:46.956Z"
   },
   {
    "duration": 64,
    "start_time": "2024-07-19T19:28:47.357Z"
   },
   {
    "duration": 249,
    "start_time": "2024-07-19T19:28:47.426Z"
   },
   {
    "duration": 146,
    "start_time": "2024-07-19T19:28:47.679Z"
   },
   {
    "duration": 114,
    "start_time": "2024-07-19T19:28:47.828Z"
   },
   {
    "duration": 5274,
    "start_time": "2024-07-19T19:28:47.945Z"
   },
   {
    "duration": 44,
    "start_time": "2024-07-19T19:28:53.222Z"
   },
   {
    "duration": 22,
    "start_time": "2024-07-19T19:28:53.269Z"
   },
   {
    "duration": 9,
    "start_time": "2024-07-19T19:28:53.300Z"
   },
   {
    "duration": 18,
    "start_time": "2024-07-19T19:28:53.335Z"
   },
   {
    "duration": 124,
    "start_time": "2024-07-19T19:28:53.355Z"
   },
   {
    "duration": 15,
    "start_time": "2024-07-19T19:28:53.483Z"
   },
   {
    "duration": 52,
    "start_time": "2024-07-19T19:28:53.501Z"
   },
   {
    "duration": 11,
    "start_time": "2024-07-19T19:28:53.556Z"
   },
   {
    "duration": 30,
    "start_time": "2024-07-19T19:28:53.571Z"
   },
   {
    "duration": 12,
    "start_time": "2024-07-19T19:28:53.634Z"
   },
   {
    "duration": 28,
    "start_time": "2024-07-19T19:28:53.650Z"
   },
   {
    "duration": 10,
    "start_time": "2024-07-19T19:28:53.681Z"
   },
   {
    "duration": 41,
    "start_time": "2024-07-19T19:28:53.694Z"
   },
   {
    "duration": 32,
    "start_time": "2024-07-19T19:28:53.738Z"
   },
   {
    "duration": 7,
    "start_time": "2024-07-19T19:28:53.774Z"
   },
   {
    "duration": 49,
    "start_time": "2024-07-19T19:28:53.784Z"
   },
   {
    "duration": 5,
    "start_time": "2024-07-19T19:48:07.630Z"
   },
   {
    "duration": 459,
    "start_time": "2024-07-19T19:49:56.779Z"
   },
   {
    "duration": 11,
    "start_time": "2024-07-19T19:50:12.014Z"
   },
   {
    "duration": 16,
    "start_time": "2024-07-19T19:57:24.569Z"
   },
   {
    "duration": 15,
    "start_time": "2024-07-19T19:57:48.931Z"
   },
   {
    "duration": 13,
    "start_time": "2024-07-19T19:58:08.784Z"
   },
   {
    "duration": 18,
    "start_time": "2024-07-19T19:58:20.008Z"
   },
   {
    "duration": 187,
    "start_time": "2024-07-19T20:03:10.548Z"
   },
   {
    "duration": 309,
    "start_time": "2024-07-19T20:06:16.772Z"
   },
   {
    "duration": 1379,
    "start_time": "2024-07-19T20:06:31.564Z"
   },
   {
    "duration": 736,
    "start_time": "2024-07-19T20:06:32.946Z"
   },
   {
    "duration": 61,
    "start_time": "2024-07-19T20:06:33.685Z"
   },
   {
    "duration": 16,
    "start_time": "2024-07-19T20:06:33.750Z"
   },
   {
    "duration": 14,
    "start_time": "2024-07-19T20:06:33.770Z"
   },
   {
    "duration": 77,
    "start_time": "2024-07-19T20:06:33.788Z"
   },
   {
    "duration": 74,
    "start_time": "2024-07-19T20:06:33.868Z"
   },
   {
    "duration": 162,
    "start_time": "2024-07-19T20:06:33.944Z"
   },
   {
    "duration": 223,
    "start_time": "2024-07-19T20:06:34.109Z"
   },
   {
    "duration": 14,
    "start_time": "2024-07-19T20:06:34.338Z"
   },
   {
    "duration": 11,
    "start_time": "2024-07-19T20:06:34.356Z"
   },
   {
    "duration": 11,
    "start_time": "2024-07-19T20:06:34.370Z"
   },
   {
    "duration": 257,
    "start_time": "2024-07-19T20:06:34.385Z"
   },
   {
    "duration": 318,
    "start_time": "2024-07-19T20:06:34.645Z"
   },
   {
    "duration": 39,
    "start_time": "2024-07-19T20:06:34.966Z"
   },
   {
    "duration": 49,
    "start_time": "2024-07-19T20:06:35.009Z"
   },
   {
    "duration": 6,
    "start_time": "2024-07-19T20:06:35.061Z"
   },
   {
    "duration": 323,
    "start_time": "2024-07-19T20:06:35.071Z"
   },
   {
    "duration": 65112,
    "start_time": "2024-07-19T20:06:35.396Z"
   },
   {
    "duration": 322,
    "start_time": "2024-07-19T20:07:40.511Z"
   },
   {
    "duration": 45,
    "start_time": "2024-07-19T20:07:40.835Z"
   },
   {
    "duration": 249,
    "start_time": "2024-07-19T20:07:40.883Z"
   },
   {
    "duration": 126,
    "start_time": "2024-07-19T20:07:41.135Z"
   },
   {
    "duration": 103,
    "start_time": "2024-07-19T20:07:41.264Z"
   },
   {
    "duration": 5046,
    "start_time": "2024-07-19T20:07:41.372Z"
   },
   {
    "duration": 32,
    "start_time": "2024-07-19T20:07:46.421Z"
   },
   {
    "duration": 21,
    "start_time": "2024-07-19T20:07:46.456Z"
   },
   {
    "duration": 9,
    "start_time": "2024-07-19T20:07:46.485Z"
   },
   {
    "duration": 12,
    "start_time": "2024-07-19T20:07:46.534Z"
   },
   {
    "duration": 100,
    "start_time": "2024-07-19T20:07:46.549Z"
   },
   {
    "duration": 16,
    "start_time": "2024-07-19T20:07:46.652Z"
   },
   {
    "duration": 30,
    "start_time": "2024-07-19T20:07:46.671Z"
   },
   {
    "duration": 10,
    "start_time": "2024-07-19T20:07:46.733Z"
   },
   {
    "duration": 26,
    "start_time": "2024-07-19T20:07:46.746Z"
   },
   {
    "duration": 12,
    "start_time": "2024-07-19T20:07:46.775Z"
   },
   {
    "duration": 67,
    "start_time": "2024-07-19T20:07:46.790Z"
   },
   {
    "duration": 10,
    "start_time": "2024-07-19T20:07:46.860Z"
   },
   {
    "duration": 6,
    "start_time": "2024-07-19T20:07:46.873Z"
   },
   {
    "duration": 79,
    "start_time": "2024-07-19T20:07:46.882Z"
   },
   {
    "duration": 9,
    "start_time": "2024-07-19T20:07:46.964Z"
   },
   {
    "duration": 17,
    "start_time": "2024-07-19T20:07:46.979Z"
   },
   {
    "duration": 77,
    "start_time": "2024-07-19T20:07:47.004Z"
   },
   {
    "duration": 5,
    "start_time": "2024-07-19T20:07:47.084Z"
   },
   {
    "duration": 11,
    "start_time": "2024-07-19T20:07:47.093Z"
   },
   {
    "duration": 19,
    "start_time": "2024-07-19T20:07:47.136Z"
   },
   {
    "duration": 1331,
    "start_time": "2024-07-19T20:09:01.317Z"
   },
   {
    "duration": 733,
    "start_time": "2024-07-19T20:09:02.652Z"
   },
   {
    "duration": 61,
    "start_time": "2024-07-19T20:09:03.392Z"
   },
   {
    "duration": 17,
    "start_time": "2024-07-19T20:09:03.458Z"
   },
   {
    "duration": 56,
    "start_time": "2024-07-19T20:09:03.478Z"
   },
   {
    "duration": 41,
    "start_time": "2024-07-19T20:09:03.537Z"
   },
   {
    "duration": 91,
    "start_time": "2024-07-19T20:09:03.581Z"
   },
   {
    "duration": 174,
    "start_time": "2024-07-19T20:09:03.675Z"
   },
   {
    "duration": 221,
    "start_time": "2024-07-19T20:09:03.852Z"
   },
   {
    "duration": 16,
    "start_time": "2024-07-19T20:09:04.079Z"
   },
   {
    "duration": 36,
    "start_time": "2024-07-19T20:09:04.098Z"
   },
   {
    "duration": 12,
    "start_time": "2024-07-19T20:09:04.138Z"
   },
   {
    "duration": 247,
    "start_time": "2024-07-19T20:09:04.153Z"
   },
   {
    "duration": 313,
    "start_time": "2024-07-19T20:09:04.404Z"
   },
   {
    "duration": 50,
    "start_time": "2024-07-19T20:09:04.720Z"
   },
   {
    "duration": 63,
    "start_time": "2024-07-19T20:09:04.776Z"
   },
   {
    "duration": 6,
    "start_time": "2024-07-19T20:09:04.842Z"
   },
   {
    "duration": 315,
    "start_time": "2024-07-19T20:09:04.851Z"
   },
   {
    "duration": 66741,
    "start_time": "2024-07-19T20:09:05.170Z"
   },
   {
    "duration": 341,
    "start_time": "2024-07-19T20:10:11.914Z"
   },
   {
    "duration": 44,
    "start_time": "2024-07-19T20:10:12.259Z"
   },
   {
    "duration": 253,
    "start_time": "2024-07-19T20:10:12.306Z"
   },
   {
    "duration": 127,
    "start_time": "2024-07-19T20:10:12.561Z"
   },
   {
    "duration": 102,
    "start_time": "2024-07-19T20:10:12.692Z"
   },
   {
    "duration": 5092,
    "start_time": "2024-07-19T20:10:12.797Z"
   },
   {
    "duration": 42,
    "start_time": "2024-07-19T20:10:17.892Z"
   },
   {
    "duration": 21,
    "start_time": "2024-07-19T20:10:17.937Z"
   },
   {
    "duration": 10,
    "start_time": "2024-07-19T20:10:17.966Z"
   },
   {
    "duration": 14,
    "start_time": "2024-07-19T20:10:17.979Z"
   },
   {
    "duration": 118,
    "start_time": "2024-07-19T20:10:17.996Z"
   },
   {
    "duration": 16,
    "start_time": "2024-07-19T20:10:18.132Z"
   },
   {
    "duration": 31,
    "start_time": "2024-07-19T20:10:18.151Z"
   },
   {
    "duration": 48,
    "start_time": "2024-07-19T20:10:18.185Z"
   },
   {
    "duration": 24,
    "start_time": "2024-07-19T20:10:18.237Z"
   },
   {
    "duration": 12,
    "start_time": "2024-07-19T20:10:18.264Z"
   },
   {
    "duration": 59,
    "start_time": "2024-07-19T20:10:18.279Z"
   },
   {
    "duration": 10,
    "start_time": "2024-07-19T20:10:18.341Z"
   },
   {
    "duration": 6,
    "start_time": "2024-07-19T20:10:18.354Z"
   },
   {
    "duration": 31,
    "start_time": "2024-07-19T20:10:18.363Z"
   },
   {
    "duration": 38,
    "start_time": "2024-07-19T20:10:18.397Z"
   },
   {
    "duration": 10,
    "start_time": "2024-07-19T20:10:18.439Z"
   },
   {
    "duration": 81,
    "start_time": "2024-07-19T20:10:18.452Z"
   },
   {
    "duration": 5,
    "start_time": "2024-07-19T20:10:18.536Z"
   },
   {
    "duration": 12,
    "start_time": "2024-07-19T20:10:18.544Z"
   },
   {
    "duration": 17,
    "start_time": "2024-07-19T20:10:18.558Z"
   },
   {
    "duration": 252,
    "start_time": "2024-07-19T20:10:18.577Z"
   },
   {
    "duration": 24,
    "start_time": "2024-07-19T20:14:12.856Z"
   },
   {
    "duration": 281,
    "start_time": "2024-07-19T20:17:08.971Z"
   },
   {
    "duration": 271,
    "start_time": "2024-07-19T20:18:05.388Z"
   },
   {
    "duration": 255,
    "start_time": "2024-07-19T20:18:47.899Z"
   },
   {
    "duration": 254,
    "start_time": "2024-07-19T20:20:27.505Z"
   },
   {
    "duration": 1953,
    "start_time": "2024-07-19T20:21:22.747Z"
   },
   {
    "duration": 401,
    "start_time": "2024-07-19T20:22:09.234Z"
   },
   {
    "duration": 24,
    "start_time": "2024-07-19T21:05:30.061Z"
   },
   {
    "duration": 669,
    "start_time": "2024-07-19T21:05:41.092Z"
   },
   {
    "duration": 1302,
    "start_time": "2024-07-22T17:31:43.730Z"
   },
   {
    "duration": 754,
    "start_time": "2024-07-22T17:31:45.036Z"
   },
   {
    "duration": 65,
    "start_time": "2024-07-22T17:31:45.794Z"
   },
   {
    "duration": 17,
    "start_time": "2024-07-22T17:31:45.861Z"
   },
   {
    "duration": 43,
    "start_time": "2024-07-22T17:31:45.884Z"
   },
   {
    "duration": 57,
    "start_time": "2024-07-22T17:31:45.930Z"
   },
   {
    "duration": 84,
    "start_time": "2024-07-22T17:31:45.992Z"
   },
   {
    "duration": 152,
    "start_time": "2024-07-22T17:31:46.079Z"
   },
   {
    "duration": 218,
    "start_time": "2024-07-22T17:31:46.235Z"
   },
   {
    "duration": 17,
    "start_time": "2024-07-22T17:31:46.456Z"
   },
   {
    "duration": 13,
    "start_time": "2024-07-22T17:31:46.476Z"
   },
   {
    "duration": 42,
    "start_time": "2024-07-22T17:31:46.491Z"
   },
   {
    "duration": 253,
    "start_time": "2024-07-22T17:31:46.536Z"
   },
   {
    "duration": 349,
    "start_time": "2024-07-22T17:31:46.796Z"
   },
   {
    "duration": 39,
    "start_time": "2024-07-22T17:31:47.148Z"
   },
   {
    "duration": 58,
    "start_time": "2024-07-22T17:31:47.190Z"
   },
   {
    "duration": 6,
    "start_time": "2024-07-22T17:31:47.251Z"
   },
   {
    "duration": 323,
    "start_time": "2024-07-22T17:31:47.260Z"
   },
   {
    "duration": 65717,
    "start_time": "2024-07-22T17:31:47.586Z"
   },
   {
    "duration": 332,
    "start_time": "2024-07-22T17:32:53.306Z"
   },
   {
    "duration": 46,
    "start_time": "2024-07-22T17:32:53.640Z"
   },
   {
    "duration": 255,
    "start_time": "2024-07-22T17:32:53.688Z"
   },
   {
    "duration": 130,
    "start_time": "2024-07-22T17:32:53.946Z"
   },
   {
    "duration": 111,
    "start_time": "2024-07-22T17:32:54.079Z"
   },
   {
    "duration": 4936,
    "start_time": "2024-07-22T17:32:54.193Z"
   },
   {
    "duration": 32,
    "start_time": "2024-07-22T17:32:59.133Z"
   },
   {
    "duration": 23,
    "start_time": "2024-07-22T17:32:59.168Z"
   },
   {
    "duration": 605,
    "start_time": "2024-07-22T17:32:59.193Z"
   },
   {
    "duration": 27,
    "start_time": "2024-07-22T17:32:59.802Z"
   },
   {
    "duration": 13,
    "start_time": "2024-07-22T17:32:59.835Z"
   },
   {
    "duration": 121,
    "start_time": "2024-07-22T17:32:59.851Z"
   },
   {
    "duration": 17,
    "start_time": "2024-07-22T17:32:59.975Z"
   },
   {
    "duration": 58,
    "start_time": "2024-07-22T17:32:59.995Z"
   },
   {
    "duration": 12,
    "start_time": "2024-07-22T17:33:00.056Z"
   },
   {
    "duration": 65,
    "start_time": "2024-07-22T17:33:00.072Z"
   },
   {
    "duration": 14,
    "start_time": "2024-07-22T17:33:00.140Z"
   },
   {
    "duration": 29,
    "start_time": "2024-07-22T17:33:00.157Z"
   },
   {
    "duration": 43,
    "start_time": "2024-07-22T17:33:00.189Z"
   },
   {
    "duration": 6,
    "start_time": "2024-07-22T17:33:00.235Z"
   },
   {
    "duration": 35,
    "start_time": "2024-07-22T17:33:00.245Z"
   },
   {
    "duration": 8,
    "start_time": "2024-07-22T17:33:00.326Z"
   },
   {
    "duration": 10,
    "start_time": "2024-07-22T17:33:00.340Z"
   },
   {
    "duration": 87,
    "start_time": "2024-07-22T17:33:00.354Z"
   },
   {
    "duration": 6,
    "start_time": "2024-07-22T17:33:00.445Z"
   },
   {
    "duration": 13,
    "start_time": "2024-07-22T17:33:00.455Z"
   },
   {
    "duration": 56,
    "start_time": "2024-07-22T17:33:00.471Z"
   },
   {
    "duration": 224,
    "start_time": "2024-07-22T17:33:00.531Z"
   },
   {
    "duration": 26,
    "start_time": "2024-07-22T17:33:00.759Z"
   },
   {
    "duration": 354,
    "start_time": "2024-07-22T17:33:00.788Z"
   },
   {
    "duration": 295,
    "start_time": "2024-07-22T17:33:01.146Z"
   },
   {
    "duration": 304,
    "start_time": "2024-07-22T17:33:01.447Z"
   },
   {
    "duration": 308,
    "start_time": "2024-07-23T13:25:13.170Z"
   },
   {
    "duration": 4780,
    "start_time": "2024-07-23T13:25:51.303Z"
   },
   {
    "duration": 675,
    "start_time": "2024-07-23T13:25:56.086Z"
   },
   {
    "duration": 62,
    "start_time": "2024-07-23T13:25:56.764Z"
   },
   {
    "duration": 17,
    "start_time": "2024-07-23T13:25:56.834Z"
   },
   {
    "duration": 17,
    "start_time": "2024-07-23T13:25:56.858Z"
   },
   {
    "duration": 65,
    "start_time": "2024-07-23T13:25:56.879Z"
   },
   {
    "duration": 62,
    "start_time": "2024-07-23T13:25:56.948Z"
   },
   {
    "duration": 154,
    "start_time": "2024-07-23T13:25:57.033Z"
   },
   {
    "duration": 213,
    "start_time": "2024-07-23T13:25:57.191Z"
   },
   {
    "duration": 25,
    "start_time": "2024-07-23T13:25:57.409Z"
   },
   {
    "duration": 13,
    "start_time": "2024-07-23T13:25:57.437Z"
   },
   {
    "duration": 13,
    "start_time": "2024-07-23T13:25:57.453Z"
   },
   {
    "duration": 245,
    "start_time": "2024-07-23T13:25:57.469Z"
   },
   {
    "duration": 339,
    "start_time": "2024-07-23T13:25:57.717Z"
   },
   {
    "duration": 5,
    "start_time": "2024-07-23T13:26:06.461Z"
   },
   {
    "duration": 6,
    "start_time": "2024-07-23T13:26:51.215Z"
   },
   {
    "duration": 122,
    "start_time": "2024-07-23T13:35:16.077Z"
   },
   {
    "duration": 4,
    "start_time": "2024-07-23T13:35:21.504Z"
   },
   {
    "duration": 621,
    "start_time": "2024-07-23T13:35:21.512Z"
   },
   {
    "duration": 64,
    "start_time": "2024-07-23T13:35:22.136Z"
   },
   {
    "duration": 34,
    "start_time": "2024-07-23T13:35:22.206Z"
   },
   {
    "duration": 13,
    "start_time": "2024-07-23T13:35:22.244Z"
   },
   {
    "duration": 38,
    "start_time": "2024-07-23T13:35:22.261Z"
   },
   {
    "duration": 83,
    "start_time": "2024-07-23T13:35:22.302Z"
   },
   {
    "duration": 146,
    "start_time": "2024-07-23T13:35:22.388Z"
   },
   {
    "duration": 216,
    "start_time": "2024-07-23T13:35:22.537Z"
   },
   {
    "duration": 15,
    "start_time": "2024-07-23T13:35:22.759Z"
   },
   {
    "duration": 12,
    "start_time": "2024-07-23T13:35:22.777Z"
   },
   {
    "duration": 41,
    "start_time": "2024-07-23T13:35:22.793Z"
   },
   {
    "duration": 224,
    "start_time": "2024-07-23T13:35:22.838Z"
   },
   {
    "duration": 317,
    "start_time": "2024-07-23T13:35:23.065Z"
   },
   {
    "duration": 6,
    "start_time": "2024-07-23T13:35:23.386Z"
   },
   {
    "duration": 56,
    "start_time": "2024-07-23T13:35:23.397Z"
   },
   {
    "duration": 34,
    "start_time": "2024-07-23T13:35:23.456Z"
   },
   {
    "duration": 5,
    "start_time": "2024-07-23T13:35:23.493Z"
   },
   {
    "duration": 300,
    "start_time": "2024-07-23T13:35:23.534Z"
   },
   {
    "duration": 63621,
    "start_time": "2024-07-23T13:35:23.838Z"
   },
   {
    "duration": 310,
    "start_time": "2024-07-23T13:36:27.463Z"
   },
   {
    "duration": 0,
    "start_time": "2024-07-23T13:36:27.812Z"
   },
   {
    "duration": 30,
    "start_time": "2024-07-23T13:40:33.063Z"
   },
   {
    "duration": 4,
    "start_time": "2024-07-23T13:41:01.467Z"
   },
   {
    "duration": 607,
    "start_time": "2024-07-23T13:41:01.475Z"
   },
   {
    "duration": 61,
    "start_time": "2024-07-23T13:41:02.084Z"
   },
   {
    "duration": 16,
    "start_time": "2024-07-23T13:41:02.151Z"
   },
   {
    "duration": 15,
    "start_time": "2024-07-23T13:41:02.170Z"
   },
   {
    "duration": 77,
    "start_time": "2024-07-23T13:41:02.191Z"
   },
   {
    "duration": 71,
    "start_time": "2024-07-23T13:41:02.271Z"
   },
   {
    "duration": 149,
    "start_time": "2024-07-23T13:41:02.345Z"
   },
   {
    "duration": 215,
    "start_time": "2024-07-23T13:41:02.497Z"
   },
   {
    "duration": 18,
    "start_time": "2024-07-23T13:41:02.717Z"
   },
   {
    "duration": 14,
    "start_time": "2024-07-23T13:41:02.738Z"
   },
   {
    "duration": 14,
    "start_time": "2024-07-23T13:41:02.756Z"
   },
   {
    "duration": 244,
    "start_time": "2024-07-23T13:41:02.774Z"
   },
   {
    "duration": 292,
    "start_time": "2024-07-23T13:41:03.034Z"
   },
   {
    "duration": 7,
    "start_time": "2024-07-23T13:41:03.334Z"
   },
   {
    "duration": 37,
    "start_time": "2024-07-23T13:41:03.344Z"
   },
   {
    "duration": 62,
    "start_time": "2024-07-23T13:41:03.383Z"
   },
   {
    "duration": 5,
    "start_time": "2024-07-23T13:41:03.448Z"
   },
   {
    "duration": 291,
    "start_time": "2024-07-23T13:41:03.456Z"
   },
   {
    "duration": 64060,
    "start_time": "2024-07-23T13:41:03.750Z"
   },
   {
    "duration": 301,
    "start_time": "2024-07-23T13:42:07.813Z"
   },
   {
    "duration": 0,
    "start_time": "2024-07-23T13:42:08.159Z"
   },
   {
    "duration": 29,
    "start_time": "2024-07-23T13:43:05.124Z"
   },
   {
    "duration": 4,
    "start_time": "2024-07-23T13:46:42.408Z"
   },
   {
    "duration": 585,
    "start_time": "2024-07-23T13:46:42.416Z"
   },
   {
    "duration": 64,
    "start_time": "2024-07-23T13:46:43.003Z"
   },
   {
    "duration": 15,
    "start_time": "2024-07-23T13:46:43.070Z"
   },
   {
    "duration": 43,
    "start_time": "2024-07-23T13:46:43.090Z"
   },
   {
    "duration": 39,
    "start_time": "2024-07-23T13:46:43.136Z"
   },
   {
    "duration": 73,
    "start_time": "2024-07-23T13:46:43.178Z"
   },
   {
    "duration": 145,
    "start_time": "2024-07-23T13:46:43.254Z"
   },
   {
    "duration": 213,
    "start_time": "2024-07-23T13:46:43.402Z"
   },
   {
    "duration": 18,
    "start_time": "2024-07-23T13:46:43.618Z"
   },
   {
    "duration": 12,
    "start_time": "2024-07-23T13:46:43.639Z"
   },
   {
    "duration": 12,
    "start_time": "2024-07-23T13:46:43.654Z"
   },
   {
    "duration": 245,
    "start_time": "2024-07-23T13:46:43.669Z"
   },
   {
    "duration": 307,
    "start_time": "2024-07-23T13:46:43.932Z"
   },
   {
    "duration": 5,
    "start_time": "2024-07-23T13:46:44.243Z"
   },
   {
    "duration": 37,
    "start_time": "2024-07-23T13:46:44.252Z"
   },
   {
    "duration": 60,
    "start_time": "2024-07-23T13:46:44.291Z"
   },
   {
    "duration": 6,
    "start_time": "2024-07-23T13:46:44.354Z"
   },
   {
    "duration": 287,
    "start_time": "2024-07-23T13:46:44.363Z"
   },
   {
    "duration": 0,
    "start_time": "2024-07-23T13:47:48.063Z"
   },
   {
    "duration": 0,
    "start_time": "2024-07-23T13:47:48.065Z"
   },
   {
    "duration": 0,
    "start_time": "2024-07-23T13:47:48.067Z"
   },
   {
    "duration": 29,
    "start_time": "2024-07-23T13:48:46.868Z"
   },
   {
    "duration": 287,
    "start_time": "2024-07-23T13:50:02.070Z"
   },
   {
    "duration": 802,
    "start_time": "2024-07-23T13:50:03.770Z"
   },
   {
    "duration": 24,
    "start_time": "2024-07-23T13:56:19.107Z"
   },
   {
    "duration": 30,
    "start_time": "2024-07-23T13:57:35.323Z"
   },
   {
    "duration": 23,
    "start_time": "2024-07-23T13:57:50.079Z"
   },
   {
    "duration": 4,
    "start_time": "2024-07-23T13:57:56.874Z"
   },
   {
    "duration": 577,
    "start_time": "2024-07-23T13:57:56.882Z"
   },
   {
    "duration": 59,
    "start_time": "2024-07-23T13:57:57.462Z"
   },
   {
    "duration": 16,
    "start_time": "2024-07-23T13:57:57.534Z"
   },
   {
    "duration": 15,
    "start_time": "2024-07-23T13:57:57.553Z"
   },
   {
    "duration": 68,
    "start_time": "2024-07-23T13:57:57.571Z"
   },
   {
    "duration": 54,
    "start_time": "2024-07-23T13:57:57.642Z"
   },
   {
    "duration": 160,
    "start_time": "2024-07-23T13:57:57.699Z"
   },
   {
    "duration": 222,
    "start_time": "2024-07-23T13:57:57.862Z"
   },
   {
    "duration": 13,
    "start_time": "2024-07-23T13:57:58.090Z"
   },
   {
    "duration": 27,
    "start_time": "2024-07-23T13:57:58.107Z"
   },
   {
    "duration": 11,
    "start_time": "2024-07-23T13:57:58.137Z"
   },
   {
    "duration": 236,
    "start_time": "2024-07-23T13:57:58.152Z"
   },
   {
    "duration": 296,
    "start_time": "2024-07-23T13:57:58.391Z"
   },
   {
    "duration": 6,
    "start_time": "2024-07-23T13:57:58.690Z"
   },
   {
    "duration": 53,
    "start_time": "2024-07-23T13:57:58.699Z"
   },
   {
    "duration": 30,
    "start_time": "2024-07-23T13:57:58.755Z"
   },
   {
    "duration": 5,
    "start_time": "2024-07-23T13:57:58.788Z"
   },
   {
    "duration": 312,
    "start_time": "2024-07-23T13:57:58.796Z"
   },
   {
    "duration": 63717,
    "start_time": "2024-07-23T13:57:59.111Z"
   },
   {
    "duration": 294,
    "start_time": "2024-07-23T13:59:02.834Z"
   },
   {
    "duration": 810,
    "start_time": "2024-07-23T13:59:03.134Z"
   },
   {
    "duration": 45,
    "start_time": "2024-07-23T13:59:03.947Z"
   },
   {
    "duration": 234,
    "start_time": "2024-07-23T13:59:03.994Z"
   },
   {
    "duration": 118,
    "start_time": "2024-07-23T13:59:04.234Z"
   },
   {
    "duration": 96,
    "start_time": "2024-07-23T13:59:04.354Z"
   },
   {
    "duration": 4896,
    "start_time": "2024-07-23T13:59:04.453Z"
   },
   {
    "duration": 31,
    "start_time": "2024-07-23T13:59:09.356Z"
   },
   {
    "duration": 14,
    "start_time": "2024-07-23T13:59:09.457Z"
   },
   {
    "duration": 1483,
    "start_time": "2024-07-23T13:59:09.474Z"
   },
   {
    "duration": 22,
    "start_time": "2024-07-23T13:59:23.770Z"
   },
   {
    "duration": 1485,
    "start_time": "2024-07-23T14:01:54.775Z"
   },
   {
    "duration": 3,
    "start_time": "2024-07-23T14:04:45.995Z"
   },
   {
    "duration": 29,
    "start_time": "2024-07-23T14:05:01.683Z"
   },
   {
    "duration": 4,
    "start_time": "2024-07-23T14:05:07.137Z"
   },
   {
    "duration": 623,
    "start_time": "2024-07-23T14:05:07.146Z"
   },
   {
    "duration": 67,
    "start_time": "2024-07-23T14:05:07.771Z"
   },
   {
    "duration": 16,
    "start_time": "2024-07-23T14:05:07.843Z"
   },
   {
    "duration": 13,
    "start_time": "2024-07-23T14:05:07.863Z"
   },
   {
    "duration": 68,
    "start_time": "2024-07-23T14:05:07.880Z"
   },
   {
    "duration": 53,
    "start_time": "2024-07-23T14:05:07.951Z"
   },
   {
    "duration": 166,
    "start_time": "2024-07-23T14:05:08.006Z"
   },
   {
    "duration": 208,
    "start_time": "2024-07-23T14:05:08.175Z"
   },
   {
    "duration": 14,
    "start_time": "2024-07-23T14:05:08.390Z"
   },
   {
    "duration": 35,
    "start_time": "2024-07-23T14:05:08.407Z"
   },
   {
    "duration": 12,
    "start_time": "2024-07-23T14:05:08.444Z"
   },
   {
    "duration": 236,
    "start_time": "2024-07-23T14:05:08.459Z"
   },
   {
    "duration": 293,
    "start_time": "2024-07-23T14:05:08.698Z"
   },
   {
    "duration": 6,
    "start_time": "2024-07-23T14:05:08.994Z"
   },
   {
    "duration": 56,
    "start_time": "2024-07-23T14:05:09.003Z"
   },
   {
    "duration": 29,
    "start_time": "2024-07-23T14:05:09.062Z"
   },
   {
    "duration": 5,
    "start_time": "2024-07-23T14:05:09.094Z"
   },
   {
    "duration": 304,
    "start_time": "2024-07-23T14:05:09.102Z"
   },
   {
    "duration": 63456,
    "start_time": "2024-07-23T14:05:09.409Z"
   },
   {
    "duration": 296,
    "start_time": "2024-07-23T14:06:12.867Z"
   },
   {
    "duration": 805,
    "start_time": "2024-07-23T14:06:13.166Z"
   },
   {
    "duration": 44,
    "start_time": "2024-07-23T14:06:13.974Z"
   },
   {
    "duration": 228,
    "start_time": "2024-07-23T14:06:14.034Z"
   },
   {
    "duration": 115,
    "start_time": "2024-07-23T14:06:14.265Z"
   },
   {
    "duration": 93,
    "start_time": "2024-07-23T14:06:14.382Z"
   },
   {
    "duration": 4955,
    "start_time": "2024-07-23T14:06:14.477Z"
   },
   {
    "duration": 32,
    "start_time": "2024-07-23T14:06:19.440Z"
   },
   {
    "duration": 22,
    "start_time": "2024-07-23T14:06:19.475Z"
   },
   {
    "duration": 1455,
    "start_time": "2024-07-23T14:06:19.500Z"
   },
   {
    "duration": 10,
    "start_time": "2024-07-23T14:06:20.958Z"
   },
   {
    "duration": 12,
    "start_time": "2024-07-23T14:06:20.972Z"
   },
   {
    "duration": 110,
    "start_time": "2024-07-23T14:06:20.987Z"
   },
   {
    "duration": 15,
    "start_time": "2024-07-23T14:06:21.099Z"
   },
   {
    "duration": 32,
    "start_time": "2024-07-23T14:06:21.133Z"
   },
   {
    "duration": 10,
    "start_time": "2024-07-23T14:06:21.168Z"
   },
   {
    "duration": 61,
    "start_time": "2024-07-23T14:06:21.181Z"
   },
   {
    "duration": 12,
    "start_time": "2024-07-23T14:06:21.245Z"
   },
   {
    "duration": 27,
    "start_time": "2024-07-23T14:06:21.260Z"
   },
   {
    "duration": 11,
    "start_time": "2024-07-23T14:06:21.290Z"
   },
   {
    "duration": 6,
    "start_time": "2024-07-23T14:06:21.334Z"
   },
   {
    "duration": 32,
    "start_time": "2024-07-23T14:06:21.353Z"
   },
   {
    "duration": 8,
    "start_time": "2024-07-23T14:06:21.388Z"
   },
   {
    "duration": 35,
    "start_time": "2024-07-23T14:06:21.399Z"
   },
   {
    "duration": 82,
    "start_time": "2024-07-23T14:06:21.495Z"
   },
   {
    "duration": 1452,
    "start_time": "2024-07-23T14:06:23.105Z"
   },
   {
    "duration": 27,
    "start_time": "2024-07-23T14:08:07.917Z"
   },
   {
    "duration": 4,
    "start_time": "2024-07-23T14:08:21.273Z"
   },
   {
    "duration": 592,
    "start_time": "2024-07-23T14:08:21.282Z"
   },
   {
    "duration": 69,
    "start_time": "2024-07-23T14:08:21.876Z"
   },
   {
    "duration": 16,
    "start_time": "2024-07-23T14:08:21.950Z"
   },
   {
    "duration": 15,
    "start_time": "2024-07-23T14:08:21.968Z"
   },
   {
    "duration": 75,
    "start_time": "2024-07-23T14:08:21.987Z"
   },
   {
    "duration": 69,
    "start_time": "2024-07-23T14:08:22.066Z"
   },
   {
    "duration": 144,
    "start_time": "2024-07-23T14:08:22.141Z"
   },
   {
    "duration": 225,
    "start_time": "2024-07-23T14:08:22.288Z"
   },
   {
    "duration": 23,
    "start_time": "2024-07-23T14:08:22.520Z"
   },
   {
    "duration": 11,
    "start_time": "2024-07-23T14:08:22.546Z"
   },
   {
    "duration": 11,
    "start_time": "2024-07-23T14:08:22.561Z"
   },
   {
    "duration": 239,
    "start_time": "2024-07-23T14:08:22.576Z"
   },
   {
    "duration": 303,
    "start_time": "2024-07-23T14:08:22.818Z"
   },
   {
    "duration": 10,
    "start_time": "2024-07-23T14:08:23.124Z"
   },
   {
    "duration": 37,
    "start_time": "2024-07-23T14:08:23.138Z"
   },
   {
    "duration": 62,
    "start_time": "2024-07-23T14:08:23.179Z"
   },
   {
    "duration": 5,
    "start_time": "2024-07-23T14:08:23.244Z"
   },
   {
    "duration": 304,
    "start_time": "2024-07-23T14:08:23.252Z"
   },
   {
    "duration": 63415,
    "start_time": "2024-07-23T14:08:23.561Z"
   },
   {
    "duration": 298,
    "start_time": "2024-07-23T14:09:26.979Z"
   },
   {
    "duration": 767,
    "start_time": "2024-07-23T14:09:27.280Z"
   },
   {
    "duration": 45,
    "start_time": "2024-07-23T14:09:28.050Z"
   },
   {
    "duration": 224,
    "start_time": "2024-07-23T14:09:28.098Z"
   },
   {
    "duration": 117,
    "start_time": "2024-07-23T14:09:28.325Z"
   },
   {
    "duration": 92,
    "start_time": "2024-07-23T14:09:28.445Z"
   },
   {
    "duration": 4918,
    "start_time": "2024-07-23T14:09:28.541Z"
   },
   {
    "duration": 30,
    "start_time": "2024-07-23T14:09:33.468Z"
   },
   {
    "duration": 44,
    "start_time": "2024-07-23T14:09:33.501Z"
   },
   {
    "duration": 1427,
    "start_time": "2024-07-23T14:09:33.548Z"
   },
   {
    "duration": 10,
    "start_time": "2024-07-23T14:09:34.978Z"
   },
   {
    "duration": 11,
    "start_time": "2024-07-23T14:09:34.992Z"
   },
   {
    "duration": 73,
    "start_time": "2024-07-23T14:09:35.033Z"
   },
   {
    "duration": 34,
    "start_time": "2024-07-23T14:09:35.110Z"
   },
   {
    "duration": 32,
    "start_time": "2024-07-23T14:09:35.147Z"
   },
   {
    "duration": 11,
    "start_time": "2024-07-23T14:09:35.181Z"
   },
   {
    "duration": 57,
    "start_time": "2024-07-23T14:09:35.195Z"
   },
   {
    "duration": 12,
    "start_time": "2024-07-23T14:09:35.255Z"
   },
   {
    "duration": 29,
    "start_time": "2024-07-23T14:09:35.270Z"
   },
   {
    "duration": 12,
    "start_time": "2024-07-23T14:09:35.334Z"
   },
   {
    "duration": 5,
    "start_time": "2024-07-23T14:09:35.349Z"
   },
   {
    "duration": 31,
    "start_time": "2024-07-23T14:09:35.358Z"
   },
   {
    "duration": 40,
    "start_time": "2024-07-23T14:09:35.393Z"
   },
   {
    "duration": 11,
    "start_time": "2024-07-23T14:09:35.435Z"
   },
   {
    "duration": 50,
    "start_time": "2024-07-23T14:09:35.449Z"
   },
   {
    "duration": 5,
    "start_time": "2024-07-23T14:09:36.996Z"
   },
   {
    "duration": 31,
    "start_time": "2024-07-23T14:09:37.005Z"
   },
   {
    "duration": 15,
    "start_time": "2024-07-23T14:09:37.039Z"
   },
   {
    "duration": 214,
    "start_time": "2024-07-23T14:09:37.057Z"
   },
   {
    "duration": 24,
    "start_time": "2024-07-23T14:09:37.275Z"
   },
   {
    "duration": 20,
    "start_time": "2024-07-23T14:09:37.340Z"
   },
   {
    "duration": 431,
    "start_time": "2024-07-23T14:09:37.363Z"
   },
   {
    "duration": 1478,
    "start_time": "2024-07-23T14:09:39.269Z"
   },
   {
    "duration": 4,
    "start_time": "2024-07-23T14:12:31.041Z"
   },
   {
    "duration": 632,
    "start_time": "2024-07-23T14:12:31.050Z"
   },
   {
    "duration": 67,
    "start_time": "2024-07-23T14:12:31.686Z"
   },
   {
    "duration": 16,
    "start_time": "2024-07-23T14:12:31.757Z"
   },
   {
    "duration": 15,
    "start_time": "2024-07-23T14:12:31.776Z"
   },
   {
    "duration": 78,
    "start_time": "2024-07-23T14:12:31.795Z"
   },
   {
    "duration": 71,
    "start_time": "2024-07-23T14:12:31.876Z"
   },
   {
    "duration": 151,
    "start_time": "2024-07-23T14:12:31.951Z"
   },
   {
    "duration": 219,
    "start_time": "2024-07-23T14:12:32.105Z"
   },
   {
    "duration": 17,
    "start_time": "2024-07-23T14:12:32.334Z"
   },
   {
    "duration": 14,
    "start_time": "2024-07-23T14:12:32.354Z"
   },
   {
    "duration": 13,
    "start_time": "2024-07-23T14:12:32.370Z"
   },
   {
    "duration": 257,
    "start_time": "2024-07-23T14:12:32.389Z"
   },
   {
    "duration": 314,
    "start_time": "2024-07-23T14:12:32.649Z"
   },
   {
    "duration": 7,
    "start_time": "2024-07-23T14:12:32.967Z"
   },
   {
    "duration": 59,
    "start_time": "2024-07-23T14:12:32.978Z"
   },
   {
    "duration": 33,
    "start_time": "2024-07-23T14:12:33.040Z"
   },
   {
    "duration": 6,
    "start_time": "2024-07-23T14:12:33.076Z"
   },
   {
    "duration": 342,
    "start_time": "2024-07-23T14:12:33.086Z"
   },
   {
    "duration": 63853,
    "start_time": "2024-07-23T14:12:33.435Z"
   },
   {
    "duration": 287,
    "start_time": "2024-07-23T14:13:37.291Z"
   },
   {
    "duration": 789,
    "start_time": "2024-07-23T14:13:37.581Z"
   },
   {
    "duration": 44,
    "start_time": "2024-07-23T14:13:38.373Z"
   },
   {
    "duration": 207,
    "start_time": "2024-07-23T14:13:38.434Z"
   },
   {
    "duration": 115,
    "start_time": "2024-07-23T14:13:38.644Z"
   },
   {
    "duration": 91,
    "start_time": "2024-07-23T14:13:38.762Z"
   },
   {
    "duration": 4901,
    "start_time": "2024-07-23T14:13:38.855Z"
   },
   {
    "duration": 30,
    "start_time": "2024-07-23T14:13:43.765Z"
   },
   {
    "duration": 42,
    "start_time": "2024-07-23T14:13:43.799Z"
   },
   {
    "duration": 1462,
    "start_time": "2024-07-23T14:13:43.843Z"
   },
   {
    "duration": 10,
    "start_time": "2024-07-23T14:13:45.308Z"
   },
   {
    "duration": 12,
    "start_time": "2024-07-23T14:13:45.333Z"
   },
   {
    "duration": 97,
    "start_time": "2024-07-23T14:13:45.348Z"
   },
   {
    "duration": 15,
    "start_time": "2024-07-23T14:13:45.448Z"
   },
   {
    "duration": 32,
    "start_time": "2024-07-23T14:13:45.466Z"
   },
   {
    "duration": 40,
    "start_time": "2024-07-23T14:13:45.501Z"
   },
   {
    "duration": 25,
    "start_time": "2024-07-23T14:13:45.544Z"
   },
   {
    "duration": 11,
    "start_time": "2024-07-23T14:13:45.572Z"
   },
   {
    "duration": 66,
    "start_time": "2024-07-23T14:13:45.586Z"
   },
   {
    "duration": 10,
    "start_time": "2024-07-23T14:13:45.655Z"
   },
   {
    "duration": 6,
    "start_time": "2024-07-23T14:13:45.668Z"
   },
   {
    "duration": 63,
    "start_time": "2024-07-23T14:13:45.677Z"
   },
   {
    "duration": 7,
    "start_time": "2024-07-23T14:13:45.743Z"
   },
   {
    "duration": 11,
    "start_time": "2024-07-23T14:13:45.753Z"
   },
   {
    "duration": 83,
    "start_time": "2024-07-23T14:13:45.766Z"
   },
   {
    "duration": 1443,
    "start_time": "2024-07-23T14:13:45.852Z"
   },
   {
    "duration": 6,
    "start_time": "2024-07-23T14:13:47.299Z"
   },
   {
    "duration": 33,
    "start_time": "2024-07-23T14:13:47.309Z"
   },
   {
    "duration": 15,
    "start_time": "2024-07-23T14:13:47.345Z"
   },
   {
    "duration": 211,
    "start_time": "2024-07-23T14:13:47.363Z"
   },
   {
    "duration": 27,
    "start_time": "2024-07-23T14:13:47.577Z"
   },
   {
    "duration": 39,
    "start_time": "2024-07-23T14:13:47.607Z"
   },
   {
    "duration": 367,
    "start_time": "2024-07-23T14:13:47.651Z"
   },
   {
    "duration": 286,
    "start_time": "2024-07-23T14:13:48.022Z"
   },
   {
    "duration": 284,
    "start_time": "2024-07-23T14:13:48.311Z"
   },
   {
    "duration": 270,
    "start_time": "2024-07-23T14:13:48.599Z"
   },
   {
    "duration": 7,
    "start_time": "2024-07-23T14:21:58.126Z"
   },
   {
    "duration": 1225,
    "start_time": "2024-07-25T00:36:20.068Z"
   },
   {
    "duration": 633,
    "start_time": "2024-07-25T00:36:21.296Z"
   },
   {
    "duration": 60,
    "start_time": "2024-07-25T00:36:21.932Z"
   },
   {
    "duration": 37,
    "start_time": "2024-07-25T00:36:21.995Z"
   },
   {
    "duration": 15,
    "start_time": "2024-07-25T00:36:22.035Z"
   },
   {
    "duration": 40,
    "start_time": "2024-07-25T00:36:22.054Z"
   },
   {
    "duration": 86,
    "start_time": "2024-07-25T00:36:22.096Z"
   },
   {
    "duration": 151,
    "start_time": "2024-07-25T00:36:22.187Z"
   },
   {
    "duration": 218,
    "start_time": "2024-07-25T00:36:22.340Z"
   },
   {
    "duration": 14,
    "start_time": "2024-07-25T00:36:22.563Z"
   },
   {
    "duration": 12,
    "start_time": "2024-07-25T00:36:22.580Z"
   },
   {
    "duration": 40,
    "start_time": "2024-07-25T00:36:22.595Z"
   },
   {
    "duration": 232,
    "start_time": "2024-07-25T00:36:22.637Z"
   },
   {
    "duration": 318,
    "start_time": "2024-07-25T00:36:22.872Z"
   },
   {
    "duration": 5,
    "start_time": "2024-07-25T00:36:23.194Z"
   },
   {
    "duration": 59,
    "start_time": "2024-07-25T00:36:23.202Z"
   },
   {
    "duration": 35,
    "start_time": "2024-07-25T00:36:23.264Z"
   },
   {
    "duration": 25,
    "start_time": "2024-07-25T00:36:23.302Z"
   },
   {
    "duration": 308,
    "start_time": "2024-07-25T00:36:23.330Z"
   },
   {
    "duration": 64856,
    "start_time": "2024-07-25T00:36:23.641Z"
   },
   {
    "duration": 334,
    "start_time": "2024-07-25T00:37:28.501Z"
   },
   {
    "duration": 840,
    "start_time": "2024-07-25T00:37:28.839Z"
   },
   {
    "duration": 60,
    "start_time": "2024-07-25T00:37:29.682Z"
   },
   {
    "duration": 234,
    "start_time": "2024-07-25T00:37:29.745Z"
   },
   {
    "duration": 121,
    "start_time": "2024-07-25T00:37:29.982Z"
   },
   {
    "duration": 91,
    "start_time": "2024-07-25T00:37:30.106Z"
   },
   {
    "duration": 4912,
    "start_time": "2024-07-25T00:37:30.200Z"
   },
   {
    "duration": 35,
    "start_time": "2024-07-25T00:37:35.125Z"
   },
   {
    "duration": 25,
    "start_time": "2024-07-25T00:37:35.164Z"
   },
   {
    "duration": 1452,
    "start_time": "2024-07-25T00:37:35.192Z"
   },
   {
    "duration": 10,
    "start_time": "2024-07-25T00:37:36.647Z"
   },
   {
    "duration": 13,
    "start_time": "2024-07-25T00:37:36.660Z"
   },
   {
    "duration": 114,
    "start_time": "2024-07-25T00:37:36.676Z"
   },
   {
    "duration": 16,
    "start_time": "2024-07-25T00:37:36.793Z"
   },
   {
    "duration": 30,
    "start_time": "2024-07-25T00:37:36.827Z"
   },
   {
    "duration": 9,
    "start_time": "2024-07-25T00:37:36.861Z"
   },
   {
    "duration": 57,
    "start_time": "2024-07-25T00:37:36.873Z"
   },
   {
    "duration": 12,
    "start_time": "2024-07-25T00:37:36.933Z"
   },
   {
    "duration": 27,
    "start_time": "2024-07-25T00:37:36.948Z"
   },
   {
    "duration": 46,
    "start_time": "2024-07-25T00:37:36.979Z"
   },
   {
    "duration": 6,
    "start_time": "2024-07-25T00:37:37.029Z"
   },
   {
    "duration": 31,
    "start_time": "2024-07-25T00:37:37.038Z"
   },
   {
    "duration": 7,
    "start_time": "2024-07-25T00:37:37.072Z"
   },
   {
    "duration": 48,
    "start_time": "2024-07-25T00:37:37.082Z"
   },
   {
    "duration": 49,
    "start_time": "2024-07-25T00:37:37.133Z"
   },
   {
    "duration": 1529,
    "start_time": "2024-07-25T00:37:37.185Z"
   },
   {
    "duration": 11,
    "start_time": "2024-07-25T00:37:38.717Z"
   },
   {
    "duration": 11,
    "start_time": "2024-07-25T00:37:38.731Z"
   },
   {
    "duration": 15,
    "start_time": "2024-07-25T00:37:38.745Z"
   },
   {
    "duration": 236,
    "start_time": "2024-07-25T00:37:38.763Z"
   },
   {
    "duration": 38,
    "start_time": "2024-07-25T00:37:39.002Z"
   },
   {
    "duration": 20,
    "start_time": "2024-07-25T00:37:39.042Z"
   },
   {
    "duration": 442,
    "start_time": "2024-07-25T00:37:39.065Z"
   },
   {
    "duration": 297,
    "start_time": "2024-07-25T00:37:39.510Z"
   },
   {
    "duration": 280,
    "start_time": "2024-07-25T00:37:39.810Z"
   },
   {
    "duration": 288,
    "start_time": "2024-07-25T00:37:40.093Z"
   },
   {
    "duration": 5016,
    "start_time": "2024-07-25T18:55:36.413Z"
   },
   {
    "duration": 703,
    "start_time": "2024-07-25T18:55:41.433Z"
   },
   {
    "duration": 62,
    "start_time": "2024-07-25T18:55:42.138Z"
   },
   {
    "duration": 25,
    "start_time": "2024-07-25T18:55:42.203Z"
   },
   {
    "duration": 14,
    "start_time": "2024-07-25T18:55:42.234Z"
   },
   {
    "duration": 75,
    "start_time": "2024-07-25T18:55:42.251Z"
   },
   {
    "duration": 61,
    "start_time": "2024-07-25T18:55:42.329Z"
   },
   {
    "duration": 154,
    "start_time": "2024-07-25T18:55:42.393Z"
   },
   {
    "duration": 213,
    "start_time": "2024-07-25T18:55:42.550Z"
   },
   {
    "duration": 14,
    "start_time": "2024-07-25T18:55:42.766Z"
   },
   {
    "duration": 13,
    "start_time": "2024-07-25T18:55:42.783Z"
   },
   {
    "duration": 14,
    "start_time": "2024-07-25T18:55:42.825Z"
   },
   {
    "duration": 233,
    "start_time": "2024-07-25T18:55:42.842Z"
   },
   {
    "duration": 344,
    "start_time": "2024-07-25T18:55:43.082Z"
   },
   {
    "duration": 7,
    "start_time": "2024-07-25T18:55:43.428Z"
   },
   {
    "duration": 44,
    "start_time": "2024-07-25T18:55:43.438Z"
   },
   {
    "duration": 67,
    "start_time": "2024-07-25T18:55:43.485Z"
   },
   {
    "duration": 6,
    "start_time": "2024-07-25T18:55:43.555Z"
   },
   {
    "duration": 309,
    "start_time": "2024-07-25T18:55:43.565Z"
   },
   {
    "duration": 64443,
    "start_time": "2024-07-25T18:55:43.880Z"
   },
   {
    "duration": 324,
    "start_time": "2024-07-25T18:56:48.327Z"
   },
   {
    "duration": 819,
    "start_time": "2024-07-25T18:56:48.655Z"
   },
   {
    "duration": 60,
    "start_time": "2024-07-25T18:56:49.477Z"
   },
   {
    "duration": 230,
    "start_time": "2024-07-25T18:56:49.540Z"
   },
   {
    "duration": 132,
    "start_time": "2024-07-25T18:56:49.773Z"
   },
   {
    "duration": 83,
    "start_time": "2024-07-25T18:56:49.908Z"
   },
   {
    "duration": 4943,
    "start_time": "2024-07-25T18:56:49.994Z"
   },
   {
    "duration": 30,
    "start_time": "2024-07-25T18:56:54.940Z"
   },
   {
    "duration": 23,
    "start_time": "2024-07-25T18:56:54.972Z"
   },
   {
    "duration": 1506,
    "start_time": "2024-07-25T18:56:54.997Z"
   },
   {
    "duration": 10,
    "start_time": "2024-07-25T18:56:56.506Z"
   },
   {
    "duration": 13,
    "start_time": "2024-07-25T18:56:56.519Z"
   },
   {
    "duration": 93,
    "start_time": "2024-07-25T18:56:56.535Z"
   },
   {
    "duration": 16,
    "start_time": "2024-07-25T18:56:56.631Z"
   },
   {
    "duration": 29,
    "start_time": "2024-07-25T18:56:56.650Z"
   },
   {
    "duration": 46,
    "start_time": "2024-07-25T18:56:56.682Z"
   },
   {
    "duration": 25,
    "start_time": "2024-07-25T18:56:56.731Z"
   },
   {
    "duration": 11,
    "start_time": "2024-07-25T18:56:56.759Z"
   },
   {
    "duration": 60,
    "start_time": "2024-07-25T18:56:56.772Z"
   },
   {
    "duration": 10,
    "start_time": "2024-07-25T18:56:56.835Z"
   },
   {
    "duration": 6,
    "start_time": "2024-07-25T18:56:56.853Z"
   },
   {
    "duration": 64,
    "start_time": "2024-07-25T18:56:56.862Z"
   },
   {
    "duration": 8,
    "start_time": "2024-07-25T18:56:56.929Z"
   },
   {
    "duration": 10,
    "start_time": "2024-07-25T18:56:56.940Z"
   },
   {
    "duration": 81,
    "start_time": "2024-07-25T18:56:56.954Z"
   },
   {
    "duration": 1577,
    "start_time": "2024-07-25T18:56:57.367Z"
   },
   {
    "duration": 4,
    "start_time": "2024-07-25T19:01:52.841Z"
   },
   {
    "duration": 603,
    "start_time": "2024-07-25T19:01:52.849Z"
   },
   {
    "duration": 59,
    "start_time": "2024-07-25T19:01:53.455Z"
   },
   {
    "duration": 25,
    "start_time": "2024-07-25T19:01:53.516Z"
   },
   {
    "duration": 14,
    "start_time": "2024-07-25T19:01:53.546Z"
   },
   {
    "duration": 68,
    "start_time": "2024-07-25T19:01:53.563Z"
   },
   {
    "duration": 53,
    "start_time": "2024-07-25T19:01:53.634Z"
   },
   {
    "duration": 161,
    "start_time": "2024-07-25T19:01:53.692Z"
   },
   {
    "duration": 212,
    "start_time": "2024-07-25T19:01:53.856Z"
   },
   {
    "duration": 15,
    "start_time": "2024-07-25T19:01:54.070Z"
   },
   {
    "duration": 11,
    "start_time": "2024-07-25T19:01:54.088Z"
   },
   {
    "duration": 13,
    "start_time": "2024-07-25T19:01:54.126Z"
   },
   {
    "duration": 231,
    "start_time": "2024-07-25T19:01:54.146Z"
   },
   {
    "duration": 296,
    "start_time": "2024-07-25T19:01:54.380Z"
   },
   {
    "duration": 7,
    "start_time": "2024-07-25T19:01:54.678Z"
   },
   {
    "duration": 57,
    "start_time": "2024-07-25T19:01:54.689Z"
   },
   {
    "duration": 30,
    "start_time": "2024-07-25T19:01:54.748Z"
   },
   {
    "duration": 6,
    "start_time": "2024-07-25T19:01:54.781Z"
   },
   {
    "duration": 313,
    "start_time": "2024-07-25T19:01:54.790Z"
   },
   {
    "duration": 63855,
    "start_time": "2024-07-25T19:01:55.106Z"
   },
   {
    "duration": 292,
    "start_time": "2024-07-25T19:02:58.964Z"
   },
   {
    "duration": 819,
    "start_time": "2024-07-25T19:02:59.259Z"
   },
   {
    "duration": 60,
    "start_time": "2024-07-25T19:03:00.081Z"
   },
   {
    "duration": 220,
    "start_time": "2024-07-25T19:03:00.144Z"
   },
   {
    "duration": 115,
    "start_time": "2024-07-25T19:03:00.367Z"
   },
   {
    "duration": 104,
    "start_time": "2024-07-25T19:03:00.485Z"
   },
   {
    "duration": 5000,
    "start_time": "2024-07-25T19:03:00.592Z"
   },
   {
    "duration": 38,
    "start_time": "2024-07-25T19:03:05.595Z"
   },
   {
    "duration": 22,
    "start_time": "2024-07-25T19:03:05.636Z"
   },
   {
    "duration": 1489,
    "start_time": "2024-07-25T19:03:05.660Z"
   },
   {
    "duration": 10,
    "start_time": "2024-07-25T19:03:07.152Z"
   },
   {
    "duration": 13,
    "start_time": "2024-07-25T19:03:07.165Z"
   },
   {
    "duration": 109,
    "start_time": "2024-07-25T19:03:07.181Z"
   },
   {
    "duration": 33,
    "start_time": "2024-07-25T19:03:07.293Z"
   },
   {
    "duration": 31,
    "start_time": "2024-07-25T19:03:07.330Z"
   },
   {
    "duration": 9,
    "start_time": "2024-07-25T19:03:07.364Z"
   },
   {
    "duration": 62,
    "start_time": "2024-07-25T19:03:07.382Z"
   },
   {
    "duration": 14,
    "start_time": "2024-07-25T19:03:07.448Z"
   },
   {
    "duration": 30,
    "start_time": "2024-07-25T19:03:07.465Z"
   },
   {
    "duration": 16,
    "start_time": "2024-07-25T19:03:07.527Z"
   },
   {
    "duration": 6,
    "start_time": "2024-07-25T19:03:07.547Z"
   },
   {
    "duration": 32,
    "start_time": "2024-07-25T19:03:07.556Z"
   },
   {
    "duration": 35,
    "start_time": "2024-07-25T19:03:07.591Z"
   },
   {
    "duration": 14,
    "start_time": "2024-07-25T19:03:07.629Z"
   },
   {
    "duration": 81,
    "start_time": "2024-07-25T19:03:07.645Z"
   },
   {
    "duration": 1575,
    "start_time": "2024-07-25T19:03:07.729Z"
   },
   {
    "duration": 21,
    "start_time": "2024-07-25T19:03:09.307Z"
   },
   {
    "duration": 15,
    "start_time": "2024-07-25T19:03:09.332Z"
   },
   {
    "duration": 20,
    "start_time": "2024-07-25T19:03:09.350Z"
   },
   {
    "duration": 217,
    "start_time": "2024-07-25T19:03:09.375Z"
   },
   {
    "duration": 41,
    "start_time": "2024-07-25T19:03:09.594Z"
   },
   {
    "duration": 20,
    "start_time": "2024-07-25T19:03:09.638Z"
   },
   {
    "duration": 496,
    "start_time": "2024-07-25T19:03:09.661Z"
   },
   {
    "duration": 1248,
    "start_time": "2024-07-26T14:39:06.180Z"
   },
   {
    "duration": 655,
    "start_time": "2024-07-26T14:39:07.431Z"
   },
   {
    "duration": 66,
    "start_time": "2024-07-26T14:39:08.090Z"
   },
   {
    "duration": 16,
    "start_time": "2024-07-26T14:39:08.160Z"
   },
   {
    "duration": 15,
    "start_time": "2024-07-26T14:39:08.179Z"
   },
   {
    "duration": 44,
    "start_time": "2024-07-26T14:39:08.228Z"
   },
   {
    "duration": 80,
    "start_time": "2024-07-26T14:39:08.275Z"
   },
   {
    "duration": 152,
    "start_time": "2024-07-26T14:39:08.358Z"
   },
   {
    "duration": 229,
    "start_time": "2024-07-26T14:39:08.513Z"
   },
   {
    "duration": 14,
    "start_time": "2024-07-26T14:39:08.748Z"
   },
   {
    "duration": 13,
    "start_time": "2024-07-26T14:39:08.765Z"
   },
   {
    "duration": 45,
    "start_time": "2024-07-26T14:39:08.780Z"
   },
   {
    "duration": 230,
    "start_time": "2024-07-26T14:39:08.828Z"
   },
   {
    "duration": 327,
    "start_time": "2024-07-26T14:39:09.061Z"
   },
   {
    "duration": 6,
    "start_time": "2024-07-26T14:39:09.391Z"
   },
   {
    "duration": 54,
    "start_time": "2024-07-26T14:39:09.400Z"
   },
   {
    "duration": 36,
    "start_time": "2024-07-26T14:39:09.457Z"
   },
   {
    "duration": 31,
    "start_time": "2024-07-26T14:39:09.497Z"
   },
   {
    "duration": 301,
    "start_time": "2024-07-26T14:39:09.531Z"
   },
   {
    "duration": 64162,
    "start_time": "2024-07-26T14:39:09.835Z"
   },
   {
    "duration": 326,
    "start_time": "2024-07-26T14:40:14.000Z"
   },
   {
    "duration": 824,
    "start_time": "2024-07-26T14:40:14.329Z"
   },
   {
    "duration": 44,
    "start_time": "2024-07-26T14:40:15.156Z"
   },
   {
    "duration": 253,
    "start_time": "2024-07-26T14:40:15.203Z"
   },
   {
    "duration": 131,
    "start_time": "2024-07-26T14:40:15.459Z"
   },
   {
    "duration": 95,
    "start_time": "2024-07-26T14:40:15.592Z"
   },
   {
    "duration": 5024,
    "start_time": "2024-07-26T14:40:15.690Z"
   },
   {
    "duration": 31,
    "start_time": "2024-07-26T14:40:20.725Z"
   },
   {
    "duration": 21,
    "start_time": "2024-07-26T14:40:20.759Z"
   },
   {
    "duration": 1476,
    "start_time": "2024-07-26T14:40:20.783Z"
   },
   {
    "duration": 9,
    "start_time": "2024-07-26T14:40:22.262Z"
   },
   {
    "duration": 14,
    "start_time": "2024-07-26T14:40:22.275Z"
   },
   {
    "duration": 107,
    "start_time": "2024-07-26T14:40:22.293Z"
   },
   {
    "duration": 33,
    "start_time": "2024-07-26T14:40:22.403Z"
   },
   {
    "duration": 34,
    "start_time": "2024-07-26T14:40:22.439Z"
   },
   {
    "duration": 11,
    "start_time": "2024-07-26T14:40:22.476Z"
   },
   {
    "duration": 57,
    "start_time": "2024-07-26T14:40:22.490Z"
   },
   {
    "duration": 12,
    "start_time": "2024-07-26T14:40:22.551Z"
   },
   {
    "duration": 61,
    "start_time": "2024-07-26T14:40:22.566Z"
   },
   {
    "duration": 10,
    "start_time": "2024-07-26T14:40:22.630Z"
   },
   {
    "duration": 5,
    "start_time": "2024-07-26T14:40:22.643Z"
   },
   {
    "duration": 31,
    "start_time": "2024-07-26T14:40:22.651Z"
   },
   {
    "duration": 44,
    "start_time": "2024-07-26T14:40:22.685Z"
   },
   {
    "duration": 11,
    "start_time": "2024-07-26T14:40:22.732Z"
   },
   {
    "duration": 80,
    "start_time": "2024-07-26T14:40:22.746Z"
   },
   {
    "duration": 1526,
    "start_time": "2024-07-26T14:40:22.828Z"
   },
   {
    "duration": 6,
    "start_time": "2024-07-26T14:40:24.356Z"
   },
   {
    "duration": 12,
    "start_time": "2024-07-26T14:40:24.365Z"
   },
   {
    "duration": 54,
    "start_time": "2024-07-26T14:40:24.380Z"
   },
   {
    "duration": 213,
    "start_time": "2024-07-26T14:40:24.438Z"
   },
   {
    "duration": 25,
    "start_time": "2024-07-26T14:40:24.654Z"
   },
   {
    "duration": 44,
    "start_time": "2024-07-26T14:40:24.682Z"
   },
   {
    "duration": 148,
    "start_time": "2024-07-26T14:54:33.959Z"
   },
   {
    "duration": 983,
    "start_time": "2024-07-26T14:55:36.055Z"
   },
   {
    "duration": 296,
    "start_time": "2024-07-26T15:05:10.822Z"
   },
   {
    "duration": 256,
    "start_time": "2024-07-26T15:05:13.752Z"
   },
   {
    "duration": 259,
    "start_time": "2024-07-26T15:05:15.835Z"
   },
   {
    "duration": 1299,
    "start_time": "2024-07-29T04:16:10.262Z"
   },
   {
    "duration": 729,
    "start_time": "2024-07-29T04:16:11.565Z"
   },
   {
    "duration": 62,
    "start_time": "2024-07-29T04:16:12.296Z"
   },
   {
    "duration": 16,
    "start_time": "2024-07-29T04:16:12.362Z"
   },
   {
    "duration": 15,
    "start_time": "2024-07-29T04:16:12.383Z"
   },
   {
    "duration": 72,
    "start_time": "2024-07-29T04:16:12.401Z"
   },
   {
    "duration": 85,
    "start_time": "2024-07-29T04:16:12.477Z"
   },
   {
    "duration": 144,
    "start_time": "2024-07-29T04:16:12.565Z"
   },
   {
    "duration": 218,
    "start_time": "2024-07-29T04:16:12.712Z"
   },
   {
    "duration": 15,
    "start_time": "2024-07-29T04:16:12.935Z"
   },
   {
    "duration": 14,
    "start_time": "2024-07-29T04:16:12.953Z"
   },
   {
    "duration": 13,
    "start_time": "2024-07-29T04:16:12.971Z"
   },
   {
    "duration": 263,
    "start_time": "2024-07-29T04:16:12.987Z"
   },
   {
    "duration": 327,
    "start_time": "2024-07-29T04:16:13.258Z"
   },
   {
    "duration": 6,
    "start_time": "2024-07-29T04:16:13.589Z"
   },
   {
    "duration": 54,
    "start_time": "2024-07-29T04:16:13.598Z"
   },
   {
    "duration": 35,
    "start_time": "2024-07-29T04:16:13.655Z"
   },
   {
    "duration": 6,
    "start_time": "2024-07-29T04:16:13.692Z"
   },
   {
    "duration": 293,
    "start_time": "2024-07-29T04:16:13.735Z"
   },
   {
    "duration": 1308,
    "start_time": "2024-07-29T04:17:03.013Z"
   },
   {
    "duration": 687,
    "start_time": "2024-07-29T04:17:04.325Z"
   },
   {
    "duration": 197,
    "start_time": "2024-07-29T04:17:09.953Z"
   },
   {
    "duration": 4,
    "start_time": "2024-07-29T04:27:21.180Z"
   },
   {
    "duration": 668,
    "start_time": "2024-07-29T04:27:21.187Z"
   },
   {
    "duration": 77,
    "start_time": "2024-07-29T04:27:21.857Z"
   },
   {
    "duration": 17,
    "start_time": "2024-07-29T04:27:21.938Z"
   },
   {
    "duration": 15,
    "start_time": "2024-07-29T04:27:21.958Z"
   },
   {
    "duration": 73,
    "start_time": "2024-07-29T04:27:21.977Z"
   },
   {
    "duration": 83,
    "start_time": "2024-07-29T04:27:22.053Z"
   },
   {
    "duration": 153,
    "start_time": "2024-07-29T04:27:22.138Z"
   },
   {
    "duration": 229,
    "start_time": "2024-07-29T04:27:22.295Z"
   },
   {
    "duration": 18,
    "start_time": "2024-07-29T04:27:22.530Z"
   },
   {
    "duration": 16,
    "start_time": "2024-07-29T04:27:22.551Z"
   },
   {
    "duration": 13,
    "start_time": "2024-07-29T04:27:22.570Z"
   },
   {
    "duration": 256,
    "start_time": "2024-07-29T04:27:22.586Z"
   },
   {
    "duration": 337,
    "start_time": "2024-07-29T04:27:22.845Z"
   },
   {
    "duration": 6,
    "start_time": "2024-07-29T04:27:23.186Z"
   },
   {
    "duration": 59,
    "start_time": "2024-07-29T04:27:23.196Z"
   },
   {
    "duration": 52,
    "start_time": "2024-07-29T04:27:23.259Z"
   },
   {
    "duration": 6,
    "start_time": "2024-07-29T04:27:23.335Z"
   },
   {
    "duration": 333,
    "start_time": "2024-07-29T04:27:23.345Z"
   },
   {
    "duration": 4990,
    "start_time": "2024-07-29T13:36:18.433Z"
   },
   {
    "duration": 774,
    "start_time": "2024-07-29T13:36:23.428Z"
   },
   {
    "duration": 63,
    "start_time": "2024-07-29T13:36:24.206Z"
   },
   {
    "duration": 25,
    "start_time": "2024-07-29T13:36:24.272Z"
   },
   {
    "duration": 15,
    "start_time": "2024-07-29T13:36:24.301Z"
   },
   {
    "duration": 73,
    "start_time": "2024-07-29T13:36:24.320Z"
   },
   {
    "duration": 59,
    "start_time": "2024-07-29T13:36:24.396Z"
   },
   {
    "duration": 159,
    "start_time": "2024-07-29T13:36:24.458Z"
   },
   {
    "duration": 236,
    "start_time": "2024-07-29T13:36:24.620Z"
   },
   {
    "duration": 16,
    "start_time": "2024-07-29T13:36:24.859Z"
   },
   {
    "duration": 12,
    "start_time": "2024-07-29T13:36:24.892Z"
   },
   {
    "duration": 13,
    "start_time": "2024-07-29T13:36:24.907Z"
   },
   {
    "duration": 252,
    "start_time": "2024-07-29T13:36:24.922Z"
   },
   {
    "duration": 341,
    "start_time": "2024-07-29T13:36:25.181Z"
   },
   {
    "duration": 7,
    "start_time": "2024-07-29T13:36:25.524Z"
   },
   {
    "duration": 60,
    "start_time": "2024-07-29T13:36:25.535Z"
   },
   {
    "duration": 37,
    "start_time": "2024-07-29T13:36:25.598Z"
   },
   {
    "duration": 5,
    "start_time": "2024-07-29T13:36:25.638Z"
   },
   {
    "duration": 345,
    "start_time": "2024-07-29T13:36:25.646Z"
   },
   {
    "duration": 65127,
    "start_time": "2024-07-29T13:36:25.994Z"
   },
   {
    "duration": 344,
    "start_time": "2024-07-29T13:37:31.125Z"
   },
   {
    "duration": 772,
    "start_time": "2024-07-29T13:37:31.472Z"
   },
   {
    "duration": 61,
    "start_time": "2024-07-29T13:37:32.248Z"
   },
   {
    "duration": 236,
    "start_time": "2024-07-29T13:37:32.312Z"
   },
   {
    "duration": 132,
    "start_time": "2024-07-29T13:37:32.551Z"
   },
   {
    "duration": 96,
    "start_time": "2024-07-29T13:37:32.695Z"
   },
   {
    "duration": 4937,
    "start_time": "2024-07-29T13:37:32.794Z"
   },
   {
    "duration": 31,
    "start_time": "2024-07-29T13:37:37.733Z"
   },
   {
    "duration": 38,
    "start_time": "2024-07-29T13:37:37.767Z"
   },
   {
    "duration": 1463,
    "start_time": "2024-07-29T13:37:37.808Z"
   },
   {
    "duration": 9,
    "start_time": "2024-07-29T13:37:39.275Z"
   },
   {
    "duration": 13,
    "start_time": "2024-07-29T13:37:39.287Z"
   },
   {
    "duration": 96,
    "start_time": "2024-07-29T13:37:39.303Z"
   },
   {
    "duration": 15,
    "start_time": "2024-07-29T13:37:39.403Z"
   },
   {
    "duration": 32,
    "start_time": "2024-07-29T13:37:39.421Z"
   },
   {
    "duration": 43,
    "start_time": "2024-07-29T13:37:39.455Z"
   },
   {
    "duration": 26,
    "start_time": "2024-07-29T13:37:39.501Z"
   },
   {
    "duration": 13,
    "start_time": "2024-07-29T13:37:39.530Z"
   },
   {
    "duration": 60,
    "start_time": "2024-07-29T13:37:39.546Z"
   },
   {
    "duration": 11,
    "start_time": "2024-07-29T13:37:39.610Z"
   },
   {
    "duration": 6,
    "start_time": "2024-07-29T13:37:39.629Z"
   },
   {
    "duration": 67,
    "start_time": "2024-07-29T13:37:39.638Z"
   },
   {
    "duration": 7,
    "start_time": "2024-07-29T13:37:39.708Z"
   },
   {
    "duration": 11,
    "start_time": "2024-07-29T13:37:39.718Z"
   },
   {
    "duration": 86,
    "start_time": "2024-07-29T13:37:39.732Z"
   },
   {
    "duration": 1585,
    "start_time": "2024-07-29T13:37:39.821Z"
   },
   {
    "duration": 5,
    "start_time": "2024-07-29T13:37:41.409Z"
   },
   {
    "duration": 11,
    "start_time": "2024-07-29T13:37:41.417Z"
   },
   {
    "duration": 20,
    "start_time": "2024-07-29T13:37:41.431Z"
   },
   {
    "duration": 249,
    "start_time": "2024-07-29T13:37:41.454Z"
   },
   {
    "duration": 166,
    "start_time": "2024-07-29T13:37:41.706Z"
   },
   {
    "duration": 1043,
    "start_time": "2024-07-29T13:37:41.874Z"
   },
   {
    "duration": 312,
    "start_time": "2024-07-29T13:37:42.920Z"
   },
   {
    "duration": 272,
    "start_time": "2024-07-29T13:37:43.235Z"
   },
   {
    "duration": 426,
    "start_time": "2024-07-29T13:37:43.511Z"
   },
   {
    "duration": 50,
    "start_time": "2024-07-29T13:42:25.134Z"
   },
   {
    "duration": 1619,
    "start_time": "2024-07-29T13:43:58.271Z"
   },
   {
    "duration": 5,
    "start_time": "2024-07-29T14:02:28.748Z"
   },
   {
    "duration": 634,
    "start_time": "2024-07-29T14:02:28.758Z"
   },
   {
    "duration": 62,
    "start_time": "2024-07-29T14:02:29.395Z"
   },
   {
    "duration": 35,
    "start_time": "2024-07-29T14:02:29.461Z"
   },
   {
    "duration": 15,
    "start_time": "2024-07-29T14:02:29.500Z"
   },
   {
    "duration": 75,
    "start_time": "2024-07-29T14:02:29.518Z"
   },
   {
    "duration": 59,
    "start_time": "2024-07-29T14:02:29.596Z"
   },
   {
    "duration": 159,
    "start_time": "2024-07-29T14:02:29.657Z"
   },
   {
    "duration": 217,
    "start_time": "2024-07-29T14:02:29.819Z"
   },
   {
    "duration": 16,
    "start_time": "2024-07-29T14:02:30.042Z"
   },
   {
    "duration": 32,
    "start_time": "2024-07-29T14:02:30.061Z"
   },
   {
    "duration": 12,
    "start_time": "2024-07-29T14:02:30.096Z"
   },
   {
    "duration": 237,
    "start_time": "2024-07-29T14:02:30.111Z"
   },
   {
    "duration": 307,
    "start_time": "2024-07-29T14:02:30.351Z"
   },
   {
    "duration": 6,
    "start_time": "2024-07-29T14:02:30.661Z"
   },
   {
    "duration": 52,
    "start_time": "2024-07-29T14:02:30.670Z"
   },
   {
    "duration": 30,
    "start_time": "2024-07-29T14:02:30.725Z"
   },
   {
    "duration": 33,
    "start_time": "2024-07-29T14:02:30.759Z"
   },
   {
    "duration": 339,
    "start_time": "2024-07-29T14:02:30.795Z"
   },
   {
    "duration": 65411,
    "start_time": "2024-07-29T14:02:31.146Z"
   },
   {
    "duration": 320,
    "start_time": "2024-07-29T14:03:36.560Z"
   },
   {
    "duration": 830,
    "start_time": "2024-07-29T14:03:36.883Z"
   },
   {
    "duration": 45,
    "start_time": "2024-07-29T14:03:37.716Z"
   },
   {
    "duration": 242,
    "start_time": "2024-07-29T14:03:37.765Z"
   },
   {
    "duration": 118,
    "start_time": "2024-07-29T14:03:38.010Z"
   },
   {
    "duration": 99,
    "start_time": "2024-07-29T14:03:38.131Z"
   },
   {
    "duration": 4943,
    "start_time": "2024-07-29T14:03:38.232Z"
   },
   {
    "duration": 37,
    "start_time": "2024-07-29T14:03:43.184Z"
   },
   {
    "duration": 23,
    "start_time": "2024-07-29T14:03:43.224Z"
   },
   {
    "duration": 1572,
    "start_time": "2024-07-29T14:03:43.251Z"
   },
   {
    "duration": 10,
    "start_time": "2024-07-29T14:03:44.826Z"
   },
   {
    "duration": 15,
    "start_time": "2024-07-29T14:03:44.841Z"
   },
   {
    "duration": 86,
    "start_time": "2024-07-29T14:03:44.890Z"
   },
   {
    "duration": 17,
    "start_time": "2024-07-29T14:03:44.992Z"
   },
   {
    "duration": 37,
    "start_time": "2024-07-29T14:03:45.012Z"
   },
   {
    "duration": 45,
    "start_time": "2024-07-29T14:03:45.053Z"
   },
   {
    "duration": 26,
    "start_time": "2024-07-29T14:03:45.101Z"
   },
   {
    "duration": 14,
    "start_time": "2024-07-29T14:03:45.131Z"
   },
   {
    "duration": 67,
    "start_time": "2024-07-29T14:03:45.150Z"
   },
   {
    "duration": 12,
    "start_time": "2024-07-29T14:03:45.220Z"
   },
   {
    "duration": 7,
    "start_time": "2024-07-29T14:03:45.234Z"
   },
   {
    "duration": 68,
    "start_time": "2024-07-29T14:03:45.245Z"
   },
   {
    "duration": 8,
    "start_time": "2024-07-29T14:03:45.316Z"
   },
   {
    "duration": 11,
    "start_time": "2024-07-29T14:03:45.328Z"
   },
   {
    "duration": 86,
    "start_time": "2024-07-29T14:03:45.343Z"
   },
   {
    "duration": 1739,
    "start_time": "2024-07-29T14:03:45.432Z"
   },
   {
    "duration": 17,
    "start_time": "2024-07-29T14:03:47.174Z"
   },
   {
    "duration": 12,
    "start_time": "2024-07-29T14:03:47.194Z"
   },
   {
    "duration": 20,
    "start_time": "2024-07-29T14:03:47.209Z"
   },
   {
    "duration": 231,
    "start_time": "2024-07-29T14:03:47.232Z"
   },
   {
    "duration": 165,
    "start_time": "2024-07-29T14:03:47.469Z"
   },
   {
    "duration": 1144,
    "start_time": "2024-07-29T14:03:47.637Z"
   },
   {
    "duration": 301,
    "start_time": "2024-07-29T14:03:48.792Z"
   },
   {
    "duration": 287,
    "start_time": "2024-07-29T14:03:49.096Z"
   },
   {
    "duration": 517,
    "start_time": "2024-07-29T14:05:12.056Z"
   },
   {
    "duration": 4,
    "start_time": "2024-07-29T14:08:20.695Z"
   },
   {
    "duration": 726,
    "start_time": "2024-07-29T14:08:20.704Z"
   },
   {
    "duration": 69,
    "start_time": "2024-07-29T14:08:21.434Z"
   },
   {
    "duration": 17,
    "start_time": "2024-07-29T14:08:21.507Z"
   },
   {
    "duration": 15,
    "start_time": "2024-07-29T14:08:21.530Z"
   },
   {
    "duration": 76,
    "start_time": "2024-07-29T14:08:21.549Z"
   },
   {
    "duration": 83,
    "start_time": "2024-07-29T14:08:21.628Z"
   },
   {
    "duration": 158,
    "start_time": "2024-07-29T14:08:21.715Z"
   },
   {
    "duration": 230,
    "start_time": "2024-07-29T14:08:21.876Z"
   },
   {
    "duration": 17,
    "start_time": "2024-07-29T14:08:22.110Z"
   },
   {
    "duration": 14,
    "start_time": "2024-07-29T14:08:22.130Z"
   },
   {
    "duration": 44,
    "start_time": "2024-07-29T14:08:22.148Z"
   },
   {
    "duration": 235,
    "start_time": "2024-07-29T14:08:22.197Z"
   },
   {
    "duration": 380,
    "start_time": "2024-07-29T14:08:22.442Z"
   },
   {
    "duration": 7,
    "start_time": "2024-07-29T14:08:22.826Z"
   },
   {
    "duration": 72,
    "start_time": "2024-07-29T14:08:22.836Z"
   },
   {
    "duration": 33,
    "start_time": "2024-07-29T14:08:22.912Z"
   },
   {
    "duration": 8,
    "start_time": "2024-07-29T14:08:22.948Z"
   },
   {
    "duration": 372,
    "start_time": "2024-07-29T14:08:22.961Z"
   },
   {
    "duration": 64598,
    "start_time": "2024-07-29T14:08:23.337Z"
   },
   {
    "duration": 300,
    "start_time": "2024-07-29T14:09:27.938Z"
   },
   {
    "duration": 907,
    "start_time": "2024-07-29T14:09:28.241Z"
   },
   {
    "duration": 57,
    "start_time": "2024-07-29T14:09:29.151Z"
   },
   {
    "duration": 218,
    "start_time": "2024-07-29T14:09:29.210Z"
   },
   {
    "duration": 120,
    "start_time": "2024-07-29T14:09:29.431Z"
   },
   {
    "duration": 103,
    "start_time": "2024-07-29T14:09:29.555Z"
   },
   {
    "duration": 4963,
    "start_time": "2024-07-29T14:09:29.662Z"
   },
   {
    "duration": 33,
    "start_time": "2024-07-29T14:09:34.627Z"
   },
   {
    "duration": 50,
    "start_time": "2024-07-29T14:09:34.663Z"
   },
   {
    "duration": 1604,
    "start_time": "2024-07-29T14:09:34.717Z"
   },
   {
    "duration": 10,
    "start_time": "2024-07-29T14:09:36.325Z"
   },
   {
    "duration": 15,
    "start_time": "2024-07-29T14:09:36.338Z"
   },
   {
    "duration": 117,
    "start_time": "2024-07-29T14:09:36.356Z"
   },
   {
    "duration": 15,
    "start_time": "2024-07-29T14:09:36.493Z"
   },
   {
    "duration": 34,
    "start_time": "2024-07-29T14:09:36.515Z"
   },
   {
    "duration": 43,
    "start_time": "2024-07-29T14:09:36.552Z"
   },
   {
    "duration": 27,
    "start_time": "2024-07-29T14:09:36.599Z"
   },
   {
    "duration": 13,
    "start_time": "2024-07-29T14:09:36.629Z"
   },
   {
    "duration": 64,
    "start_time": "2024-07-29T14:09:36.645Z"
   },
   {
    "duration": 11,
    "start_time": "2024-07-29T14:09:36.713Z"
   },
   {
    "duration": 6,
    "start_time": "2024-07-29T14:09:36.734Z"
   },
   {
    "duration": 67,
    "start_time": "2024-07-29T14:09:36.745Z"
   },
   {
    "duration": 8,
    "start_time": "2024-07-29T14:09:36.816Z"
   },
   {
    "duration": 12,
    "start_time": "2024-07-29T14:09:36.827Z"
   },
   {
    "duration": 103,
    "start_time": "2024-07-29T14:09:36.843Z"
   },
   {
    "duration": 1707,
    "start_time": "2024-07-29T14:09:36.949Z"
   },
   {
    "duration": 5,
    "start_time": "2024-07-29T14:09:38.659Z"
   },
   {
    "duration": 30,
    "start_time": "2024-07-29T14:09:38.668Z"
   },
   {
    "duration": 17,
    "start_time": "2024-07-29T14:09:38.702Z"
   },
   {
    "duration": 230,
    "start_time": "2024-07-29T14:09:38.722Z"
   },
   {
    "duration": 173,
    "start_time": "2024-07-29T14:09:38.955Z"
   },
   {
    "duration": 1151,
    "start_time": "2024-07-29T14:09:39.131Z"
   },
   {
    "duration": 295,
    "start_time": "2024-07-29T14:09:40.291Z"
   },
   {
    "duration": 282,
    "start_time": "2024-07-29T14:09:40.591Z"
   },
   {
    "duration": 574,
    "start_time": "2024-07-29T14:09:40.879Z"
   }
  ],
  "kernelspec": {
   "display_name": "Python 3 (ipykernel)",
   "language": "python",
   "name": "python3"
  },
  "language_info": {
   "codemirror_mode": {
    "name": "ipython",
    "version": 3
   },
   "file_extension": ".py",
   "mimetype": "text/x-python",
   "name": "python",
   "nbconvert_exporter": "python",
   "pygments_lexer": "ipython3",
   "version": "3.9.19"
  },
  "toc": {
   "base_numbering": 1,
   "nav_menu": {},
   "number_sections": true,
   "sideBar": true,
   "skip_h1_title": true,
   "title_cell": "Table of Contents",
   "title_sidebar": "Contents",
   "toc_cell": false,
   "toc_position": {},
   "toc_section_display": true,
   "toc_window_display": false
  }
 },
 "nbformat": 4,
 "nbformat_minor": 2
}
